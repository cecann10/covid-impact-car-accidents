{
 "cells": [
  {
   "cell_type": "markdown",
   "metadata": {},
   "source": [
    "## Car Accidents During COVID Stay-At-Home Periods Analysis\n",
    "This notebook is using data collected and cleaned in the `car_accidents_eda.ipynb` notebook, and will be used for examining differences state-by-state for severity and frequency of car accidents.  Tableau graphs will be used for final graphs, but this notebook gives a sense of direction."
   ]
  },
  {
   "cell_type": "markdown",
   "metadata": {},
   "source": [
    "### TABLE OF CONTENTS\n",
    "1. [Setup](#Setup)\n",
    "2. [Top 20 States Analysis](#Top-20-States-Analysis)\n",
    "    - [California](#California)\n",
    "    - [Texas](#Texas)\n",
    "    - [Florida](#Florida)\n",
    "    - [South Carolina](#South-Carolina)\n",
    "    - [North Carolina](#North-Carolina)\n",
    "    - [New York](#New-York)\n",
    "    - [Pennsylvania](#Pennsylvania)\n",
    "    - [Illinois](#Illinois)\n",
    "    - [Virginia](#Virginia)\n",
    "    - [Michigan](#Michigan)\n",
    "    - [Georgia](#Georgia)\n",
    "    - [Oregon](#Oregon)\n",
    "    - [Minnesota](#Minnesota)\n",
    "    - [Arizona](#Arizona)\n",
    "    - [Tennessee](#Tennessee)\n",
    "    - [Washington](#Washington)\n",
    "    - [Ohio](#Ohio)\n",
    "    - [Louisiana](#Louisiana)\n",
    "    - [Oklahoma](#Oklahoma)\n",
    "    - [New Jersey](#New-Jersey)\n",
    "3. [Top 20 States Averages](#Top-20-States-Averages)"
   ]
  },
  {
   "cell_type": "markdown",
   "metadata": {},
   "source": [
    "First, import libraries and modules needed >"
   ]
  },
  {
   "cell_type": "code",
   "execution_count": 1,
   "metadata": {},
   "outputs": [],
   "source": [
    "import pickle\n",
    "import pandas as pd\n",
    "import numpy as np"
   ]
  },
  {
   "cell_type": "markdown",
   "metadata": {},
   "source": [
    "### Setup"
   ]
  },
  {
   "cell_type": "markdown",
   "metadata": {},
   "source": [
    "First import the dataset created and prepared for analysis >"
   ]
  },
  {
   "cell_type": "code",
   "execution_count": 2,
   "metadata": {},
   "outputs": [],
   "source": [
    "# open our master dataset for analysis\n",
    "\n",
    "with open('pickle/car_accidents_master.pickle','rb') as read_file:\n",
    "    car_accidents_master = pickle.load(read_file)"
   ]
  },
  {
   "cell_type": "markdown",
   "metadata": {},
   "source": [
    "Note that we are looking at our dataset before it was narrowed for modeling (e.g. only severity 2 & 3, only using mapquest-sourced data).  For the analysis we'll be doing here we can look at the full dataset.\n",
    "\n",
    "But first we'll narrow to only the columns we'll be using, which are date, state, whether in period of shutdown, and severity of the accident >"
   ]
  },
  {
   "cell_type": "code",
   "execution_count": 3,
   "metadata": {},
   "outputs": [],
   "source": [
    "accident_covid = car_accidents_master[['Severity','Date',\n",
    "                                       'State','Year','Month',\n",
    "                                       'Day','Day_Of_Week',\n",
    "                                       'Shut_Down'\n",
    "                                      ]]"
   ]
  },
  {
   "cell_type": "markdown",
   "metadata": {},
   "source": [
    "Now we'll look at amount of accidents in each states >"
   ]
  },
  {
   "cell_type": "code",
   "execution_count": 4,
   "metadata": {
    "collapsed": true,
    "jupyter": {
     "outputs_hidden": true
    }
   },
   "outputs": [
    {
     "data": {
      "text/plain": [
       "CA    816790\n",
       "TX    329264\n",
       "FL    258000\n",
       "SC    173255\n",
       "NC    165956\n",
       "NY    160803\n",
       "PA    106748\n",
       "IL     99686\n",
       "VA     96069\n",
       "MI     95959\n",
       "GA     93611\n",
       "OR     90104\n",
       "MN     81700\n",
       "AZ     78584\n",
       "TN     69895\n",
       "WA     68541\n",
       "OH     66137\n",
       "LA     61512\n",
       "OK     59972\n",
       "NJ     59052\n",
       "MD     53588\n",
       "UT     51672\n",
       "CO     49721\n",
       "AL     44619\n",
       "MA     39037\n",
       "IN     33746\n",
       "MO     33638\n",
       "CT     25898\n",
       "NE     23967\n",
       "KY     22553\n",
       "WI     20108\n",
       "RI     11753\n",
       "IA     11457\n",
       "NV     10634\n",
       "NH      7981\n",
       "KS      7937\n",
       "MS      6585\n",
       "DE      5739\n",
       "NM      5523\n",
       "DC      4818\n",
       "WV      2381\n",
       "ME      2242\n",
       "ID      2044\n",
       "AR      2012\n",
       "VT       701\n",
       "MT       511\n",
       "WY       507\n",
       "SD        61\n",
       "ND        44\n",
       "Name: State, dtype: int64"
      ]
     },
     "execution_count": 4,
     "metadata": {},
     "output_type": "execute_result"
    }
   ],
   "source": [
    "accident_covid.State.value_counts()"
   ]
  },
  {
   "cell_type": "markdown",
   "metadata": {},
   "source": [
    "And then see if we narrowed the number of states, how many we'd need to get to at least 75% of total accidents >"
   ]
  },
  {
   "cell_type": "code",
   "execution_count": 5,
   "metadata": {},
   "outputs": [
    {
     "data": {
      "text/plain": [
       "0.8629486936806794"
      ]
     },
     "execution_count": 5,
     "metadata": {},
     "output_type": "execute_result"
    }
   ],
   "source": [
    "accident_covid.State.value_counts()[:20].sum()/accident_covid.State.value_counts().sum()"
   ]
  },
  {
   "cell_type": "code",
   "execution_count": 6,
   "metadata": {},
   "outputs": [
    {
     "data": {
      "text/plain": [
       "CA    816790\n",
       "TX    329264\n",
       "FL    258000\n",
       "SC    173255\n",
       "NC    165956\n",
       "NY    160803\n",
       "PA    106748\n",
       "IL     99686\n",
       "VA     96069\n",
       "MI     95959\n",
       "GA     93611\n",
       "OR     90104\n",
       "MN     81700\n",
       "AZ     78584\n",
       "TN     69895\n",
       "WA     68541\n",
       "OH     66137\n",
       "LA     61512\n",
       "OK     59972\n",
       "NJ     59052\n",
       "Name: State, dtype: int64"
      ]
     },
     "execution_count": 6,
     "metadata": {},
     "output_type": "execute_result"
    }
   ],
   "source": [
    "accident_covid.State.value_counts()[:20]"
   ]
  },
  {
   "cell_type": "markdown",
   "metadata": {},
   "source": [
    "First we'll focus on the state with the highest amount of accidents, as they will provided more data to then draw better conclusions from and also are of greater interest since more need to address car accidents.  We'll focus on the 20 states that have the most car accidents, which also represent 86% of total accidents in our full dataset for the US.  Those states are: CA, TX, FL, SC, NC, NY, PA, IL, VA, MI, GA, OR, MN, AZ, TN, WA, OH, LA, OK, and NJ.  These states also vary in time period of shutdown and political leanings that may influence behavior around a shutdown period, so we have nice diversity for comparison.\n",
    "\n",
    "For each state, we'll create dataframes for separate periods we want to analyze and compare.  We'll compare stay-at-home order periods with past three years in that same period.\n",
    "\n",
    "First we'll create functions to get the data we'll need for each state >"
   ]
  },
  {
   "cell_type": "code",
   "execution_count": 7,
   "metadata": {},
   "outputs": [],
   "source": [
    "def severity_percent(state_data):\n",
    "    '''\n",
    "    Takes in state data and returns\n",
    "    a list of percentages for each \n",
    "    severity level to total accidents.\n",
    "    '''\n",
    "    percentages = []\n",
    "    if 1 not in sorted(state_data.Severity.unique()):\n",
    "        percentages.append(0)\n",
    "    \n",
    "    for x in sorted(state_data.Severity.unique()):\n",
    "        percent = state_data.Severity.value_counts()[x]/state_data.Severity.count()\n",
    "        percentages.append(round((percent*100),2))\n",
    "    \n",
    "    if 4 not in sorted(state_data.Severity.unique()):\n",
    "        percentages.append(0)\n",
    "    \n",
    "    return percentages"
   ]
  },
  {
   "cell_type": "code",
   "execution_count": 8,
   "metadata": {},
   "outputs": [],
   "source": [
    "def change_freq(state_freq_data):\n",
    "    '''\n",
    "    Takes in the dataframe for fequency of \n",
    "    car accidents for a state and outputs\n",
    "    the percent change from stay-home 2020\n",
    "    period compared to average of equivalent\n",
    "    periods 2017-2019 rounded to 2 decimals.\n",
    "    '''\n",
    "    freq_2020 = state_freq_data.Num_Accidents[1]\n",
    "    avg_freq = np.mean(state_freq_data.Num_Accidents[2:5])\n",
    "    \n",
    "    return round(((freq_2020 - avg_freq)/avg_freq * 100),2)"
   ]
  },
  {
   "cell_type": "markdown",
   "metadata": {},
   "source": [
    "-\n",
    "## Top 20 States Analysis"
   ]
  },
  {
   "cell_type": "markdown",
   "metadata": {},
   "source": [
    "### California"
   ]
  },
  {
   "cell_type": "markdown",
   "metadata": {},
   "source": [
    "First create periods we'll want to compare for the state >"
   ]
  },
  {
   "cell_type": "code",
   "execution_count": 11,
   "metadata": {},
   "outputs": [],
   "source": [
    "# full state period\n",
    "ca_ttl = accident_covid[(accident_covid.State == 'CA')]\n",
    "\n",
    "# shutdown period\n",
    "ca_sd = accident_covid[\n",
    "    (accident_covid.State == 'CA') & \n",
    "    (accident_covid.Shut_Down == 1)]\n",
    "\n",
    "# 2019 \n",
    "# note CA is still in shutdown, so we're comparing to when dataset ended in 2020\n",
    "#    not when their stay-at-home orders ended\n",
    "\n",
    "ca_2019 = accident_covid[(car_accidents_master['Date'] > '2019-03-19') & \n",
    "                         (car_accidents_master['Date'] <= '2019-06-30') & \n",
    "                         (car_accidents_master['State'] == 'CA')]\n",
    "\n",
    "# 2018\n",
    "ca_2018 = accident_covid[(car_accidents_master['Date'] > '2018-03-19') & \n",
    "                         (car_accidents_master['Date'] <= '2018-06-30') & \n",
    "                         (car_accidents_master['State'] == 'CA')]\n",
    "\n",
    "# 2017\n",
    "ca_2017 = accident_covid[(car_accidents_master['Date'] > '2017-03-19') & \n",
    "                         (car_accidents_master['Date'] <= '2017-06-30') & \n",
    "                         (car_accidents_master['State'] == 'CA')]"
   ]
  },
  {
   "cell_type": "markdown",
   "metadata": {},
   "source": [
    "#### Frequency\n",
    "Now compare frequencies (total number) of car accidents for total, shut-down period in 2020, 2019, 2018, and 2017 (2019, 2018, & 2017 being in same month-day date range as shut-down period) >"
   ]
  },
  {
   "cell_type": "code",
   "execution_count": 12,
   "metadata": {},
   "outputs": [
    {
     "data": {
      "text/html": [
       "<div>\n",
       "<style scoped>\n",
       "    .dataframe tbody tr th:only-of-type {\n",
       "        vertical-align: middle;\n",
       "    }\n",
       "\n",
       "    .dataframe tbody tr th {\n",
       "        vertical-align: top;\n",
       "    }\n",
       "\n",
       "    .dataframe thead th {\n",
       "        text-align: right;\n",
       "    }\n",
       "</style>\n",
       "<table border=\"1\" class=\"dataframe\">\n",
       "  <thead>\n",
       "    <tr style=\"text-align: right;\">\n",
       "      <th></th>\n",
       "      <th>Timeframe</th>\n",
       "      <th>Num_Accidents</th>\n",
       "    </tr>\n",
       "  </thead>\n",
       "  <tbody>\n",
       "    <tr>\n",
       "      <th>0</th>\n",
       "      <td>Total</td>\n",
       "      <td>816790</td>\n",
       "    </tr>\n",
       "    <tr>\n",
       "      <th>1</th>\n",
       "      <td>Shut_Down</td>\n",
       "      <td>76131</td>\n",
       "    </tr>\n",
       "    <tr>\n",
       "      <th>2</th>\n",
       "      <td>2019</td>\n",
       "      <td>38440</td>\n",
       "    </tr>\n",
       "    <tr>\n",
       "      <th>3</th>\n",
       "      <td>2018</td>\n",
       "      <td>46203</td>\n",
       "    </tr>\n",
       "    <tr>\n",
       "      <th>4</th>\n",
       "      <td>2017</td>\n",
       "      <td>44799</td>\n",
       "    </tr>\n",
       "  </tbody>\n",
       "</table>\n",
       "</div>"
      ],
      "text/plain": [
       "   Timeframe  Num_Accidents\n",
       "0      Total         816790\n",
       "1  Shut_Down          76131\n",
       "2       2019          38440\n",
       "3       2018          46203\n",
       "4       2017          44799"
      ]
     },
     "execution_count": 12,
     "metadata": {},
     "output_type": "execute_result"
    }
   ],
   "source": [
    "# find total frequencies for state total and in each period \n",
    "\n",
    "ca_freqs = [ca_ttl.shape[0],\n",
    "            ca_sd.shape[0],\n",
    "            ca_2019.shape[0],\n",
    "            ca_2018.shape[0],\n",
    "            ca_2017.shape[0]\n",
    "           ]\n",
    "\n",
    "# then develop a simple dataframe to compare them\n",
    "ca_freq_data = pd.DataFrame({'Timeframe': ['Total','Shut_Down',2019,2018,2017],\n",
    "                                 'Num_Accidents': ca_freqs})\n",
    "\n",
    "ca_freq_data"
   ]
  },
  {
   "cell_type": "code",
   "execution_count": 13,
   "metadata": {},
   "outputs": [
    {
     "name": "stdout",
     "output_type": "stream",
     "text": [
      "Change Frequency: 76.44%\n"
     ]
    }
   ],
   "source": [
    "# percent change in frequency in 2020 stay-home compared to average past years\n",
    "\n",
    "change = change_freq(ca_freq_data)\n",
    "print(\"Change Frequency: %.2f%%\" % (change))"
   ]
  },
  {
   "cell_type": "markdown",
   "metadata": {},
   "source": [
    "#### Severity\n",
    "Now compare severities of car accidents for total, shut-down period in 2020, 2019, 2018, and 2017 (2019, 2018 & 2017 being in same month-day date range as shut-down period) >"
   ]
  },
  {
   "cell_type": "code",
   "execution_count": 14,
   "metadata": {},
   "outputs": [
    {
     "data": {
      "text/html": [
       "<div>\n",
       "<style scoped>\n",
       "    .dataframe tbody tr th:only-of-type {\n",
       "        vertical-align: middle;\n",
       "    }\n",
       "\n",
       "    .dataframe tbody tr th {\n",
       "        vertical-align: top;\n",
       "    }\n",
       "\n",
       "    .dataframe thead th {\n",
       "        text-align: right;\n",
       "    }\n",
       "</style>\n",
       "<table border=\"1\" class=\"dataframe\">\n",
       "  <thead>\n",
       "    <tr style=\"text-align: right;\">\n",
       "      <th></th>\n",
       "      <th>Severity_Rank</th>\n",
       "      <th>TTL</th>\n",
       "      <th>Shut_Down</th>\n",
       "      <th>2019</th>\n",
       "      <th>2018</th>\n",
       "      <th>2017</th>\n",
       "    </tr>\n",
       "  </thead>\n",
       "  <tbody>\n",
       "    <tr>\n",
       "      <th>0</th>\n",
       "      <td>1</td>\n",
       "      <td>0.71</td>\n",
       "      <td>7.20</td>\n",
       "      <td>0.01</td>\n",
       "      <td>0.02</td>\n",
       "      <td>0.06</td>\n",
       "    </tr>\n",
       "    <tr>\n",
       "      <th>1</th>\n",
       "      <td>2</td>\n",
       "      <td>70.61</td>\n",
       "      <td>80.00</td>\n",
       "      <td>64.69</td>\n",
       "      <td>60.23</td>\n",
       "      <td>62.30</td>\n",
       "    </tr>\n",
       "    <tr>\n",
       "      <th>2</th>\n",
       "      <td>3</td>\n",
       "      <td>27.65</td>\n",
       "      <td>10.54</td>\n",
       "      <td>33.61</td>\n",
       "      <td>38.90</td>\n",
       "      <td>36.52</td>\n",
       "    </tr>\n",
       "    <tr>\n",
       "      <th>3</th>\n",
       "      <td>4</td>\n",
       "      <td>1.04</td>\n",
       "      <td>2.27</td>\n",
       "      <td>1.69</td>\n",
       "      <td>0.85</td>\n",
       "      <td>1.11</td>\n",
       "    </tr>\n",
       "  </tbody>\n",
       "</table>\n",
       "</div>"
      ],
      "text/plain": [
       "   Severity_Rank    TTL  Shut_Down   2019   2018   2017\n",
       "0              1   0.71       7.20   0.01   0.02   0.06\n",
       "1              2  70.61      80.00  64.69  60.23  62.30\n",
       "2              3  27.65      10.54  33.61  38.90  36.52\n",
       "3              4   1.04       2.27   1.69   0.85   1.11"
      ]
     },
     "execution_count": 14,
     "metadata": {},
     "output_type": "execute_result"
    }
   ],
   "source": [
    "# first find percentages of severity ranks to total accidents for \n",
    "#   total and for each period \n",
    "\n",
    "ca_sp_ttl = severity_percent(ca_ttl)\n",
    "ca_sp_sd = severity_percent(ca_sd)\n",
    "ca_sp_2019 = severity_percent(ca_2019)\n",
    "ca_sp_2018 = severity_percent(ca_2018)\n",
    "ca_sp_2017 = severity_percent(ca_2017)\n",
    "\n",
    "# then again create a simple dataframe for comparison\n",
    "\n",
    "ca_severity_data = pd.DataFrame({'Severity_Rank': [1,2,3,4],\n",
    "                                 'TTL': ca_sp_ttl,\n",
    "                                 'Shut_Down': ca_sp_sd,\n",
    "                                 '2019': ca_sp_2019,\n",
    "                                 '2018': ca_sp_2018,\n",
    "                                 '2017': ca_sp_2017,\n",
    "                                })\n",
    "\n",
    "ca_severity_data"
   ]
  },
  {
   "cell_type": "markdown",
   "metadata": {},
   "source": [
    "#### CA Takeaways:\n",
    "- See increase in fequency during shut down period compared to same periods in past three years\n",
    "- Seeing increase in 'edges' of severity -- 1 & 4 -- of car accidents with lowering of 'middle' severities -- 2 & 3 -- for shutdown period compared to average ttl and past year's prior periods"
   ]
  },
  {
   "cell_type": "markdown",
   "metadata": {},
   "source": [
    "-\n",
    "### Texas"
   ]
  },
  {
   "cell_type": "markdown",
   "metadata": {},
   "source": [
    "First create periods we'll want to compare for the state >"
   ]
  },
  {
   "cell_type": "code",
   "execution_count": 15,
   "metadata": {},
   "outputs": [],
   "source": [
    "# full state period\n",
    "tx_ttl = accident_covid[(accident_covid.State == 'TX')]\n",
    "\n",
    "# shutdown period\n",
    "tx_sd = accident_covid[\n",
    "    (accident_covid.State == 'TX') & \n",
    "    (accident_covid.Shut_Down == 1)]\n",
    "\n",
    "# 2019 \n",
    "tx_2019 = accident_covid[(car_accidents_master['Date'] > '2019-03-31') & \n",
    "                         (car_accidents_master['Date'] <= '2019-04-30') & \n",
    "                         (car_accidents_master['State'] == 'TX')]\n",
    "\n",
    "# 2018\n",
    "tx_2018 = accident_covid[(car_accidents_master['Date'] > '2018-03-31') & \n",
    "                         (car_accidents_master['Date'] <= '2018-04-30') & \n",
    "                         (car_accidents_master['State'] == 'TX')]\n",
    "\n",
    "# 2017\n",
    "tx_2017 = accident_covid[(car_accidents_master['Date'] > '2017-03-31') & \n",
    "                         (car_accidents_master['Date'] <= '2017-04-30') & \n",
    "                         (car_accidents_master['State'] == 'TX')]"
   ]
  },
  {
   "cell_type": "markdown",
   "metadata": {},
   "source": [
    "#### Frequency\n",
    "Now compare frequencies (total number) of car accidents for total, shut-down period in 2020, 2019, 2018, and 2017 (2019, 2018, & 2017 being in same month-day date range as shut-down period) >"
   ]
  },
  {
   "cell_type": "code",
   "execution_count": 16,
   "metadata": {},
   "outputs": [
    {
     "data": {
      "text/html": [
       "<div>\n",
       "<style scoped>\n",
       "    .dataframe tbody tr th:only-of-type {\n",
       "        vertical-align: middle;\n",
       "    }\n",
       "\n",
       "    .dataframe tbody tr th {\n",
       "        vertical-align: top;\n",
       "    }\n",
       "\n",
       "    .dataframe thead th {\n",
       "        text-align: right;\n",
       "    }\n",
       "</style>\n",
       "<table border=\"1\" class=\"dataframe\">\n",
       "  <thead>\n",
       "    <tr style=\"text-align: right;\">\n",
       "      <th></th>\n",
       "      <th>Timeframe</th>\n",
       "      <th>Num_Accidents</th>\n",
       "    </tr>\n",
       "  </thead>\n",
       "  <tbody>\n",
       "    <tr>\n",
       "      <th>0</th>\n",
       "      <td>Total</td>\n",
       "      <td>329264</td>\n",
       "    </tr>\n",
       "    <tr>\n",
       "      <th>1</th>\n",
       "      <td>Shut_Down</td>\n",
       "      <td>4391</td>\n",
       "    </tr>\n",
       "    <tr>\n",
       "      <th>2</th>\n",
       "      <td>2019</td>\n",
       "      <td>6496</td>\n",
       "    </tr>\n",
       "    <tr>\n",
       "      <th>3</th>\n",
       "      <td>2018</td>\n",
       "      <td>6823</td>\n",
       "    </tr>\n",
       "    <tr>\n",
       "      <th>4</th>\n",
       "      <td>2017</td>\n",
       "      <td>7809</td>\n",
       "    </tr>\n",
       "  </tbody>\n",
       "</table>\n",
       "</div>"
      ],
      "text/plain": [
       "   Timeframe  Num_Accidents\n",
       "0      Total         329264\n",
       "1  Shut_Down           4391\n",
       "2       2019           6496\n",
       "3       2018           6823\n",
       "4       2017           7809"
      ]
     },
     "execution_count": 16,
     "metadata": {},
     "output_type": "execute_result"
    }
   ],
   "source": [
    "# find total frequencies for state total and in each period \n",
    "\n",
    "tx_freqs = [tx_ttl.shape[0],\n",
    "            tx_sd.shape[0],\n",
    "            tx_2019.shape[0],\n",
    "            tx_2018.shape[0],\n",
    "            tx_2017.shape[0]\n",
    "           ]\n",
    "\n",
    "# then develop a simple dataframe to compare them\n",
    "tx_freq_data = pd.DataFrame({'Timeframe': ['Total','Shut_Down',2019,2018,2017],\n",
    "                                 'Num_Accidents': tx_freqs})\n",
    "\n",
    "tx_freq_data"
   ]
  },
  {
   "cell_type": "code",
   "execution_count": 17,
   "metadata": {},
   "outputs": [
    {
     "name": "stdout",
     "output_type": "stream",
     "text": [
      "Change Frequency: -37.65%\n"
     ]
    }
   ],
   "source": [
    "# percent change in frequency in 2020 stay-home compared to average past years\n",
    "\n",
    "change = change_freq(tx_freq_data)\n",
    "print(\"Change Frequency: %.2f%%\" % (change))"
   ]
  },
  {
   "cell_type": "markdown",
   "metadata": {},
   "source": [
    "#### Severity\n",
    "Now compare severities of car accidents for total, shut-down period in 2020, 2019, 2018, and 2017 (2019, 2018 & 2017 being in same month-day date range as shut-down period) >"
   ]
  },
  {
   "cell_type": "code",
   "execution_count": 18,
   "metadata": {},
   "outputs": [
    {
     "data": {
      "text/html": [
       "<div>\n",
       "<style scoped>\n",
       "    .dataframe tbody tr th:only-of-type {\n",
       "        vertical-align: middle;\n",
       "    }\n",
       "\n",
       "    .dataframe tbody tr th {\n",
       "        vertical-align: top;\n",
       "    }\n",
       "\n",
       "    .dataframe thead th {\n",
       "        text-align: right;\n",
       "    }\n",
       "</style>\n",
       "<table border=\"1\" class=\"dataframe\">\n",
       "  <thead>\n",
       "    <tr style=\"text-align: right;\">\n",
       "      <th></th>\n",
       "      <th>Severity_Rank</th>\n",
       "      <th>TTL</th>\n",
       "      <th>Shut_Down</th>\n",
       "      <th>2019</th>\n",
       "      <th>2018</th>\n",
       "      <th>2017</th>\n",
       "    </tr>\n",
       "  </thead>\n",
       "  <tbody>\n",
       "    <tr>\n",
       "      <th>0</th>\n",
       "      <td>1</td>\n",
       "      <td>0.32</td>\n",
       "      <td>6.40</td>\n",
       "      <td>0.03</td>\n",
       "      <td>0.03</td>\n",
       "      <td>0.03</td>\n",
       "    </tr>\n",
       "    <tr>\n",
       "      <th>1</th>\n",
       "      <td>2</td>\n",
       "      <td>71.01</td>\n",
       "      <td>54.18</td>\n",
       "      <td>72.52</td>\n",
       "      <td>70.22</td>\n",
       "      <td>73.52</td>\n",
       "    </tr>\n",
       "    <tr>\n",
       "      <th>2</th>\n",
       "      <td>3</td>\n",
       "      <td>27.23</td>\n",
       "      <td>34.50</td>\n",
       "      <td>25.94</td>\n",
       "      <td>28.64</td>\n",
       "      <td>25.27</td>\n",
       "    </tr>\n",
       "    <tr>\n",
       "      <th>3</th>\n",
       "      <td>4</td>\n",
       "      <td>1.43</td>\n",
       "      <td>4.92</td>\n",
       "      <td>1.51</td>\n",
       "      <td>1.11</td>\n",
       "      <td>1.19</td>\n",
       "    </tr>\n",
       "  </tbody>\n",
       "</table>\n",
       "</div>"
      ],
      "text/plain": [
       "   Severity_Rank    TTL  Shut_Down   2019   2018   2017\n",
       "0              1   0.32       6.40   0.03   0.03   0.03\n",
       "1              2  71.01      54.18  72.52  70.22  73.52\n",
       "2              3  27.23      34.50  25.94  28.64  25.27\n",
       "3              4   1.43       4.92   1.51   1.11   1.19"
      ]
     },
     "execution_count": 18,
     "metadata": {},
     "output_type": "execute_result"
    }
   ],
   "source": [
    "# first find percentages of severity ranks to total accidents for \n",
    "#   total and for each period \n",
    "\n",
    "tx_sp_ttl = severity_percent(tx_ttl)\n",
    "tx_sp_sd = severity_percent(tx_sd)\n",
    "tx_sp_2019 = severity_percent(tx_2019)\n",
    "tx_sp_2018 = severity_percent(tx_2018)\n",
    "tx_sp_2017 = severity_percent(tx_2017)\n",
    "\n",
    "# then again create a simple dataframe for comparison\n",
    "\n",
    "tx_severity_data = pd.DataFrame({'Severity_Rank': [1,2,3,4],\n",
    "                                 'TTL': tx_sp_ttl,\n",
    "                                 'Shut_Down': tx_sp_sd,\n",
    "                                 '2019': tx_sp_2019,\n",
    "                                 '2018': tx_sp_2018,\n",
    "                                 '2017': tx_sp_2017\n",
    "                                })\n",
    "\n",
    "tx_severity_data"
   ]
  },
  {
   "cell_type": "markdown",
   "metadata": {},
   "source": [
    "#### TX Takeaways:\n",
    "- Frequency: Unlike CA, TX had a drop in frequency during shutdown compared to past periods\n",
    "- Severity: Similar to CA, still the 'edges' of severity (1 & 4) growing, 4 in particular to a greater degree than CA "
   ]
  },
  {
   "cell_type": "markdown",
   "metadata": {},
   "source": [
    "-\n",
    "### Florida\n",
    "\n",
    "First create periods we'll want to compare for the state >"
   ]
  },
  {
   "cell_type": "code",
   "execution_count": 19,
   "metadata": {},
   "outputs": [],
   "source": [
    "# full state period\n",
    "fl_ttl = accident_covid[(accident_covid.State == 'FL')]\n",
    "\n",
    "# shutdown period\n",
    "fl_sd = accident_covid[\n",
    "    (accident_covid.State == 'FL') & \n",
    "    (accident_covid.Shut_Down == 1)]\n",
    "\n",
    "# 2019 \n",
    "fl_2019 = accident_covid[(car_accidents_master['Date'] > '2019-04-03') & \n",
    "                         (car_accidents_master['Date'] <= '2019-04-30') & \n",
    "                         (car_accidents_master['State'] == 'FL')]\n",
    "\n",
    "# 2018\n",
    "fl_2018 = accident_covid[(car_accidents_master['Date'] > '2018-04-03') & \n",
    "                         (car_accidents_master['Date'] <= '2018-04-30') & \n",
    "                         (car_accidents_master['State'] == 'FL')]\n",
    "\n",
    "# 2017\n",
    "fl_2017 = accident_covid[(car_accidents_master['Date'] > '2017-04-03') & \n",
    "                         (car_accidents_master['Date'] <= '2017-04-30') & \n",
    "                         (car_accidents_master['State'] == 'FL')]"
   ]
  },
  {
   "cell_type": "markdown",
   "metadata": {},
   "source": [
    "#### Frequency\n",
    "Now compare frequencies (total number) of car accidents for total, shut-down period in 2020, 2019, 2018, and 2017 (2019, 2018, & 2017 being in same month-day date range as shut-down period) >"
   ]
  },
  {
   "cell_type": "code",
   "execution_count": 20,
   "metadata": {},
   "outputs": [
    {
     "data": {
      "text/html": [
       "<div>\n",
       "<style scoped>\n",
       "    .dataframe tbody tr th:only-of-type {\n",
       "        vertical-align: middle;\n",
       "    }\n",
       "\n",
       "    .dataframe tbody tr th {\n",
       "        vertical-align: top;\n",
       "    }\n",
       "\n",
       "    .dataframe thead th {\n",
       "        text-align: right;\n",
       "    }\n",
       "</style>\n",
       "<table border=\"1\" class=\"dataframe\">\n",
       "  <thead>\n",
       "    <tr style=\"text-align: right;\">\n",
       "      <th></th>\n",
       "      <th>Timeframe</th>\n",
       "      <th>Num_Accidents</th>\n",
       "    </tr>\n",
       "  </thead>\n",
       "  <tbody>\n",
       "    <tr>\n",
       "      <th>0</th>\n",
       "      <td>Total</td>\n",
       "      <td>258000</td>\n",
       "    </tr>\n",
       "    <tr>\n",
       "      <th>1</th>\n",
       "      <td>Shut_Down</td>\n",
       "      <td>4941</td>\n",
       "    </tr>\n",
       "    <tr>\n",
       "      <th>2</th>\n",
       "      <td>2019</td>\n",
       "      <td>4623</td>\n",
       "    </tr>\n",
       "    <tr>\n",
       "      <th>3</th>\n",
       "      <td>2018</td>\n",
       "      <td>5023</td>\n",
       "    </tr>\n",
       "    <tr>\n",
       "      <th>4</th>\n",
       "      <td>2017</td>\n",
       "      <td>4256</td>\n",
       "    </tr>\n",
       "  </tbody>\n",
       "</table>\n",
       "</div>"
      ],
      "text/plain": [
       "   Timeframe  Num_Accidents\n",
       "0      Total         258000\n",
       "1  Shut_Down           4941\n",
       "2       2019           4623\n",
       "3       2018           5023\n",
       "4       2017           4256"
      ]
     },
     "execution_count": 20,
     "metadata": {},
     "output_type": "execute_result"
    }
   ],
   "source": [
    "# find total frequencies for state total and in each period \n",
    "\n",
    "fl_freqs = [fl_ttl.shape[0],\n",
    "            fl_sd.shape[0],\n",
    "            fl_2019.shape[0],\n",
    "            fl_2018.shape[0],\n",
    "            fl_2017.shape[0]\n",
    "           ]\n",
    "\n",
    "# then develop a simple dataframe to compare them\n",
    "fl_freq_data = pd.DataFrame({'Timeframe': ['Total','Shut_Down',2019,2018,2017],\n",
    "                                 'Num_Accidents': fl_freqs})\n",
    "\n",
    "fl_freq_data"
   ]
  },
  {
   "cell_type": "code",
   "execution_count": 21,
   "metadata": {},
   "outputs": [
    {
     "name": "stdout",
     "output_type": "stream",
     "text": [
      "Change Frequency: 6.62%\n"
     ]
    }
   ],
   "source": [
    "# percent change in frequency in 2020 stay-home compared to average past years\n",
    "\n",
    "change = change_freq(fl_freq_data)\n",
    "print(\"Change Frequency: %.2f%%\" % (change))"
   ]
  },
  {
   "cell_type": "markdown",
   "metadata": {},
   "source": [
    "#### Severity\n",
    "Now compare severities of car accidents for total, shut-down period in 2020, 2019, 2018, and 2017 (2019, 2018 & 2017 being in same month-day date range as shut-down period) >"
   ]
  },
  {
   "cell_type": "code",
   "execution_count": 22,
   "metadata": {},
   "outputs": [
    {
     "data": {
      "text/html": [
       "<div>\n",
       "<style scoped>\n",
       "    .dataframe tbody tr th:only-of-type {\n",
       "        vertical-align: middle;\n",
       "    }\n",
       "\n",
       "    .dataframe tbody tr th {\n",
       "        vertical-align: top;\n",
       "    }\n",
       "\n",
       "    .dataframe thead th {\n",
       "        text-align: right;\n",
       "    }\n",
       "</style>\n",
       "<table border=\"1\" class=\"dataframe\">\n",
       "  <thead>\n",
       "    <tr style=\"text-align: right;\">\n",
       "      <th></th>\n",
       "      <th>Severity_Rank</th>\n",
       "      <th>TTL</th>\n",
       "      <th>Shut_Down</th>\n",
       "      <th>2019</th>\n",
       "      <th>2018</th>\n",
       "      <th>2017</th>\n",
       "    </tr>\n",
       "  </thead>\n",
       "  <tbody>\n",
       "    <tr>\n",
       "      <th>0</th>\n",
       "      <td>1</td>\n",
       "      <td>1.17</td>\n",
       "      <td>17.63</td>\n",
       "      <td>0.00</td>\n",
       "      <td>0.00</td>\n",
       "      <td>0.07</td>\n",
       "    </tr>\n",
       "    <tr>\n",
       "      <th>1</th>\n",
       "      <td>2</td>\n",
       "      <td>64.15</td>\n",
       "      <td>58.23</td>\n",
       "      <td>65.35</td>\n",
       "      <td>62.45</td>\n",
       "      <td>70.32</td>\n",
       "    </tr>\n",
       "    <tr>\n",
       "      <th>2</th>\n",
       "      <td>3</td>\n",
       "      <td>31.23</td>\n",
       "      <td>20.50</td>\n",
       "      <td>29.12</td>\n",
       "      <td>35.24</td>\n",
       "      <td>27.68</td>\n",
       "    </tr>\n",
       "    <tr>\n",
       "      <th>3</th>\n",
       "      <td>4</td>\n",
       "      <td>3.46</td>\n",
       "      <td>3.64</td>\n",
       "      <td>5.54</td>\n",
       "      <td>2.31</td>\n",
       "      <td>1.93</td>\n",
       "    </tr>\n",
       "  </tbody>\n",
       "</table>\n",
       "</div>"
      ],
      "text/plain": [
       "   Severity_Rank    TTL  Shut_Down   2019   2018   2017\n",
       "0              1   1.17      17.63   0.00   0.00   0.07\n",
       "1              2  64.15      58.23  65.35  62.45  70.32\n",
       "2              3  31.23      20.50  29.12  35.24  27.68\n",
       "3              4   3.46       3.64   5.54   2.31   1.93"
      ]
     },
     "execution_count": 22,
     "metadata": {},
     "output_type": "execute_result"
    }
   ],
   "source": [
    "# first find percentages of severity ranks to total accidents for \n",
    "#   total and for each period \n",
    "\n",
    "fl_sp_ttl = severity_percent(fl_ttl)\n",
    "fl_sp_sd = severity_percent(fl_sd)\n",
    "fl_sp_2019 = severity_percent(fl_2019)\n",
    "fl_sp_2018 = severity_percent(fl_2018)\n",
    "fl_sp_2017 = severity_percent(fl_2017)\n",
    "\n",
    "# then again create a simple dataframe for comparison\n",
    "\n",
    "fl_severity_data = pd.DataFrame({'Severity_Rank': [1,2,3,4],\n",
    "                                 'TTL': fl_sp_ttl,\n",
    "                                 'Shut_Down': fl_sp_sd,\n",
    "                                 '2019': fl_sp_2019,\n",
    "                                 '2018': fl_sp_2018,\n",
    "                                 '2017': fl_sp_2017\n",
    "                                })\n",
    "\n",
    "fl_severity_data"
   ]
  },
  {
   "cell_type": "markdown",
   "metadata": {},
   "source": [
    "#### FL Takeaways:\n",
    "- Frequency: Not really much change positively or negatively for shutdown compared to past periods\n",
    "- Severity: Don't see a lot of difference in severity 4 as with CA & TX, but do see significant increase in 1s while 2 & 3 dropped"
   ]
  },
  {
   "cell_type": "markdown",
   "metadata": {},
   "source": [
    "-\n",
    "### South Carolina\n",
    "\n",
    "First create periods we'll want to compare for the state >"
   ]
  },
  {
   "cell_type": "code",
   "execution_count": 23,
   "metadata": {},
   "outputs": [],
   "source": [
    "# full state period\n",
    "sc_ttl = accident_covid[(accident_covid.State == 'SC')]\n",
    "\n",
    "# shutdown period\n",
    "sc_sd = accident_covid[\n",
    "    (accident_covid.State == 'SC') & \n",
    "    (accident_covid.Shut_Down == 1)]\n",
    "\n",
    "# 2019 \n",
    "sc_2019 = accident_covid[(car_accidents_master['Date'] > '2019-04-06') & \n",
    "                         (car_accidents_master['Date'] <= '2019-05-04') & \n",
    "                         (car_accidents_master['State'] == 'SC')]\n",
    "\n",
    "# 2018\n",
    "sc_2018 = accident_covid[(car_accidents_master['Date'] > '2018-04-06') & \n",
    "                         (car_accidents_master['Date'] <= '2018-05-04') & \n",
    "                         (car_accidents_master['State'] == 'SC')]\n",
    "\n",
    "# 2017\n",
    "sc_2017 = accident_covid[(car_accidents_master['Date'] > '2017-04-06') & \n",
    "                         (car_accidents_master['Date'] <= '2017-05-04') & \n",
    "                         (car_accidents_master['State'] == 'SC')]"
   ]
  },
  {
   "cell_type": "markdown",
   "metadata": {},
   "source": [
    "#### Frequency\n",
    "Now compare frequencies (total number) of car accidents for total, shut-down period in 2020, 2019, 2018, and 2017 (2019, 2018, & 2017 being in same month-day date range as shut-down period) >"
   ]
  },
  {
   "cell_type": "code",
   "execution_count": 24,
   "metadata": {},
   "outputs": [
    {
     "data": {
      "text/html": [
       "<div>\n",
       "<style scoped>\n",
       "    .dataframe tbody tr th:only-of-type {\n",
       "        vertical-align: middle;\n",
       "    }\n",
       "\n",
       "    .dataframe tbody tr th {\n",
       "        vertical-align: top;\n",
       "    }\n",
       "\n",
       "    .dataframe thead th {\n",
       "        text-align: right;\n",
       "    }\n",
       "</style>\n",
       "<table border=\"1\" class=\"dataframe\">\n",
       "  <thead>\n",
       "    <tr style=\"text-align: right;\">\n",
       "      <th></th>\n",
       "      <th>Timeframe</th>\n",
       "      <th>Num_Accidents</th>\n",
       "    </tr>\n",
       "  </thead>\n",
       "  <tbody>\n",
       "    <tr>\n",
       "      <th>0</th>\n",
       "      <td>Total</td>\n",
       "      <td>173255</td>\n",
       "    </tr>\n",
       "    <tr>\n",
       "      <th>1</th>\n",
       "      <td>Shut_Down</td>\n",
       "      <td>4142</td>\n",
       "    </tr>\n",
       "    <tr>\n",
       "      <th>2</th>\n",
       "      <td>2019</td>\n",
       "      <td>4481</td>\n",
       "    </tr>\n",
       "    <tr>\n",
       "      <th>3</th>\n",
       "      <td>2018</td>\n",
       "      <td>5119</td>\n",
       "    </tr>\n",
       "    <tr>\n",
       "      <th>4</th>\n",
       "      <td>2017</td>\n",
       "      <td>455</td>\n",
       "    </tr>\n",
       "  </tbody>\n",
       "</table>\n",
       "</div>"
      ],
      "text/plain": [
       "   Timeframe  Num_Accidents\n",
       "0      Total         173255\n",
       "1  Shut_Down           4142\n",
       "2       2019           4481\n",
       "3       2018           5119\n",
       "4       2017            455"
      ]
     },
     "execution_count": 24,
     "metadata": {},
     "output_type": "execute_result"
    }
   ],
   "source": [
    "# find total frequencies for state total and in each period \n",
    "\n",
    "sc_freqs = [sc_ttl.shape[0],\n",
    "            sc_sd.shape[0],\n",
    "            sc_2019.shape[0],\n",
    "            sc_2018.shape[0],\n",
    "            sc_2017.shape[0]\n",
    "           ]\n",
    "\n",
    "# then develop a simple dataframe to compare them\n",
    "sc_freq_data = pd.DataFrame({'Timeframe': ['Total','Shut_Down',2019,2018,2017],\n",
    "                                 'Num_Accidents': sc_freqs})\n",
    "\n",
    "sc_freq_data"
   ]
  },
  {
   "cell_type": "code",
   "execution_count": 25,
   "metadata": {},
   "outputs": [
    {
     "name": "stdout",
     "output_type": "stream",
     "text": [
      "Change Frequency: 23.58%\n"
     ]
    }
   ],
   "source": [
    "# percent change in frequency in 2020 stay-home compared to average past years\n",
    "\n",
    "change = change_freq(sc_freq_data)\n",
    "print(\"Change Frequency: %.2f%%\" % (change))"
   ]
  },
  {
   "cell_type": "markdown",
   "metadata": {},
   "source": [
    "#### Severity\n",
    "Now compare severities of car accidents for total, shut-down period in 2020, 2019, 2018, and 2017 (2019, 2018 & 2017 being in same month-day date range as shut-down period) >"
   ]
  },
  {
   "cell_type": "code",
   "execution_count": 26,
   "metadata": {},
   "outputs": [
    {
     "data": {
      "text/html": [
       "<div>\n",
       "<style scoped>\n",
       "    .dataframe tbody tr th:only-of-type {\n",
       "        vertical-align: middle;\n",
       "    }\n",
       "\n",
       "    .dataframe tbody tr th {\n",
       "        vertical-align: top;\n",
       "    }\n",
       "\n",
       "    .dataframe thead th {\n",
       "        text-align: right;\n",
       "    }\n",
       "</style>\n",
       "<table border=\"1\" class=\"dataframe\">\n",
       "  <thead>\n",
       "    <tr style=\"text-align: right;\">\n",
       "      <th></th>\n",
       "      <th>Severity_Rank</th>\n",
       "      <th>TTL</th>\n",
       "      <th>Shut_Down</th>\n",
       "      <th>2019</th>\n",
       "      <th>2018</th>\n",
       "      <th>2017</th>\n",
       "    </tr>\n",
       "  </thead>\n",
       "  <tbody>\n",
       "    <tr>\n",
       "      <th>0</th>\n",
       "      <td>1</td>\n",
       "      <td>0.07</td>\n",
       "      <td>0.56</td>\n",
       "      <td>0.02</td>\n",
       "      <td>0.02</td>\n",
       "      <td>0.22</td>\n",
       "    </tr>\n",
       "    <tr>\n",
       "      <th>1</th>\n",
       "      <td>2</td>\n",
       "      <td>79.28</td>\n",
       "      <td>90.56</td>\n",
       "      <td>77.15</td>\n",
       "      <td>76.40</td>\n",
       "      <td>81.98</td>\n",
       "    </tr>\n",
       "    <tr>\n",
       "      <th>2</th>\n",
       "      <td>3</td>\n",
       "      <td>19.98</td>\n",
       "      <td>8.16</td>\n",
       "      <td>21.85</td>\n",
       "      <td>23.36</td>\n",
       "      <td>14.95</td>\n",
       "    </tr>\n",
       "    <tr>\n",
       "      <th>3</th>\n",
       "      <td>4</td>\n",
       "      <td>0.68</td>\n",
       "      <td>0.72</td>\n",
       "      <td>0.98</td>\n",
       "      <td>0.21</td>\n",
       "      <td>2.86</td>\n",
       "    </tr>\n",
       "  </tbody>\n",
       "</table>\n",
       "</div>"
      ],
      "text/plain": [
       "   Severity_Rank    TTL  Shut_Down   2019   2018   2017\n",
       "0              1   0.07       0.56   0.02   0.02   0.22\n",
       "1              2  79.28      90.56  77.15  76.40  81.98\n",
       "2              3  19.98       8.16  21.85  23.36  14.95\n",
       "3              4   0.68       0.72   0.98   0.21   2.86"
      ]
     },
     "execution_count": 26,
     "metadata": {},
     "output_type": "execute_result"
    }
   ],
   "source": [
    "# first find percentages of severity ranks to total accidents for \n",
    "#   total and for each period \n",
    "\n",
    "sc_sp_ttl = severity_percent(sc_ttl)\n",
    "sc_sp_sd = severity_percent(sc_sd)\n",
    "sc_sp_2019 = severity_percent(sc_2019)\n",
    "sc_sp_2018 = severity_percent(sc_2018)\n",
    "sc_sp_2017 = severity_percent(sc_2017)\n",
    "\n",
    "# then again create a simple dataframe for comparison\n",
    "\n",
    "sc_severity_data = pd.DataFrame({'Severity_Rank': [1,2,3,4],\n",
    "                                 'TTL': sc_sp_ttl,\n",
    "                                 'Shut_Down': sc_sp_sd,\n",
    "                                 '2019': sc_sp_2019,\n",
    "                                 '2018': sc_sp_2018,\n",
    "                                 '2017': sc_sp_2017\n",
    "                                })\n",
    "\n",
    "sc_severity_data"
   ]
  },
  {
   "cell_type": "markdown",
   "metadata": {},
   "source": [
    "#### SC Takeaways:\n",
    "- Frequency: no significant difference for shutdown period.  2017 seems low, but this may be due to less data collected that year. \n",
    "- Severity: in general, seemed to lower in severity.  See more 1 & 2 and less 3 & 4"
   ]
  },
  {
   "cell_type": "markdown",
   "metadata": {},
   "source": [
    "-\n",
    "### North Carolina\n",
    "\n",
    "First create periods we'll want to compare for the state >"
   ]
  },
  {
   "cell_type": "code",
   "execution_count": 27,
   "metadata": {},
   "outputs": [],
   "source": [
    "# full state period\n",
    "nc_ttl = accident_covid[(accident_covid.State == 'NC')]\n",
    "\n",
    "# shutdown period\n",
    "nc_sd = accident_covid[\n",
    "    (accident_covid.State == 'NC') & \n",
    "    (accident_covid.Shut_Down == 1)]\n",
    "\n",
    "# 2019 \n",
    "nc_2019 = accident_covid[(car_accidents_master['Date'] > '2019-03-30') & \n",
    "                         (car_accidents_master['Date'] <= '2019-05-22') & \n",
    "                         (car_accidents_master['State'] == 'NC')]\n",
    "\n",
    "# 2018\n",
    "nc_2018 = accident_covid[(car_accidents_master['Date'] > '2018-03-30') & \n",
    "                         (car_accidents_master['Date'] <= '2018-05-22') & \n",
    "                         (car_accidents_master['State'] == 'NC')]\n",
    "\n",
    "# 2017\n",
    "nc_2017 = accident_covid[(car_accidents_master['Date'] > '2017-03-30') & \n",
    "                         (car_accidents_master['Date'] <= '2017-05-22') & \n",
    "                         (car_accidents_master['State'] == 'NC')]"
   ]
  },
  {
   "cell_type": "markdown",
   "metadata": {},
   "source": [
    "#### Frequency\n",
    "Now compare frequencies (total number) of car accidents for total, shut-down period in 2020, 2019, 2018, and 2017 (2019, 2018, & 2017 being in same month-day date range as shut-down period) >"
   ]
  },
  {
   "cell_type": "code",
   "execution_count": 28,
   "metadata": {},
   "outputs": [
    {
     "data": {
      "text/html": [
       "<div>\n",
       "<style scoped>\n",
       "    .dataframe tbody tr th:only-of-type {\n",
       "        vertical-align: middle;\n",
       "    }\n",
       "\n",
       "    .dataframe tbody tr th {\n",
       "        vertical-align: top;\n",
       "    }\n",
       "\n",
       "    .dataframe thead th {\n",
       "        text-align: right;\n",
       "    }\n",
       "</style>\n",
       "<table border=\"1\" class=\"dataframe\">\n",
       "  <thead>\n",
       "    <tr style=\"text-align: right;\">\n",
       "      <th></th>\n",
       "      <th>Timeframe</th>\n",
       "      <th>Num_Accidents</th>\n",
       "    </tr>\n",
       "  </thead>\n",
       "  <tbody>\n",
       "    <tr>\n",
       "      <th>0</th>\n",
       "      <td>Total</td>\n",
       "      <td>165956</td>\n",
       "    </tr>\n",
       "    <tr>\n",
       "      <th>1</th>\n",
       "      <td>Shut_Down</td>\n",
       "      <td>7641</td>\n",
       "    </tr>\n",
       "    <tr>\n",
       "      <th>2</th>\n",
       "      <td>2019</td>\n",
       "      <td>7539</td>\n",
       "    </tr>\n",
       "    <tr>\n",
       "      <th>3</th>\n",
       "      <td>2018</td>\n",
       "      <td>9659</td>\n",
       "    </tr>\n",
       "    <tr>\n",
       "      <th>4</th>\n",
       "      <td>2017</td>\n",
       "      <td>1530</td>\n",
       "    </tr>\n",
       "  </tbody>\n",
       "</table>\n",
       "</div>"
      ],
      "text/plain": [
       "   Timeframe  Num_Accidents\n",
       "0      Total         165956\n",
       "1  Shut_Down           7641\n",
       "2       2019           7539\n",
       "3       2018           9659\n",
       "4       2017           1530"
      ]
     },
     "execution_count": 28,
     "metadata": {},
     "output_type": "execute_result"
    }
   ],
   "source": [
    "# find total frequencies for state total and in each period \n",
    "\n",
    "nc_freqs = [nc_ttl.shape[0],\n",
    "            nc_sd.shape[0],\n",
    "            nc_2019.shape[0],\n",
    "            nc_2018.shape[0],\n",
    "            nc_2017.shape[0]\n",
    "           ]\n",
    "\n",
    "# then develop a simple dataframe to compare them\n",
    "nc_freq_data = pd.DataFrame({'Timeframe': ['Total','Shut_Down',2019,2018,2017],\n",
    "                                 'Num_Accidents': nc_freqs})\n",
    "\n",
    "nc_freq_data"
   ]
  },
  {
   "cell_type": "code",
   "execution_count": 29,
   "metadata": {},
   "outputs": [
    {
     "name": "stdout",
     "output_type": "stream",
     "text": [
      "Change Frequency: 22.40%\n"
     ]
    }
   ],
   "source": [
    "# percent change in frequency in 2020 stay-home compared to average past years\n",
    "\n",
    "change = change_freq(nc_freq_data)\n",
    "print(\"Change Frequency: %.2f%%\" % (change))"
   ]
  },
  {
   "cell_type": "markdown",
   "metadata": {},
   "source": [
    "#### Severity\n",
    "Now compare severities of car accidents for total, shut-down period in 2020, 2019, 2018, and 2017 (2019, 2018 & 2017 being in same month-day date range as shut-down period) >"
   ]
  },
  {
   "cell_type": "code",
   "execution_count": 30,
   "metadata": {},
   "outputs": [
    {
     "data": {
      "text/html": [
       "<div>\n",
       "<style scoped>\n",
       "    .dataframe tbody tr th:only-of-type {\n",
       "        vertical-align: middle;\n",
       "    }\n",
       "\n",
       "    .dataframe tbody tr th {\n",
       "        vertical-align: top;\n",
       "    }\n",
       "\n",
       "    .dataframe thead th {\n",
       "        text-align: right;\n",
       "    }\n",
       "</style>\n",
       "<table border=\"1\" class=\"dataframe\">\n",
       "  <thead>\n",
       "    <tr style=\"text-align: right;\">\n",
       "      <th></th>\n",
       "      <th>Severity_Rank</th>\n",
       "      <th>TTL</th>\n",
       "      <th>Shut_Down</th>\n",
       "      <th>2019</th>\n",
       "      <th>2018</th>\n",
       "      <th>2017</th>\n",
       "    </tr>\n",
       "  </thead>\n",
       "  <tbody>\n",
       "    <tr>\n",
       "      <th>0</th>\n",
       "      <td>1</td>\n",
       "      <td>1.09</td>\n",
       "      <td>8.17</td>\n",
       "      <td>0.04</td>\n",
       "      <td>0.03</td>\n",
       "      <td>0.00</td>\n",
       "    </tr>\n",
       "    <tr>\n",
       "      <th>1</th>\n",
       "      <td>2</td>\n",
       "      <td>83.79</td>\n",
       "      <td>75.71</td>\n",
       "      <td>85.30</td>\n",
       "      <td>85.11</td>\n",
       "      <td>91.18</td>\n",
       "    </tr>\n",
       "    <tr>\n",
       "      <th>2</th>\n",
       "      <td>3</td>\n",
       "      <td>13.28</td>\n",
       "      <td>12.75</td>\n",
       "      <td>12.20</td>\n",
       "      <td>13.72</td>\n",
       "      <td>4.18</td>\n",
       "    </tr>\n",
       "    <tr>\n",
       "      <th>3</th>\n",
       "      <td>4</td>\n",
       "      <td>1.84</td>\n",
       "      <td>3.38</td>\n",
       "      <td>2.45</td>\n",
       "      <td>1.14</td>\n",
       "      <td>4.64</td>\n",
       "    </tr>\n",
       "  </tbody>\n",
       "</table>\n",
       "</div>"
      ],
      "text/plain": [
       "   Severity_Rank    TTL  Shut_Down   2019   2018   2017\n",
       "0              1   1.09       8.17   0.04   0.03   0.00\n",
       "1              2  83.79      75.71  85.30  85.11  91.18\n",
       "2              3  13.28      12.75  12.20  13.72   4.18\n",
       "3              4   1.84       3.38   2.45   1.14   4.64"
      ]
     },
     "execution_count": 30,
     "metadata": {},
     "output_type": "execute_result"
    }
   ],
   "source": [
    "# first find percentages of severity ranks to total accidents for \n",
    "#   total and for each period \n",
    "\n",
    "nc_sp_ttl = severity_percent(nc_ttl)\n",
    "nc_sp_sd = severity_percent(nc_sd)\n",
    "nc_sp_2019 = severity_percent(nc_2019)\n",
    "nc_sp_2018 = severity_percent(nc_2018)\n",
    "nc_sp_2017 = severity_percent(nc_2017)\n",
    "\n",
    "# then again create a simple dataframe for comparison\n",
    "\n",
    "nc_severity_data = pd.DataFrame({'Severity_Rank': [1,2,3,4],\n",
    "                                 'TTL': nc_sp_ttl,\n",
    "                                 'Shut_Down': nc_sp_sd,\n",
    "                                 '2019': nc_sp_2019,\n",
    "                                 '2018': nc_sp_2018,\n",
    "                                 '2017': nc_sp_2017\n",
    "                                })\n",
    "\n",
    "nc_severity_data"
   ]
  },
  {
   "cell_type": "markdown",
   "metadata": {},
   "source": [
    "#### NC Takeaways:\n",
    "- Fequency: No significant change during shutdown period\n",
    "- Severity: Do see an increase in level 4 severity, but greatest change is increase in severity 1 with drop in severity 2"
   ]
  },
  {
   "cell_type": "markdown",
   "metadata": {},
   "source": [
    "-\n",
    "### New York\n",
    "\n",
    "First create periods we'll want to compare for the state >"
   ]
  },
  {
   "cell_type": "code",
   "execution_count": 97,
   "metadata": {},
   "outputs": [],
   "source": [
    "# full state period\n",
    "ny_ttl = accident_covid[(accident_covid.State == 'NY')]\n",
    "\n",
    "# shutdown period\n",
    "ny_sd = accident_covid[\n",
    "    (accident_covid.State == 'NY') & \n",
    "    (accident_covid.Shut_Down == 1)]\n",
    "\n",
    "# 2019 \n",
    "ny_2019 = accident_covid[(car_accidents_master['Date'] > '2019-03-22') & \n",
    "                         (car_accidents_master['Date'] <= '2019-06-13') & \n",
    "                         (car_accidents_master['State'] == 'NY')]\n",
    "\n",
    "# 2018\n",
    "ny_2018 = accident_covid[(car_accidents_master['Date'] > '2018-03-22') & \n",
    "                         (car_accidents_master['Date'] <= '2018-06-13') & \n",
    "                         (car_accidents_master['State'] == 'NY')]\n",
    "\n",
    "# 2017\n",
    "ny_2017 = accident_covid[(car_accidents_master['Date'] > '2017-03-22') & \n",
    "                         (car_accidents_master['Date'] <= '2017-06-13') & \n",
    "                         (car_accidents_master['State'] == 'NY')]"
   ]
  },
  {
   "cell_type": "markdown",
   "metadata": {},
   "source": [
    "#### Frequency\n",
    "Now compare frequencies (total number) of car accidents for total, shut-down period in 2020, 2019, 2018, and 2017 (2019, 2018, & 2017 being in same month-day date range as shut-down period) >"
   ]
  },
  {
   "cell_type": "code",
   "execution_count": 98,
   "metadata": {},
   "outputs": [
    {
     "data": {
      "text/html": [
       "<div>\n",
       "<style scoped>\n",
       "    .dataframe tbody tr th:only-of-type {\n",
       "        vertical-align: middle;\n",
       "    }\n",
       "\n",
       "    .dataframe tbody tr th {\n",
       "        vertical-align: top;\n",
       "    }\n",
       "\n",
       "    .dataframe thead th {\n",
       "        text-align: right;\n",
       "    }\n",
       "</style>\n",
       "<table border=\"1\" class=\"dataframe\">\n",
       "  <thead>\n",
       "    <tr style=\"text-align: right;\">\n",
       "      <th></th>\n",
       "      <th>Timeframe</th>\n",
       "      <th>Num_Accidents</th>\n",
       "    </tr>\n",
       "  </thead>\n",
       "  <tbody>\n",
       "    <tr>\n",
       "      <th>0</th>\n",
       "      <td>Total</td>\n",
       "      <td>160803</td>\n",
       "    </tr>\n",
       "    <tr>\n",
       "      <th>1</th>\n",
       "      <td>Shut_Down</td>\n",
       "      <td>12442</td>\n",
       "    </tr>\n",
       "    <tr>\n",
       "      <th>2</th>\n",
       "      <td>2019</td>\n",
       "      <td>10586</td>\n",
       "    </tr>\n",
       "    <tr>\n",
       "      <th>3</th>\n",
       "      <td>2018</td>\n",
       "      <td>7933</td>\n",
       "    </tr>\n",
       "    <tr>\n",
       "      <th>4</th>\n",
       "      <td>2017</td>\n",
       "      <td>6319</td>\n",
       "    </tr>\n",
       "  </tbody>\n",
       "</table>\n",
       "</div>"
      ],
      "text/plain": [
       "   Timeframe  Num_Accidents\n",
       "0      Total         160803\n",
       "1  Shut_Down          12442\n",
       "2       2019          10586\n",
       "3       2018           7933\n",
       "4       2017           6319"
      ]
     },
     "execution_count": 98,
     "metadata": {},
     "output_type": "execute_result"
    }
   ],
   "source": [
    "# find total frequencies for state total and in each period \n",
    "\n",
    "ny_freqs = [ny_ttl.shape[0],\n",
    "            ny_sd.shape[0],\n",
    "            ny_2019.shape[0],\n",
    "            ny_2018.shape[0],\n",
    "            ny_2017.shape[0]\n",
    "           ]\n",
    "\n",
    "# then develop a simple dataframe to compare them\n",
    "ny_freq_data = pd.DataFrame({'Timeframe': ['Total','Shut_Down',2019,2018,2017],\n",
    "                                 'Num_Accidents': ny_freqs})\n",
    "\n",
    "ny_freq_data"
   ]
  },
  {
   "cell_type": "code",
   "execution_count": 99,
   "metadata": {},
   "outputs": [
    {
     "name": "stdout",
     "output_type": "stream",
     "text": [
      "Change Frequency: 50.28%\n"
     ]
    }
   ],
   "source": [
    "# percent change in frequency in 2020 stay-home compared to average past years\n",
    "\n",
    "change = change_freq(ny_freq_data)\n",
    "print(\"Change Frequency: %.2f%%\" % (change))"
   ]
  },
  {
   "cell_type": "markdown",
   "metadata": {},
   "source": [
    "#### Severity\n",
    "Now compare severities of car accidents for total, shut-down period in 2020, 2019, 2018, and 2017 (2019, 2018 & 2017 being in same month-day date range as shut-down period) >"
   ]
  },
  {
   "cell_type": "code",
   "execution_count": 100,
   "metadata": {},
   "outputs": [
    {
     "data": {
      "text/html": [
       "<div>\n",
       "<style scoped>\n",
       "    .dataframe tbody tr th:only-of-type {\n",
       "        vertical-align: middle;\n",
       "    }\n",
       "\n",
       "    .dataframe tbody tr th {\n",
       "        vertical-align: top;\n",
       "    }\n",
       "\n",
       "    .dataframe thead th {\n",
       "        text-align: right;\n",
       "    }\n",
       "</style>\n",
       "<table border=\"1\" class=\"dataframe\">\n",
       "  <thead>\n",
       "    <tr style=\"text-align: right;\">\n",
       "      <th></th>\n",
       "      <th>Severity_Rank</th>\n",
       "      <th>TTL</th>\n",
       "      <th>Shut_Down</th>\n",
       "      <th>2019</th>\n",
       "      <th>2018</th>\n",
       "      <th>2017</th>\n",
       "    </tr>\n",
       "  </thead>\n",
       "  <tbody>\n",
       "    <tr>\n",
       "      <th>0</th>\n",
       "      <td>1</td>\n",
       "      <td>0.45</td>\n",
       "      <td>4.55</td>\n",
       "      <td>0.02</td>\n",
       "      <td>0.04</td>\n",
       "      <td>0.03</td>\n",
       "    </tr>\n",
       "    <tr>\n",
       "      <th>1</th>\n",
       "      <td>2</td>\n",
       "      <td>59.73</td>\n",
       "      <td>55.33</td>\n",
       "      <td>66.75</td>\n",
       "      <td>54.00</td>\n",
       "      <td>55.15</td>\n",
       "    </tr>\n",
       "    <tr>\n",
       "      <th>2</th>\n",
       "      <td>3</td>\n",
       "      <td>35.37</td>\n",
       "      <td>31.43</td>\n",
       "      <td>30.35</td>\n",
       "      <td>42.28</td>\n",
       "      <td>39.42</td>\n",
       "    </tr>\n",
       "    <tr>\n",
       "      <th>3</th>\n",
       "      <td>4</td>\n",
       "      <td>4.44</td>\n",
       "      <td>8.70</td>\n",
       "      <td>2.88</td>\n",
       "      <td>3.68</td>\n",
       "      <td>5.40</td>\n",
       "    </tr>\n",
       "  </tbody>\n",
       "</table>\n",
       "</div>"
      ],
      "text/plain": [
       "   Severity_Rank    TTL  Shut_Down   2019   2018   2017\n",
       "0              1   0.45       4.55   0.02   0.04   0.03\n",
       "1              2  59.73      55.33  66.75  54.00  55.15\n",
       "2              3  35.37      31.43  30.35  42.28  39.42\n",
       "3              4   4.44       8.70   2.88   3.68   5.40"
      ]
     },
     "execution_count": 100,
     "metadata": {},
     "output_type": "execute_result"
    }
   ],
   "source": [
    "# first find percentages of severity ranks to total accidents for \n",
    "#   total and for each period \n",
    "\n",
    "ny_sp_ttl = severity_percent(ny_ttl)\n",
    "ny_sp_sd = severity_percent(ny_sd)\n",
    "ny_sp_2019 = severity_percent(ny_2019)\n",
    "ny_sp_2018 = severity_percent(ny_2018)\n",
    "ny_sp_2017 = severity_percent(ny_2017)\n",
    "\n",
    "# then again create a simple dataframe for comparison\n",
    "\n",
    "ny_severity_data = pd.DataFrame({'Severity_Rank': [1,2,3,4],\n",
    "                                 'TTL': ny_sp_ttl,\n",
    "                                 'Shut_Down': ny_sp_sd,\n",
    "                                 '2019': ny_sp_2019,\n",
    "                                 '2018': ny_sp_2018,\n",
    "                                 '2017': ny_sp_2017\n",
    "                                })\n",
    "\n",
    "ny_severity_data"
   ]
  },
  {
   "cell_type": "markdown",
   "metadata": {},
   "source": [
    "#### NY Takeaways:\n",
    "- Frequency: See an increase in shutdown period, although there was also an even larger jump from 2018 to 2019\n",
    "- Severity: See increase in edge severities (1 & 2)"
   ]
  },
  {
   "cell_type": "markdown",
   "metadata": {},
   "source": [
    "-\n",
    "### Pennsylvania\n",
    "\n",
    "First create periods we'll want to compare for the state >"
   ]
  },
  {
   "cell_type": "code",
   "execution_count": 101,
   "metadata": {},
   "outputs": [],
   "source": [
    "# full state period\n",
    "pa_ttl = accident_covid[(accident_covid.State == 'PA')]\n",
    "\n",
    "# shutdown period\n",
    "pa_sd = accident_covid[\n",
    "    (accident_covid.State == 'PA') & \n",
    "    (accident_covid.Shut_Down == 1)]\n",
    "\n",
    "# 2019 \n",
    "pa_2019 = accident_covid[(car_accidents_master['Date'] > '2019-03-23') & \n",
    "                         (car_accidents_master['Date'] <= '2019-06-04') & \n",
    "                         (car_accidents_master['State'] == 'PA')]\n",
    "\n",
    "# 2018\n",
    "pa_2018 = accident_covid[(car_accidents_master['Date'] > '2018-03-23') & \n",
    "                         (car_accidents_master['Date'] <= '2018-06-04') & \n",
    "                         (car_accidents_master['State'] == 'PA')]\n",
    "\n",
    "# 2017\n",
    "pa_2017 = accident_covid[(car_accidents_master['Date'] > '2017-03-23') & \n",
    "                         (car_accidents_master['Date'] <= '2017-06-04') & \n",
    "                         (car_accidents_master['State'] == 'PA')]"
   ]
  },
  {
   "cell_type": "markdown",
   "metadata": {},
   "source": [
    "#### Frequency\n",
    "Now compare frequencies (total number) of car accidents for total, shut-down period in 2020, 2019, 2018, and 2017 (2019, 2018, & 2017 being in same month-day date range as shut-down period) >"
   ]
  },
  {
   "cell_type": "code",
   "execution_count": 102,
   "metadata": {},
   "outputs": [
    {
     "data": {
      "text/html": [
       "<div>\n",
       "<style scoped>\n",
       "    .dataframe tbody tr th:only-of-type {\n",
       "        vertical-align: middle;\n",
       "    }\n",
       "\n",
       "    .dataframe tbody tr th {\n",
       "        vertical-align: top;\n",
       "    }\n",
       "\n",
       "    .dataframe thead th {\n",
       "        text-align: right;\n",
       "    }\n",
       "</style>\n",
       "<table border=\"1\" class=\"dataframe\">\n",
       "  <thead>\n",
       "    <tr style=\"text-align: right;\">\n",
       "      <th></th>\n",
       "      <th>Timeframe</th>\n",
       "      <th>Num_Accidents</th>\n",
       "    </tr>\n",
       "  </thead>\n",
       "  <tbody>\n",
       "    <tr>\n",
       "      <th>0</th>\n",
       "      <td>Total</td>\n",
       "      <td>106748</td>\n",
       "    </tr>\n",
       "    <tr>\n",
       "      <th>1</th>\n",
       "      <td>Shut_Down</td>\n",
       "      <td>8576</td>\n",
       "    </tr>\n",
       "    <tr>\n",
       "      <th>2</th>\n",
       "      <td>2019</td>\n",
       "      <td>3633</td>\n",
       "    </tr>\n",
       "    <tr>\n",
       "      <th>3</th>\n",
       "      <td>2018</td>\n",
       "      <td>4344</td>\n",
       "    </tr>\n",
       "    <tr>\n",
       "      <th>4</th>\n",
       "      <td>2017</td>\n",
       "      <td>5510</td>\n",
       "    </tr>\n",
       "  </tbody>\n",
       "</table>\n",
       "</div>"
      ],
      "text/plain": [
       "   Timeframe  Num_Accidents\n",
       "0      Total         106748\n",
       "1  Shut_Down           8576\n",
       "2       2019           3633\n",
       "3       2018           4344\n",
       "4       2017           5510"
      ]
     },
     "execution_count": 102,
     "metadata": {},
     "output_type": "execute_result"
    }
   ],
   "source": [
    "# find total frequencies for state total and in each period \n",
    "\n",
    "pa_freqs = [pa_ttl.shape[0],\n",
    "            pa_sd.shape[0],\n",
    "            pa_2019.shape[0],\n",
    "            pa_2018.shape[0],\n",
    "            pa_2017.shape[0]\n",
    "           ]\n",
    "\n",
    "# then develop a simple dataframe to compare them\n",
    "pa_freq_data = pd.DataFrame({'Timeframe': ['Total','Shut_Down',2019,2018,2017],\n",
    "                                 'Num_Accidents': pa_freqs})\n",
    "\n",
    "pa_freq_data"
   ]
  },
  {
   "cell_type": "code",
   "execution_count": 103,
   "metadata": {},
   "outputs": [
    {
     "name": "stdout",
     "output_type": "stream",
     "text": [
      "Change Frequency: 90.76%\n"
     ]
    }
   ],
   "source": [
    "# percent change in frequency in 2020 stay-home compared to average past years\n",
    "\n",
    "change = change_freq(pa_freq_data)\n",
    "print(\"Change Frequency: %.2f%%\" % (change))"
   ]
  },
  {
   "cell_type": "markdown",
   "metadata": {},
   "source": [
    "#### Severity\n",
    "Now compare severities of car accidents for total, shut-down period in 2020, 2019, 2018, and 2017 (2019, 2018 & 2017 being in same month-day date range as shut-down period) >"
   ]
  },
  {
   "cell_type": "code",
   "execution_count": 104,
   "metadata": {},
   "outputs": [
    {
     "data": {
      "text/html": [
       "<div>\n",
       "<style scoped>\n",
       "    .dataframe tbody tr th:only-of-type {\n",
       "        vertical-align: middle;\n",
       "    }\n",
       "\n",
       "    .dataframe tbody tr th {\n",
       "        vertical-align: top;\n",
       "    }\n",
       "\n",
       "    .dataframe thead th {\n",
       "        text-align: right;\n",
       "    }\n",
       "</style>\n",
       "<table border=\"1\" class=\"dataframe\">\n",
       "  <thead>\n",
       "    <tr style=\"text-align: right;\">\n",
       "      <th></th>\n",
       "      <th>Severity_Rank</th>\n",
       "      <th>TTL</th>\n",
       "      <th>Shut_Down</th>\n",
       "      <th>2019</th>\n",
       "      <th>2018</th>\n",
       "      <th>2017</th>\n",
       "    </tr>\n",
       "  </thead>\n",
       "  <tbody>\n",
       "    <tr>\n",
       "      <th>0</th>\n",
       "      <td>1</td>\n",
       "      <td>0.21</td>\n",
       "      <td>1.59</td>\n",
       "      <td>0.00</td>\n",
       "      <td>0.05</td>\n",
       "      <td>0.05</td>\n",
       "    </tr>\n",
       "    <tr>\n",
       "      <th>1</th>\n",
       "      <td>2</td>\n",
       "      <td>73.73</td>\n",
       "      <td>65.64</td>\n",
       "      <td>67.96</td>\n",
       "      <td>67.31</td>\n",
       "      <td>80.34</td>\n",
       "    </tr>\n",
       "    <tr>\n",
       "      <th>2</th>\n",
       "      <td>3</td>\n",
       "      <td>20.72</td>\n",
       "      <td>26.38</td>\n",
       "      <td>26.26</td>\n",
       "      <td>28.13</td>\n",
       "      <td>13.03</td>\n",
       "    </tr>\n",
       "    <tr>\n",
       "      <th>3</th>\n",
       "      <td>4</td>\n",
       "      <td>5.35</td>\n",
       "      <td>6.40</td>\n",
       "      <td>5.78</td>\n",
       "      <td>4.51</td>\n",
       "      <td>6.57</td>\n",
       "    </tr>\n",
       "  </tbody>\n",
       "</table>\n",
       "</div>"
      ],
      "text/plain": [
       "   Severity_Rank    TTL  Shut_Down   2019   2018   2017\n",
       "0              1   0.21       1.59   0.00   0.05   0.05\n",
       "1              2  73.73      65.64  67.96  67.31  80.34\n",
       "2              3  20.72      26.38  26.26  28.13  13.03\n",
       "3              4   5.35       6.40   5.78   4.51   6.57"
      ]
     },
     "execution_count": 104,
     "metadata": {},
     "output_type": "execute_result"
    }
   ],
   "source": [
    "# first find percentages of severity ranks to total accidents for \n",
    "#   total and for each period \n",
    "\n",
    "pa_sp_ttl = severity_percent(pa_ttl)\n",
    "pa_sp_sd = severity_percent(pa_sd)\n",
    "pa_sp_2019 = severity_percent(pa_2019)\n",
    "pa_sp_2018 = severity_percent(pa_2018)\n",
    "pa_sp_2017 = severity_percent(pa_2017)\n",
    "\n",
    "# then again create a simple dataframe for comparison\n",
    "\n",
    "pa_severity_data = pd.DataFrame({'Severity_Rank': [1,2,3,4],\n",
    "                                 'TTL': pa_sp_ttl,\n",
    "                                 'Shut_Down': pa_sp_sd,\n",
    "                                 '2019': pa_sp_2019,\n",
    "                                 '2018': pa_sp_2018,\n",
    "                                 '2017': pa_sp_2017\n",
    "                                })\n",
    "\n",
    "pa_severity_data"
   ]
  },
  {
   "cell_type": "markdown",
   "metadata": {},
   "source": [
    "#### PA Takeaways:\n",
    "- Frequency: See a fairly significant increase in accidents during shutdown period\n",
    "- Severity: See increase in severity 1 and drop in severity 2, but not that large"
   ]
  },
  {
   "cell_type": "markdown",
   "metadata": {},
   "source": [
    "-\n",
    "### Illinois\n",
    "\n",
    "First create periods we'll want to compare for the state >"
   ]
  },
  {
   "cell_type": "code",
   "execution_count": 39,
   "metadata": {},
   "outputs": [],
   "source": [
    "# full state period\n",
    "il_ttl = accident_covid[(accident_covid.State == 'IL')]\n",
    "\n",
    "# shutdown period\n",
    "il_sd = accident_covid[\n",
    "    (accident_covid.State == 'IL') & \n",
    "    (accident_covid.Shut_Down == 1)]\n",
    "\n",
    "# 2019 \n",
    "il_2019 = accident_covid[(car_accidents_master['Date'] > '2019-03-25') & \n",
    "                         (car_accidents_master['Date'] <= '2019-05-31') & \n",
    "                         (car_accidents_master['State'] == 'IL')]\n",
    "\n",
    "# 2018\n",
    "il_2018 = accident_covid[(car_accidents_master['Date'] > '2018-03-25') & \n",
    "                         (car_accidents_master['Date'] <= '2018-05-31') & \n",
    "                         (car_accidents_master['State'] == 'IL')]\n",
    "\n",
    "# 2017\n",
    "il_2017 = accident_covid[(car_accidents_master['Date'] > '2017-03-25') & \n",
    "                         (car_accidents_master['Date'] <= '2017-05-31') & \n",
    "                         (car_accidents_master['State'] == 'IL')]"
   ]
  },
  {
   "cell_type": "markdown",
   "metadata": {},
   "source": [
    "#### Frequency\n",
    "Now compare frequencies (total number) of car accidents for total, shut-down period in 2020, 2019, 2018, and 2017 (2019, 2018, & 2017 being in same month-day date range as shut-down period) >"
   ]
  },
  {
   "cell_type": "code",
   "execution_count": 40,
   "metadata": {},
   "outputs": [
    {
     "data": {
      "text/html": [
       "<div>\n",
       "<style scoped>\n",
       "    .dataframe tbody tr th:only-of-type {\n",
       "        vertical-align: middle;\n",
       "    }\n",
       "\n",
       "    .dataframe tbody tr th {\n",
       "        vertical-align: top;\n",
       "    }\n",
       "\n",
       "    .dataframe thead th {\n",
       "        text-align: right;\n",
       "    }\n",
       "</style>\n",
       "<table border=\"1\" class=\"dataframe\">\n",
       "  <thead>\n",
       "    <tr style=\"text-align: right;\">\n",
       "      <th></th>\n",
       "      <th>Timeframe</th>\n",
       "      <th>Num_Accidents</th>\n",
       "    </tr>\n",
       "  </thead>\n",
       "  <tbody>\n",
       "    <tr>\n",
       "      <th>0</th>\n",
       "      <td>Total</td>\n",
       "      <td>99686</td>\n",
       "    </tr>\n",
       "    <tr>\n",
       "      <th>1</th>\n",
       "      <td>Shut_Down</td>\n",
       "      <td>5037</td>\n",
       "    </tr>\n",
       "    <tr>\n",
       "      <th>2</th>\n",
       "      <td>2019</td>\n",
       "      <td>3681</td>\n",
       "    </tr>\n",
       "    <tr>\n",
       "      <th>3</th>\n",
       "      <td>2018</td>\n",
       "      <td>3714</td>\n",
       "    </tr>\n",
       "    <tr>\n",
       "      <th>4</th>\n",
       "      <td>2017</td>\n",
       "      <td>4737</td>\n",
       "    </tr>\n",
       "  </tbody>\n",
       "</table>\n",
       "</div>"
      ],
      "text/plain": [
       "   Timeframe  Num_Accidents\n",
       "0      Total          99686\n",
       "1  Shut_Down           5037\n",
       "2       2019           3681\n",
       "3       2018           3714\n",
       "4       2017           4737"
      ]
     },
     "execution_count": 40,
     "metadata": {},
     "output_type": "execute_result"
    }
   ],
   "source": [
    "# find total frequencies for state total and in each period \n",
    "\n",
    "il_freqs = [il_ttl.shape[0],\n",
    "            il_sd.shape[0],\n",
    "            il_2019.shape[0],\n",
    "            il_2018.shape[0],\n",
    "            il_2017.shape[0]\n",
    "           ]\n",
    "\n",
    "# then develop a simple dataframe to compare them\n",
    "il_freq_data = pd.DataFrame({'Timeframe': ['Total','Shut_Down',2019,2018,2017],\n",
    "                                 'Num_Accidents': il_freqs})\n",
    "\n",
    "il_freq_data"
   ]
  },
  {
   "cell_type": "code",
   "execution_count": 41,
   "metadata": {},
   "outputs": [
    {
     "name": "stdout",
     "output_type": "stream",
     "text": [
      "Change Frequency: 24.55%\n"
     ]
    }
   ],
   "source": [
    "# percent change in frequency in 2020 stay-home compared to average past years\n",
    "\n",
    "change = change_freq(il_freq_data)\n",
    "print(\"Change Frequency: %.2f%%\" % (change))"
   ]
  },
  {
   "cell_type": "markdown",
   "metadata": {},
   "source": [
    "#### Severity\n",
    "Now compare severities of car accidents for total, shut-down period in 2020, 2019, 2018, and 2017 (2019, 2018 & 2017 being in same month-day date range as shut-down period) >"
   ]
  },
  {
   "cell_type": "code",
   "execution_count": 42,
   "metadata": {},
   "outputs": [
    {
     "data": {
      "text/html": [
       "<div>\n",
       "<style scoped>\n",
       "    .dataframe tbody tr th:only-of-type {\n",
       "        vertical-align: middle;\n",
       "    }\n",
       "\n",
       "    .dataframe tbody tr th {\n",
       "        vertical-align: top;\n",
       "    }\n",
       "\n",
       "    .dataframe thead th {\n",
       "        text-align: right;\n",
       "    }\n",
       "</style>\n",
       "<table border=\"1\" class=\"dataframe\">\n",
       "  <thead>\n",
       "    <tr style=\"text-align: right;\">\n",
       "      <th></th>\n",
       "      <th>Severity_Rank</th>\n",
       "      <th>TTL</th>\n",
       "      <th>Shut_Down</th>\n",
       "      <th>2019</th>\n",
       "      <th>2018</th>\n",
       "      <th>2017</th>\n",
       "    </tr>\n",
       "  </thead>\n",
       "  <tbody>\n",
       "    <tr>\n",
       "      <th>0</th>\n",
       "      <td>1</td>\n",
       "      <td>0.27</td>\n",
       "      <td>3.59</td>\n",
       "      <td>0.00</td>\n",
       "      <td>0.11</td>\n",
       "      <td>0.06</td>\n",
       "    </tr>\n",
       "    <tr>\n",
       "      <th>1</th>\n",
       "      <td>2</td>\n",
       "      <td>63.60</td>\n",
       "      <td>18.23</td>\n",
       "      <td>62.70</td>\n",
       "      <td>62.74</td>\n",
       "      <td>69.07</td>\n",
       "    </tr>\n",
       "    <tr>\n",
       "      <th>2</th>\n",
       "      <td>3</td>\n",
       "      <td>32.75</td>\n",
       "      <td>72.76</td>\n",
       "      <td>30.64</td>\n",
       "      <td>33.23</td>\n",
       "      <td>27.93</td>\n",
       "    </tr>\n",
       "    <tr>\n",
       "      <th>3</th>\n",
       "      <td>4</td>\n",
       "      <td>3.38</td>\n",
       "      <td>5.42</td>\n",
       "      <td>6.66</td>\n",
       "      <td>3.93</td>\n",
       "      <td>2.93</td>\n",
       "    </tr>\n",
       "  </tbody>\n",
       "</table>\n",
       "</div>"
      ],
      "text/plain": [
       "   Severity_Rank    TTL  Shut_Down   2019   2018   2017\n",
       "0              1   0.27       3.59   0.00   0.11   0.06\n",
       "1              2  63.60      18.23  62.70  62.74  69.07\n",
       "2              3  32.75      72.76  30.64  33.23  27.93\n",
       "3              4   3.38       5.42   6.66   3.93   2.93"
      ]
     },
     "execution_count": 42,
     "metadata": {},
     "output_type": "execute_result"
    }
   ],
   "source": [
    "# first find percentages of severity ranks to total accidents for \n",
    "#   total and for each period \n",
    "\n",
    "il_sp_ttl = severity_percent(il_ttl)\n",
    "il_sp_sd = severity_percent(il_sd)\n",
    "il_sp_2019 = severity_percent(il_2019)\n",
    "il_sp_2018 = severity_percent(il_2018)\n",
    "il_sp_2017 = severity_percent(il_2017)\n",
    "\n",
    "# then again create a simple dataframe for comparison\n",
    "\n",
    "il_severity_data = pd.DataFrame({'Severity_Rank': [1,2,3,4],\n",
    "                                 'TTL': il_sp_ttl,\n",
    "                                 'Shut_Down': il_sp_sd,\n",
    "                                 '2019': il_sp_2019,\n",
    "                                 '2018': il_sp_2018,\n",
    "                                 '2017': il_sp_2017\n",
    "                                })\n",
    "\n",
    "il_severity_data"
   ]
  },
  {
   "cell_type": "markdown",
   "metadata": {},
   "source": [
    "#### IL Takeaways:\n",
    "- Frequency: Increase during shutdown period\n",
    "- Severity: Large increase in severity 3 and decrese in severity 2.  Also increase in severity 1"
   ]
  },
  {
   "cell_type": "markdown",
   "metadata": {},
   "source": [
    "-\n",
    "### Virginia\n",
    "\n",
    "First create periods we'll want to compare for the state >"
   ]
  },
  {
   "cell_type": "code",
   "execution_count": 43,
   "metadata": {},
   "outputs": [],
   "source": [
    "# full state period\n",
    "va_ttl = accident_covid[(accident_covid.State == 'VA')]\n",
    "\n",
    "# shutdown period\n",
    "va_sd = accident_covid[\n",
    "    (accident_covid.State == 'VA') & \n",
    "    (accident_covid.Shut_Down == 1)]\n",
    "\n",
    "# 2019 \n",
    "va_2019 = accident_covid[(car_accidents_master['Date'] > '2019-03-30') & \n",
    "                         (car_accidents_master['Date'] <= '2019-06-10') & \n",
    "                         (car_accidents_master['State'] == 'VA')]\n",
    "\n",
    "# 2018\n",
    "va_2018 = accident_covid[(car_accidents_master['Date'] > '2018-03-30') & \n",
    "                         (car_accidents_master['Date'] <= '2018-06-10') & \n",
    "                         (car_accidents_master['State'] == 'VA')]\n",
    "\n",
    "# 2017\n",
    "va_2017 = accident_covid[(car_accidents_master['Date'] > '2017-03-30') & \n",
    "                         (car_accidents_master['Date'] <= '2017-06-10') & \n",
    "                         (car_accidents_master['State'] == 'VA')]"
   ]
  },
  {
   "cell_type": "markdown",
   "metadata": {},
   "source": [
    "#### Frequency\n",
    "Now compare frequencies (total number) of car accidents for total, shut-down period in 2020, 2019, 2018, and 2017 (2019, 2018, & 2017 being in same month-day date range as shut-down period) >"
   ]
  },
  {
   "cell_type": "code",
   "execution_count": 44,
   "metadata": {},
   "outputs": [
    {
     "data": {
      "text/html": [
       "<div>\n",
       "<style scoped>\n",
       "    .dataframe tbody tr th:only-of-type {\n",
       "        vertical-align: middle;\n",
       "    }\n",
       "\n",
       "    .dataframe tbody tr th {\n",
       "        vertical-align: top;\n",
       "    }\n",
       "\n",
       "    .dataframe thead th {\n",
       "        text-align: right;\n",
       "    }\n",
       "</style>\n",
       "<table border=\"1\" class=\"dataframe\">\n",
       "  <thead>\n",
       "    <tr style=\"text-align: right;\">\n",
       "      <th></th>\n",
       "      <th>Timeframe</th>\n",
       "      <th>Num_Accidents</th>\n",
       "    </tr>\n",
       "  </thead>\n",
       "  <tbody>\n",
       "    <tr>\n",
       "      <th>0</th>\n",
       "      <td>Total</td>\n",
       "      <td>96069</td>\n",
       "    </tr>\n",
       "    <tr>\n",
       "      <th>1</th>\n",
       "      <td>Shut_Down</td>\n",
       "      <td>8207</td>\n",
       "    </tr>\n",
       "    <tr>\n",
       "      <th>2</th>\n",
       "      <td>2019</td>\n",
       "      <td>5175</td>\n",
       "    </tr>\n",
       "    <tr>\n",
       "      <th>3</th>\n",
       "      <td>2018</td>\n",
       "      <td>4123</td>\n",
       "    </tr>\n",
       "    <tr>\n",
       "      <th>4</th>\n",
       "      <td>2017</td>\n",
       "      <td>2255</td>\n",
       "    </tr>\n",
       "  </tbody>\n",
       "</table>\n",
       "</div>"
      ],
      "text/plain": [
       "   Timeframe  Num_Accidents\n",
       "0      Total          96069\n",
       "1  Shut_Down           8207\n",
       "2       2019           5175\n",
       "3       2018           4123\n",
       "4       2017           2255"
      ]
     },
     "execution_count": 44,
     "metadata": {},
     "output_type": "execute_result"
    }
   ],
   "source": [
    "# find total frequencies for state total and in each period \n",
    "\n",
    "va_freqs = [va_ttl.shape[0],\n",
    "            va_sd.shape[0],\n",
    "            va_2019.shape[0],\n",
    "            va_2018.shape[0],\n",
    "            va_2017.shape[0]\n",
    "           ]\n",
    "\n",
    "# then develop a simple dataframe to compare them\n",
    "va_freq_data = pd.DataFrame({'Timeframe': ['Total','Shut_Down',2019,2018,2017],\n",
    "                                 'Num_Accidents': va_freqs})\n",
    "\n",
    "va_freq_data"
   ]
  },
  {
   "cell_type": "code",
   "execution_count": 45,
   "metadata": {},
   "outputs": [
    {
     "name": "stdout",
     "output_type": "stream",
     "text": [
      "Change Frequency: 113.11%\n"
     ]
    }
   ],
   "source": [
    "# percent change in frequency in 2020 stay-home compared to average past years\n",
    "\n",
    "change = change_freq(va_freq_data)\n",
    "print(\"Change Frequency: %.2f%%\" % (change))"
   ]
  },
  {
   "cell_type": "markdown",
   "metadata": {},
   "source": [
    "#### Severity\n",
    "Now compare severities of car accidents for total, shut-down period in 2020, 2019, 2018, and 2017 (2019, 2018 & 2017 being in same month-day date range as shut-down period) >"
   ]
  },
  {
   "cell_type": "code",
   "execution_count": 46,
   "metadata": {},
   "outputs": [
    {
     "data": {
      "text/html": [
       "<div>\n",
       "<style scoped>\n",
       "    .dataframe tbody tr th:only-of-type {\n",
       "        vertical-align: middle;\n",
       "    }\n",
       "\n",
       "    .dataframe tbody tr th {\n",
       "        vertical-align: top;\n",
       "    }\n",
       "\n",
       "    .dataframe thead th {\n",
       "        text-align: right;\n",
       "    }\n",
       "</style>\n",
       "<table border=\"1\" class=\"dataframe\">\n",
       "  <thead>\n",
       "    <tr style=\"text-align: right;\">\n",
       "      <th></th>\n",
       "      <th>Severity_Rank</th>\n",
       "      <th>TTL</th>\n",
       "      <th>Shut_Down</th>\n",
       "      <th>2019</th>\n",
       "      <th>2018</th>\n",
       "      <th>2017</th>\n",
       "    </tr>\n",
       "  </thead>\n",
       "  <tbody>\n",
       "    <tr>\n",
       "      <th>0</th>\n",
       "      <td>1</td>\n",
       "      <td>1.81</td>\n",
       "      <td>15.36</td>\n",
       "      <td>0.04</td>\n",
       "      <td>0.00</td>\n",
       "      <td>0.00</td>\n",
       "    </tr>\n",
       "    <tr>\n",
       "      <th>1</th>\n",
       "      <td>2</td>\n",
       "      <td>53.75</td>\n",
       "      <td>58.60</td>\n",
       "      <td>58.28</td>\n",
       "      <td>43.39</td>\n",
       "      <td>49.53</td>\n",
       "    </tr>\n",
       "    <tr>\n",
       "      <th>2</th>\n",
       "      <td>3</td>\n",
       "      <td>38.70</td>\n",
       "      <td>20.32</td>\n",
       "      <td>35.83</td>\n",
       "      <td>51.52</td>\n",
       "      <td>41.55</td>\n",
       "    </tr>\n",
       "    <tr>\n",
       "      <th>3</th>\n",
       "      <td>4</td>\n",
       "      <td>5.74</td>\n",
       "      <td>5.71</td>\n",
       "      <td>5.86</td>\n",
       "      <td>5.09</td>\n",
       "      <td>8.91</td>\n",
       "    </tr>\n",
       "  </tbody>\n",
       "</table>\n",
       "</div>"
      ],
      "text/plain": [
       "   Severity_Rank    TTL  Shut_Down   2019   2018   2017\n",
       "0              1   1.81      15.36   0.04   0.00   0.00\n",
       "1              2  53.75      58.60  58.28  43.39  49.53\n",
       "2              3  38.70      20.32  35.83  51.52  41.55\n",
       "3              4   5.74       5.71   5.86   5.09   8.91"
      ]
     },
     "execution_count": 46,
     "metadata": {},
     "output_type": "execute_result"
    }
   ],
   "source": [
    "# first find percentages of severity ranks to total accidents for \n",
    "#   total and for each period \n",
    "\n",
    "va_sp_ttl = severity_percent(va_ttl)\n",
    "va_sp_sd = severity_percent(va_sd)\n",
    "va_sp_2019 = severity_percent(va_2019)\n",
    "va_sp_2018 = severity_percent(va_2018)\n",
    "va_sp_2017 = severity_percent(va_2017)\n",
    "\n",
    "# then again create a simple dataframe for comparison\n",
    "\n",
    "va_severity_data = pd.DataFrame({'Severity_Rank': [1,2,3,4],\n",
    "                                 'TTL': va_sp_ttl,\n",
    "                                 'Shut_Down': va_sp_sd,\n",
    "                                 '2019': va_sp_2019,\n",
    "                                 '2018': va_sp_2018,\n",
    "                                 '2017': va_sp_2017\n",
    "                                })\n",
    "\n",
    "va_severity_data"
   ]
  },
  {
   "cell_type": "markdown",
   "metadata": {},
   "source": [
    "#### VA Takeaways:\n",
    "- Frequency:  See a large increase in frequency during shutdown\n",
    "- Severity: Significant increase in severity 1 and drop in severity 3"
   ]
  },
  {
   "cell_type": "markdown",
   "metadata": {},
   "source": [
    "-\n",
    "### Michigan\n",
    "\n",
    "First create periods we'll want to compare for the state >"
   ]
  },
  {
   "cell_type": "code",
   "execution_count": 47,
   "metadata": {},
   "outputs": [],
   "source": [
    "# full state period\n",
    "mi_ttl = accident_covid[(accident_covid.State == 'MI')]\n",
    "\n",
    "# shutdown period\n",
    "mi_sd = accident_covid[\n",
    "    (accident_covid.State == 'MI') & \n",
    "    (accident_covid.Shut_Down == 1)]\n",
    "\n",
    "# 2019 \n",
    "mi_2019 = accident_covid[(car_accidents_master['Date'] > '2019-03-24') & \n",
    "                         (car_accidents_master['Date'] <= '2019-05-28') & \n",
    "                         (car_accidents_master['State'] == 'MI')]\n",
    "\n",
    "# 2018\n",
    "mi_2018 = accident_covid[(car_accidents_master['Date'] > '2018-03-24') & \n",
    "                         (car_accidents_master['Date'] <= '2018-05-28') & \n",
    "                         (car_accidents_master['State'] == 'MI')]\n",
    "\n",
    "# 2017\n",
    "mi_2017 = accident_covid[(car_accidents_master['Date'] > '2017-03-24') & \n",
    "                         (car_accidents_master['Date'] <= '2017-05-28') & \n",
    "                         (car_accidents_master['State'] == 'MI')]"
   ]
  },
  {
   "cell_type": "markdown",
   "metadata": {},
   "source": [
    "#### Frequency\n",
    "Now compare frequencies (total number) of car accidents for total, shut-down period in 2020, 2019, 2018, and 2017 (2019, 2018, & 2017 being in same month-day date range as shut-down period) >"
   ]
  },
  {
   "cell_type": "code",
   "execution_count": 48,
   "metadata": {},
   "outputs": [
    {
     "data": {
      "text/html": [
       "<div>\n",
       "<style scoped>\n",
       "    .dataframe tbody tr th:only-of-type {\n",
       "        vertical-align: middle;\n",
       "    }\n",
       "\n",
       "    .dataframe tbody tr th {\n",
       "        vertical-align: top;\n",
       "    }\n",
       "\n",
       "    .dataframe thead th {\n",
       "        text-align: right;\n",
       "    }\n",
       "</style>\n",
       "<table border=\"1\" class=\"dataframe\">\n",
       "  <thead>\n",
       "    <tr style=\"text-align: right;\">\n",
       "      <th></th>\n",
       "      <th>Timeframe</th>\n",
       "      <th>Num_Accidents</th>\n",
       "    </tr>\n",
       "  </thead>\n",
       "  <tbody>\n",
       "    <tr>\n",
       "      <th>0</th>\n",
       "      <td>Total</td>\n",
       "      <td>95959</td>\n",
       "    </tr>\n",
       "    <tr>\n",
       "      <th>1</th>\n",
       "      <td>Shut_Down</td>\n",
       "      <td>2010</td>\n",
       "    </tr>\n",
       "    <tr>\n",
       "      <th>2</th>\n",
       "      <td>2019</td>\n",
       "      <td>3392</td>\n",
       "    </tr>\n",
       "    <tr>\n",
       "      <th>3</th>\n",
       "      <td>2018</td>\n",
       "      <td>4558</td>\n",
       "    </tr>\n",
       "    <tr>\n",
       "      <th>4</th>\n",
       "      <td>2017</td>\n",
       "      <td>4514</td>\n",
       "    </tr>\n",
       "  </tbody>\n",
       "</table>\n",
       "</div>"
      ],
      "text/plain": [
       "   Timeframe  Num_Accidents\n",
       "0      Total          95959\n",
       "1  Shut_Down           2010\n",
       "2       2019           3392\n",
       "3       2018           4558\n",
       "4       2017           4514"
      ]
     },
     "execution_count": 48,
     "metadata": {},
     "output_type": "execute_result"
    }
   ],
   "source": [
    "# find total frequencies for state total and in each period \n",
    "\n",
    "mi_freqs = [mi_ttl.shape[0],\n",
    "            mi_sd.shape[0],\n",
    "            mi_2019.shape[0],\n",
    "            mi_2018.shape[0],\n",
    "            mi_2017.shape[0]\n",
    "           ]\n",
    "\n",
    "# then develop a simple dataframe to compare them\n",
    "mi_freq_data = pd.DataFrame({'Timeframe': ['Total','Shut_Down',2019,2018,2017],\n",
    "                                 'Num_Accidents': mi_freqs})\n",
    "\n",
    "mi_freq_data"
   ]
  },
  {
   "cell_type": "code",
   "execution_count": 49,
   "metadata": {},
   "outputs": [
    {
     "name": "stdout",
     "output_type": "stream",
     "text": [
      "Change Frequency: -51.62%\n"
     ]
    }
   ],
   "source": [
    "# percent change in frequency in 2020 stay-home compared to average past years\n",
    "\n",
    "change = change_freq(mi_freq_data)\n",
    "print(\"Change Frequency: %.2f%%\" % (change))"
   ]
  },
  {
   "cell_type": "markdown",
   "metadata": {},
   "source": [
    "#### Severity\n",
    "Now compare severities of car accidents for total, shut-down period in 2020, 2019, 2018, and 2017 (2019, 2018 & 2017 being in same month-day date range as shut-down period) >"
   ]
  },
  {
   "cell_type": "code",
   "execution_count": 50,
   "metadata": {},
   "outputs": [
    {
     "data": {
      "text/html": [
       "<div>\n",
       "<style scoped>\n",
       "    .dataframe tbody tr th:only-of-type {\n",
       "        vertical-align: middle;\n",
       "    }\n",
       "\n",
       "    .dataframe tbody tr th {\n",
       "        vertical-align: top;\n",
       "    }\n",
       "\n",
       "    .dataframe thead th {\n",
       "        text-align: right;\n",
       "    }\n",
       "</style>\n",
       "<table border=\"1\" class=\"dataframe\">\n",
       "  <thead>\n",
       "    <tr style=\"text-align: right;\">\n",
       "      <th></th>\n",
       "      <th>Severity_Rank</th>\n",
       "      <th>TTL</th>\n",
       "      <th>Shut_Down</th>\n",
       "      <th>2019</th>\n",
       "      <th>2018</th>\n",
       "      <th>2017</th>\n",
       "    </tr>\n",
       "  </thead>\n",
       "  <tbody>\n",
       "    <tr>\n",
       "      <th>0</th>\n",
       "      <td>1</td>\n",
       "      <td>0.06</td>\n",
       "      <td>0.95</td>\n",
       "      <td>0.00</td>\n",
       "      <td>0.02</td>\n",
       "      <td>0.00</td>\n",
       "    </tr>\n",
       "    <tr>\n",
       "      <th>1</th>\n",
       "      <td>2</td>\n",
       "      <td>59.45</td>\n",
       "      <td>61.44</td>\n",
       "      <td>61.56</td>\n",
       "      <td>59.04</td>\n",
       "      <td>56.76</td>\n",
       "    </tr>\n",
       "    <tr>\n",
       "      <th>2</th>\n",
       "      <td>3</td>\n",
       "      <td>34.95</td>\n",
       "      <td>28.31</td>\n",
       "      <td>31.93</td>\n",
       "      <td>35.65</td>\n",
       "      <td>38.83</td>\n",
       "    </tr>\n",
       "    <tr>\n",
       "      <th>3</th>\n",
       "      <td>4</td>\n",
       "      <td>5.55</td>\n",
       "      <td>9.30</td>\n",
       "      <td>6.52</td>\n",
       "      <td>5.29</td>\n",
       "      <td>4.41</td>\n",
       "    </tr>\n",
       "  </tbody>\n",
       "</table>\n",
       "</div>"
      ],
      "text/plain": [
       "   Severity_Rank    TTL  Shut_Down   2019   2018   2017\n",
       "0              1   0.06       0.95   0.00   0.02   0.00\n",
       "1              2  59.45      61.44  61.56  59.04  56.76\n",
       "2              3  34.95      28.31  31.93  35.65  38.83\n",
       "3              4   5.55       9.30   6.52   5.29   4.41"
      ]
     },
     "execution_count": 50,
     "metadata": {},
     "output_type": "execute_result"
    }
   ],
   "source": [
    "# first find percentages of severity ranks to total accidents for \n",
    "#   total and for each period \n",
    "\n",
    "mi_sp_ttl = severity_percent(mi_ttl)\n",
    "mi_sp_sd = severity_percent(mi_sd)\n",
    "mi_sp_2019 = severity_percent(mi_2019)\n",
    "mi_sp_2018 = severity_percent(mi_2018)\n",
    "mi_sp_2017 = severity_percent(mi_2017)\n",
    "\n",
    "# then again create a simple dataframe for comparison\n",
    "\n",
    "mi_severity_data = pd.DataFrame({'Severity_Rank': [1,2,3,4],\n",
    "                                 'TTL': mi_sp_ttl,\n",
    "                                 'Shut_Down': mi_sp_sd,\n",
    "                                 '2019': mi_sp_2019,\n",
    "                                 '2018': mi_sp_2018,\n",
    "                                 '2017': mi_sp_2017\n",
    "                                })\n",
    "\n",
    "mi_severity_data"
   ]
  },
  {
   "cell_type": "markdown",
   "metadata": {},
   "source": [
    "#### MI Takeaways:\n",
    "- Frequency: Drop in number of accidents\n",
    "- Severity: Increase in edges of severity 1 & 4 -- most dramatic with severity 4"
   ]
  },
  {
   "cell_type": "markdown",
   "metadata": {},
   "source": [
    "-\n",
    "### Georgia\n",
    "\n",
    "First create periods we'll want to compare for the state >"
   ]
  },
  {
   "cell_type": "code",
   "execution_count": 51,
   "metadata": {},
   "outputs": [],
   "source": [
    "# full state period\n",
    "ga_ttl = accident_covid[(accident_covid.State == 'GA')]\n",
    "\n",
    "# shutdown period\n",
    "ga_sd = accident_covid[\n",
    "    (accident_covid.State == 'GA') & \n",
    "    (accident_covid.Shut_Down == 1)]\n",
    "\n",
    "# 2019 \n",
    "ga_2019 = accident_covid[(car_accidents_master['Date'] > '2019-04-03') & \n",
    "                         (car_accidents_master['Date'] <= '2019-04-30') & \n",
    "                         (car_accidents_master['State'] == 'GA')]\n",
    "\n",
    "# 2018\n",
    "ga_2018 = accident_covid[(car_accidents_master['Date'] > '2018-04-03') & \n",
    "                         (car_accidents_master['Date'] <= '2018-04-30') & \n",
    "                         (car_accidents_master['State'] == 'GA')]\n",
    "\n",
    "# 2017\n",
    "ga_2017 = accident_covid[(car_accidents_master['Date'] > '2017-04-03') & \n",
    "                         (car_accidents_master['Date'] <= '2017-04-30') & \n",
    "                         (car_accidents_master['State'] == 'GA')]"
   ]
  },
  {
   "cell_type": "markdown",
   "metadata": {},
   "source": [
    "#### Frequency\n",
    "Now compare frequencies (total number) of car accidents for total, shut-down period in 2020, 2019, 2018, and 2017 (2019, 2018, & 2017 being in same month-day date range as shut-down period) >"
   ]
  },
  {
   "cell_type": "code",
   "execution_count": 52,
   "metadata": {},
   "outputs": [
    {
     "data": {
      "text/html": [
       "<div>\n",
       "<style scoped>\n",
       "    .dataframe tbody tr th:only-of-type {\n",
       "        vertical-align: middle;\n",
       "    }\n",
       "\n",
       "    .dataframe tbody tr th {\n",
       "        vertical-align: top;\n",
       "    }\n",
       "\n",
       "    .dataframe thead th {\n",
       "        text-align: right;\n",
       "    }\n",
       "</style>\n",
       "<table border=\"1\" class=\"dataframe\">\n",
       "  <thead>\n",
       "    <tr style=\"text-align: right;\">\n",
       "      <th></th>\n",
       "      <th>Timeframe</th>\n",
       "      <th>Num_Accidents</th>\n",
       "    </tr>\n",
       "  </thead>\n",
       "  <tbody>\n",
       "    <tr>\n",
       "      <th>0</th>\n",
       "      <td>Total</td>\n",
       "      <td>93611</td>\n",
       "    </tr>\n",
       "    <tr>\n",
       "      <th>1</th>\n",
       "      <td>Shut_Down</td>\n",
       "      <td>1469</td>\n",
       "    </tr>\n",
       "    <tr>\n",
       "      <th>2</th>\n",
       "      <td>2019</td>\n",
       "      <td>1930</td>\n",
       "    </tr>\n",
       "    <tr>\n",
       "      <th>3</th>\n",
       "      <td>2018</td>\n",
       "      <td>1755</td>\n",
       "    </tr>\n",
       "    <tr>\n",
       "      <th>4</th>\n",
       "      <td>2017</td>\n",
       "      <td>1422</td>\n",
       "    </tr>\n",
       "  </tbody>\n",
       "</table>\n",
       "</div>"
      ],
      "text/plain": [
       "   Timeframe  Num_Accidents\n",
       "0      Total          93611\n",
       "1  Shut_Down           1469\n",
       "2       2019           1930\n",
       "3       2018           1755\n",
       "4       2017           1422"
      ]
     },
     "execution_count": 52,
     "metadata": {},
     "output_type": "execute_result"
    }
   ],
   "source": [
    "# find total frequencies for state total and in each period \n",
    "\n",
    "ga_freqs = [ga_ttl.shape[0],\n",
    "            ga_sd.shape[0],\n",
    "            ga_2019.shape[0],\n",
    "            ga_2018.shape[0],\n",
    "            ga_2017.shape[0]\n",
    "           ]\n",
    "\n",
    "# then develop a simple dataframe to compare them\n",
    "ga_freq_data = pd.DataFrame({'Timeframe': ['Total','Shut_Down',2019,2018,2017],\n",
    "                                 'Num_Accidents': ga_freqs})\n",
    "\n",
    "ga_freq_data"
   ]
  },
  {
   "cell_type": "code",
   "execution_count": 53,
   "metadata": {},
   "outputs": [
    {
     "name": "stdout",
     "output_type": "stream",
     "text": [
      "Change Frequency: -13.71%\n"
     ]
    }
   ],
   "source": [
    "# percent change in frequency in 2020 stay-home compared to average past years\n",
    "\n",
    "change = change_freq(ga_freq_data)\n",
    "print(\"Change Frequency: %.2f%%\" % (change))"
   ]
  },
  {
   "cell_type": "markdown",
   "metadata": {},
   "source": [
    "#### Severity\n",
    "Now compare severities of car accidents for total, shut-down period in 2020, 2019, 2018, and 2017 (2019, 2018 & 2017 being in same month-day date range as shut-down period) >"
   ]
  },
  {
   "cell_type": "code",
   "execution_count": 54,
   "metadata": {},
   "outputs": [
    {
     "data": {
      "text/html": [
       "<div>\n",
       "<style scoped>\n",
       "    .dataframe tbody tr th:only-of-type {\n",
       "        vertical-align: middle;\n",
       "    }\n",
       "\n",
       "    .dataframe tbody tr th {\n",
       "        vertical-align: top;\n",
       "    }\n",
       "\n",
       "    .dataframe thead th {\n",
       "        text-align: right;\n",
       "    }\n",
       "</style>\n",
       "<table border=\"1\" class=\"dataframe\">\n",
       "  <thead>\n",
       "    <tr style=\"text-align: right;\">\n",
       "      <th></th>\n",
       "      <th>Severity_Rank</th>\n",
       "      <th>TTL</th>\n",
       "      <th>Shut_Down</th>\n",
       "      <th>2019</th>\n",
       "      <th>2018</th>\n",
       "      <th>2017</th>\n",
       "    </tr>\n",
       "  </thead>\n",
       "  <tbody>\n",
       "    <tr>\n",
       "      <th>0</th>\n",
       "      <td>1</td>\n",
       "      <td>0.43</td>\n",
       "      <td>7.49</td>\n",
       "      <td>0.00</td>\n",
       "      <td>0.00</td>\n",
       "      <td>0.00</td>\n",
       "    </tr>\n",
       "    <tr>\n",
       "      <th>1</th>\n",
       "      <td>2</td>\n",
       "      <td>41.58</td>\n",
       "      <td>47.45</td>\n",
       "      <td>45.70</td>\n",
       "      <td>39.03</td>\n",
       "      <td>32.42</td>\n",
       "    </tr>\n",
       "    <tr>\n",
       "      <th>2</th>\n",
       "      <td>3</td>\n",
       "      <td>50.03</td>\n",
       "      <td>37.58</td>\n",
       "      <td>45.91</td>\n",
       "      <td>54.02</td>\n",
       "      <td>59.92</td>\n",
       "    </tr>\n",
       "    <tr>\n",
       "      <th>3</th>\n",
       "      <td>4</td>\n",
       "      <td>7.96</td>\n",
       "      <td>7.49</td>\n",
       "      <td>8.39</td>\n",
       "      <td>6.95</td>\n",
       "      <td>7.67</td>\n",
       "    </tr>\n",
       "  </tbody>\n",
       "</table>\n",
       "</div>"
      ],
      "text/plain": [
       "   Severity_Rank    TTL  Shut_Down   2019   2018   2017\n",
       "0              1   0.43       7.49   0.00   0.00   0.00\n",
       "1              2  41.58      47.45  45.70  39.03  32.42\n",
       "2              3  50.03      37.58  45.91  54.02  59.92\n",
       "3              4   7.96       7.49   8.39   6.95   7.67"
      ]
     },
     "execution_count": 54,
     "metadata": {},
     "output_type": "execute_result"
    }
   ],
   "source": [
    "# first find percentages of severity ranks to total accidents for \n",
    "#   total and for each period \n",
    "\n",
    "ga_sp_ttl = severity_percent(ga_ttl)\n",
    "ga_sp_sd = severity_percent(ga_sd)\n",
    "ga_sp_2019 = severity_percent(ga_2019)\n",
    "ga_sp_2018 = severity_percent(ga_2018)\n",
    "ga_sp_2017 = severity_percent(ga_2017)\n",
    "\n",
    "# then again create a simple dataframe for comparison\n",
    "\n",
    "ga_severity_data = pd.DataFrame({'Severity_Rank': [1,2,3,4],\n",
    "                                 'TTL': ga_sp_ttl,\n",
    "                                 'Shut_Down': ga_sp_sd,\n",
    "                                 '2019': ga_sp_2019,\n",
    "                                 '2018': ga_sp_2018,\n",
    "                                 '2017': ga_sp_2017\n",
    "                                })\n",
    "\n",
    "ga_severity_data"
   ]
  },
  {
   "cell_type": "code",
   "execution_count": null,
   "metadata": {},
   "outputs": [],
   "source": []
  },
  {
   "cell_type": "markdown",
   "metadata": {},
   "source": [
    "-\n",
    "### Oregon\n",
    "\n",
    "First create periods we'll want to compare for the state >"
   ]
  },
  {
   "cell_type": "code",
   "execution_count": 55,
   "metadata": {},
   "outputs": [],
   "source": [
    "# full state period\n",
    "or_ttl = accident_covid[(accident_covid.State == 'OR')]\n",
    "\n",
    "# shutdown period\n",
    "or_sd = accident_covid[\n",
    "    (accident_covid.State == 'OR') & \n",
    "    (accident_covid.Shut_Down == 1)]\n",
    "\n",
    "# 2019 \n",
    "or_2019 = accident_covid[(car_accidents_master['Date'] > '2019-03-23') & \n",
    "                         (car_accidents_master['Date'] <= '2019-06-30') & \n",
    "                         (car_accidents_master['State'] == 'OR')]\n",
    "\n",
    "# 2018\n",
    "or_2018 = accident_covid[(car_accidents_master['Date'] > '2018-03-23') & \n",
    "                         (car_accidents_master['Date'] <= '2018-06-30') & \n",
    "                         (car_accidents_master['State'] == 'OR')]\n",
    "\n",
    "# 2017\n",
    "or_2017 = accident_covid[(car_accidents_master['Date'] > '2017-03-23') & \n",
    "                         (car_accidents_master['Date'] <= '2017-06-30') & \n",
    "                         (car_accidents_master['State'] == 'OR')]"
   ]
  },
  {
   "cell_type": "markdown",
   "metadata": {},
   "source": [
    "#### Frequency\n",
    "Now compare frequencies (total number) of car accidents for total, shut-down period in 2020, 2019, 2018, and 2017 (2019, 2018, & 2017 being in same month-day date range as shut-down period) >m"
   ]
  },
  {
   "cell_type": "code",
   "execution_count": 56,
   "metadata": {},
   "outputs": [
    {
     "data": {
      "text/html": [
       "<div>\n",
       "<style scoped>\n",
       "    .dataframe tbody tr th:only-of-type {\n",
       "        vertical-align: middle;\n",
       "    }\n",
       "\n",
       "    .dataframe tbody tr th {\n",
       "        vertical-align: top;\n",
       "    }\n",
       "\n",
       "    .dataframe thead th {\n",
       "        text-align: right;\n",
       "    }\n",
       "</style>\n",
       "<table border=\"1\" class=\"dataframe\">\n",
       "  <thead>\n",
       "    <tr style=\"text-align: right;\">\n",
       "      <th></th>\n",
       "      <th>Timeframe</th>\n",
       "      <th>Num_Accidents</th>\n",
       "    </tr>\n",
       "  </thead>\n",
       "  <tbody>\n",
       "    <tr>\n",
       "      <th>0</th>\n",
       "      <td>Total</td>\n",
       "      <td>90104</td>\n",
       "    </tr>\n",
       "    <tr>\n",
       "      <th>1</th>\n",
       "      <td>Shut_Down</td>\n",
       "      <td>9853</td>\n",
       "    </tr>\n",
       "    <tr>\n",
       "      <th>2</th>\n",
       "      <td>2019</td>\n",
       "      <td>7688</td>\n",
       "    </tr>\n",
       "    <tr>\n",
       "      <th>3</th>\n",
       "      <td>2018</td>\n",
       "      <td>2174</td>\n",
       "    </tr>\n",
       "    <tr>\n",
       "      <th>4</th>\n",
       "      <td>2017</td>\n",
       "      <td>433</td>\n",
       "    </tr>\n",
       "  </tbody>\n",
       "</table>\n",
       "</div>"
      ],
      "text/plain": [
       "   Timeframe  Num_Accidents\n",
       "0      Total          90104\n",
       "1  Shut_Down           9853\n",
       "2       2019           7688\n",
       "3       2018           2174\n",
       "4       2017            433"
      ]
     },
     "execution_count": 56,
     "metadata": {},
     "output_type": "execute_result"
    }
   ],
   "source": [
    "# find total frequencies for state total and in each period \n",
    "\n",
    "or_freqs = [or_ttl.shape[0],\n",
    "            or_sd.shape[0],\n",
    "            or_2019.shape[0],\n",
    "            or_2018.shape[0],\n",
    "            or_2017.shape[0]\n",
    "           ]\n",
    "\n",
    "# then develop a simple dataframe to compare them\n",
    "or_freq_data = pd.DataFrame({'Timeframe': ['Total','Shut_Down',2019,2018,2017],\n",
    "                                 'Num_Accidents': or_freqs})\n",
    "\n",
    "or_freq_data"
   ]
  },
  {
   "cell_type": "code",
   "execution_count": 57,
   "metadata": {},
   "outputs": [
    {
     "name": "stdout",
     "output_type": "stream",
     "text": [
      "Change Frequency: 187.12%\n"
     ]
    }
   ],
   "source": [
    "# percent change in frequency in 2020 stay-home compared to average past years\n",
    "\n",
    "change = change_freq(or_freq_data)\n",
    "print(\"Change Frequency: %.2f%%\" % (change))"
   ]
  },
  {
   "cell_type": "markdown",
   "metadata": {},
   "source": [
    "#### Severity\n",
    "Now compare severities of car accidents for total, shut-down period in 2020, 2019, 2018, and 2017 (2019, 2018 & 2017 being in same month-day date range as shut-down period) >"
   ]
  },
  {
   "cell_type": "code",
   "execution_count": 58,
   "metadata": {},
   "outputs": [
    {
     "data": {
      "text/html": [
       "<div>\n",
       "<style scoped>\n",
       "    .dataframe tbody tr th:only-of-type {\n",
       "        vertical-align: middle;\n",
       "    }\n",
       "\n",
       "    .dataframe tbody tr th {\n",
       "        vertical-align: top;\n",
       "    }\n",
       "\n",
       "    .dataframe thead th {\n",
       "        text-align: right;\n",
       "    }\n",
       "</style>\n",
       "<table border=\"1\" class=\"dataframe\">\n",
       "  <thead>\n",
       "    <tr style=\"text-align: right;\">\n",
       "      <th></th>\n",
       "      <th>Severity_Rank</th>\n",
       "      <th>TTL</th>\n",
       "      <th>Shut_Down</th>\n",
       "      <th>2019</th>\n",
       "      <th>2018</th>\n",
       "      <th>2017</th>\n",
       "    </tr>\n",
       "  </thead>\n",
       "  <tbody>\n",
       "    <tr>\n",
       "      <th>0</th>\n",
       "      <td>1</td>\n",
       "      <td>1.40</td>\n",
       "      <td>12.29</td>\n",
       "      <td>0.03</td>\n",
       "      <td>0.00</td>\n",
       "      <td>0.00</td>\n",
       "    </tr>\n",
       "    <tr>\n",
       "      <th>1</th>\n",
       "      <td>2</td>\n",
       "      <td>86.27</td>\n",
       "      <td>77.07</td>\n",
       "      <td>89.93</td>\n",
       "      <td>63.29</td>\n",
       "      <td>55.20</td>\n",
       "    </tr>\n",
       "    <tr>\n",
       "      <th>2</th>\n",
       "      <td>3</td>\n",
       "      <td>8.96</td>\n",
       "      <td>5.99</td>\n",
       "      <td>7.19</td>\n",
       "      <td>31.83</td>\n",
       "      <td>10.39</td>\n",
       "    </tr>\n",
       "    <tr>\n",
       "      <th>3</th>\n",
       "      <td>4</td>\n",
       "      <td>3.37</td>\n",
       "      <td>4.65</td>\n",
       "      <td>2.85</td>\n",
       "      <td>4.88</td>\n",
       "      <td>34.41</td>\n",
       "    </tr>\n",
       "  </tbody>\n",
       "</table>\n",
       "</div>"
      ],
      "text/plain": [
       "   Severity_Rank    TTL  Shut_Down   2019   2018   2017\n",
       "0              1   1.40      12.29   0.03   0.00   0.00\n",
       "1              2  86.27      77.07  89.93  63.29  55.20\n",
       "2              3   8.96       5.99   7.19  31.83  10.39\n",
       "3              4   3.37       4.65   2.85   4.88  34.41"
      ]
     },
     "execution_count": 58,
     "metadata": {},
     "output_type": "execute_result"
    }
   ],
   "source": [
    "# first find percentages of severity ranks to total accidents for \n",
    "#   total and for each period \n",
    "\n",
    "or_sp_ttl = severity_percent(or_ttl)\n",
    "or_sp_sd = severity_percent(or_sd)\n",
    "or_sp_2019 = severity_percent(or_2019)\n",
    "or_sp_2018 = severity_percent(or_2018)\n",
    "or_sp_2017 = severity_percent(or_2017)\n",
    "\n",
    "# then again create a simple dataframe for comparison\n",
    "\n",
    "or_severity_data = pd.DataFrame({'Severity_Rank': [1,2,3,4],\n",
    "                                 'TTL': or_sp_ttl,\n",
    "                                 'Shut_Down': or_sp_sd,\n",
    "                                 '2019': or_sp_2019,\n",
    "                                 '2018': or_sp_2018,\n",
    "                                 '2017': or_sp_2017\n",
    "                                })\n",
    "\n",
    "or_severity_data"
   ]
  },
  {
   "cell_type": "code",
   "execution_count": null,
   "metadata": {},
   "outputs": [],
   "source": []
  },
  {
   "cell_type": "markdown",
   "metadata": {},
   "source": [
    "-\n",
    "### Minnesota\n",
    "\n",
    "First create periods we'll want to compare for the state >"
   ]
  },
  {
   "cell_type": "code",
   "execution_count": 59,
   "metadata": {},
   "outputs": [],
   "source": [
    "# full state period\n",
    "mn_ttl = accident_covid[(accident_covid.State == 'MN')]\n",
    "\n",
    "# shutdown period\n",
    "mn_sd = accident_covid[\n",
    "    (accident_covid.State == 'MN') & \n",
    "    (accident_covid.Shut_Down == 1)]\n",
    "\n",
    "# 2019 \n",
    "mn_2019 = accident_covid[(car_accidents_master['Date'] > '2019-03-27') & \n",
    "                         (car_accidents_master['Date'] <= '2019-05-17') & \n",
    "                         (car_accidents_master['State'] == 'MN')]\n",
    "\n",
    "# 2018\n",
    "mn_2018 = accident_covid[(car_accidents_master['Date'] > '2018-03-27') & \n",
    "                         (car_accidents_master['Date'] <= '2018-05-17') & \n",
    "                         (car_accidents_master['State'] == 'MN')]\n",
    "\n",
    "# 2017\n",
    "mn_2017 = accident_covid[(car_accidents_master['Date'] > '2017-03-27') & \n",
    "                         (car_accidents_master['Date'] <= '2017-05-17') & \n",
    "                         (car_accidents_master['State'] == 'MN')]"
   ]
  },
  {
   "cell_type": "markdown",
   "metadata": {},
   "source": [
    "#### Frequency\n",
    "Now compare frequencies (total number) of car accidents for total, shut-down period in 2020, 2019, 2018, and 2017 (2019, 2018, & 2017 being in same month-day date range as shut-down period) >"
   ]
  },
  {
   "cell_type": "code",
   "execution_count": 60,
   "metadata": {},
   "outputs": [
    {
     "data": {
      "text/html": [
       "<div>\n",
       "<style scoped>\n",
       "    .dataframe tbody tr th:only-of-type {\n",
       "        vertical-align: middle;\n",
       "    }\n",
       "\n",
       "    .dataframe tbody tr th {\n",
       "        vertical-align: top;\n",
       "    }\n",
       "\n",
       "    .dataframe thead th {\n",
       "        text-align: right;\n",
       "    }\n",
       "</style>\n",
       "<table border=\"1\" class=\"dataframe\">\n",
       "  <thead>\n",
       "    <tr style=\"text-align: right;\">\n",
       "      <th></th>\n",
       "      <th>Timeframe</th>\n",
       "      <th>Num_Accidents</th>\n",
       "    </tr>\n",
       "  </thead>\n",
       "  <tbody>\n",
       "    <tr>\n",
       "      <th>0</th>\n",
       "      <td>Total</td>\n",
       "      <td>81700</td>\n",
       "    </tr>\n",
       "    <tr>\n",
       "      <th>1</th>\n",
       "      <td>Shut_Down</td>\n",
       "      <td>3354</td>\n",
       "    </tr>\n",
       "    <tr>\n",
       "      <th>2</th>\n",
       "      <td>2019</td>\n",
       "      <td>2313</td>\n",
       "    </tr>\n",
       "    <tr>\n",
       "      <th>3</th>\n",
       "      <td>2018</td>\n",
       "      <td>2645</td>\n",
       "    </tr>\n",
       "    <tr>\n",
       "      <th>4</th>\n",
       "      <td>2017</td>\n",
       "      <td>535</td>\n",
       "    </tr>\n",
       "  </tbody>\n",
       "</table>\n",
       "</div>"
      ],
      "text/plain": [
       "   Timeframe  Num_Accidents\n",
       "0      Total          81700\n",
       "1  Shut_Down           3354\n",
       "2       2019           2313\n",
       "3       2018           2645\n",
       "4       2017            535"
      ]
     },
     "execution_count": 60,
     "metadata": {},
     "output_type": "execute_result"
    }
   ],
   "source": [
    "# find total frequencies for state total and in each period \n",
    "\n",
    "mn_freqs = [mn_ttl.shape[0],\n",
    "            mn_sd.shape[0],\n",
    "            mn_2019.shape[0],\n",
    "            mn_2018.shape[0],\n",
    "            mn_2017.shape[0]\n",
    "           ]\n",
    "\n",
    "# then develop a simple dataframe to compare them\n",
    "mn_freq_data = pd.DataFrame({'Timeframe': ['Total','Shut_Down',2019,2018,2017],\n",
    "                                 'Num_Accidents': mn_freqs})\n",
    "\n",
    "mn_freq_data"
   ]
  },
  {
   "cell_type": "code",
   "execution_count": 61,
   "metadata": {},
   "outputs": [
    {
     "name": "stdout",
     "output_type": "stream",
     "text": [
      "Change Frequency: 83.18%\n"
     ]
    }
   ],
   "source": [
    "# percent change in frequency in 2020 stay-home compared to average past years\n",
    "\n",
    "change = change_freq(mn_freq_data)\n",
    "print(\"Change Frequency: %.2f%%\" % (change))"
   ]
  },
  {
   "cell_type": "markdown",
   "metadata": {},
   "source": [
    "#### Severity\n",
    "Now compare severities of car accidents for total, shut-down period in 2020, 2019, 2018, and 2017 (2019, 2018 & 2017 being in same month-day date range as shut-down period) >"
   ]
  },
  {
   "cell_type": "code",
   "execution_count": 62,
   "metadata": {},
   "outputs": [
    {
     "data": {
      "text/html": [
       "<div>\n",
       "<style scoped>\n",
       "    .dataframe tbody tr th:only-of-type {\n",
       "        vertical-align: middle;\n",
       "    }\n",
       "\n",
       "    .dataframe tbody tr th {\n",
       "        vertical-align: top;\n",
       "    }\n",
       "\n",
       "    .dataframe thead th {\n",
       "        text-align: right;\n",
       "    }\n",
       "</style>\n",
       "<table border=\"1\" class=\"dataframe\">\n",
       "  <thead>\n",
       "    <tr style=\"text-align: right;\">\n",
       "      <th></th>\n",
       "      <th>Severity_Rank</th>\n",
       "      <th>TTL</th>\n",
       "      <th>Shut_Down</th>\n",
       "      <th>2019</th>\n",
       "      <th>2018</th>\n",
       "      <th>2017</th>\n",
       "    </tr>\n",
       "  </thead>\n",
       "  <tbody>\n",
       "    <tr>\n",
       "      <th>0</th>\n",
       "      <td>1</td>\n",
       "      <td>0.05</td>\n",
       "      <td>0.36</td>\n",
       "      <td>0.00</td>\n",
       "      <td>0.11</td>\n",
       "      <td>0.00</td>\n",
       "    </tr>\n",
       "    <tr>\n",
       "      <th>1</th>\n",
       "      <td>2</td>\n",
       "      <td>65.35</td>\n",
       "      <td>77.61</td>\n",
       "      <td>61.05</td>\n",
       "      <td>38.26</td>\n",
       "      <td>87.85</td>\n",
       "    </tr>\n",
       "    <tr>\n",
       "      <th>2</th>\n",
       "      <td>3</td>\n",
       "      <td>34.03</td>\n",
       "      <td>21.14</td>\n",
       "      <td>37.74</td>\n",
       "      <td>61.17</td>\n",
       "      <td>10.65</td>\n",
       "    </tr>\n",
       "    <tr>\n",
       "      <th>3</th>\n",
       "      <td>4</td>\n",
       "      <td>0.57</td>\n",
       "      <td>0.89</td>\n",
       "      <td>1.21</td>\n",
       "      <td>0.45</td>\n",
       "      <td>1.50</td>\n",
       "    </tr>\n",
       "  </tbody>\n",
       "</table>\n",
       "</div>"
      ],
      "text/plain": [
       "   Severity_Rank    TTL  Shut_Down   2019   2018   2017\n",
       "0              1   0.05       0.36   0.00   0.11   0.00\n",
       "1              2  65.35      77.61  61.05  38.26  87.85\n",
       "2              3  34.03      21.14  37.74  61.17  10.65\n",
       "3              4   0.57       0.89   1.21   0.45   1.50"
      ]
     },
     "execution_count": 62,
     "metadata": {},
     "output_type": "execute_result"
    }
   ],
   "source": [
    "# first find percentages of severity ranks to total accidents for \n",
    "#   total and for each period \n",
    "\n",
    "mn_sp_ttl = severity_percent(mn_ttl)\n",
    "mn_sp_sd = severity_percent(mn_sd)\n",
    "mn_sp_2019 = severity_percent(mn_2019)\n",
    "mn_sp_2018 = severity_percent(mn_2018)\n",
    "mn_sp_2017 = severity_percent(mn_2017)\n",
    "\n",
    "# then again create a simple dataframe for comparison\n",
    "\n",
    "mn_severity_data = pd.DataFrame({'Severity_Rank': [1,2,3,4],\n",
    "                                 'TTL': mn_sp_ttl,\n",
    "                                 'Shut_Down': mn_sp_sd,\n",
    "                                 '2019': mn_sp_2019,\n",
    "                                 '2018': mn_sp_2018,\n",
    "                                 '2017': mn_sp_2017\n",
    "                                })\n",
    "\n",
    "mn_severity_data"
   ]
  },
  {
   "cell_type": "code",
   "execution_count": null,
   "metadata": {},
   "outputs": [],
   "source": []
  },
  {
   "cell_type": "markdown",
   "metadata": {},
   "source": [
    "-\n",
    "### Arizona\n",
    "\n",
    "First create periods we'll want to compare for the state >"
   ]
  },
  {
   "cell_type": "code",
   "execution_count": 63,
   "metadata": {},
   "outputs": [],
   "source": [
    "# full state period\n",
    "az_ttl = accident_covid[(accident_covid.State == 'AZ')]\n",
    "\n",
    "# shutdown period\n",
    "az_sd = accident_covid[\n",
    "    (accident_covid.State == 'AZ') & \n",
    "    (accident_covid.Shut_Down == 1)]\n",
    "\n",
    "# 2019 \n",
    "az_2019 = accident_covid[(car_accidents_master['Date'] > '2019-03-31') & \n",
    "                         (car_accidents_master['Date'] <= '2019-05-15') & \n",
    "                         (car_accidents_master['State'] == 'AZ')]\n",
    "\n",
    "# 2018\n",
    "az_2018 = accident_covid[(car_accidents_master['Date'] > '2018-03-31') & \n",
    "                         (car_accidents_master['Date'] <= '2018-05-15') & \n",
    "                         (car_accidents_master['State'] == 'AZ')]\n",
    "\n",
    "# 2017\n",
    "az_2017 = accident_covid[(car_accidents_master['Date'] > '2017-03-31') & \n",
    "                         (car_accidents_master['Date'] <= '2017-05-15') & \n",
    "                         (car_accidents_master['State'] == 'AZ')]"
   ]
  },
  {
   "cell_type": "markdown",
   "metadata": {},
   "source": [
    "#### Frequency\n",
    "Now compare frequencies (total number) of car accidents for total, shut-down period in 2020, 2019, 2018, and 2017 (2019, 2018, & 2017 being in same month-day date range as shut-down period) >"
   ]
  },
  {
   "cell_type": "code",
   "execution_count": 64,
   "metadata": {},
   "outputs": [
    {
     "data": {
      "text/html": [
       "<div>\n",
       "<style scoped>\n",
       "    .dataframe tbody tr th:only-of-type {\n",
       "        vertical-align: middle;\n",
       "    }\n",
       "\n",
       "    .dataframe tbody tr th {\n",
       "        vertical-align: top;\n",
       "    }\n",
       "\n",
       "    .dataframe thead th {\n",
       "        text-align: right;\n",
       "    }\n",
       "</style>\n",
       "<table border=\"1\" class=\"dataframe\">\n",
       "  <thead>\n",
       "    <tr style=\"text-align: right;\">\n",
       "      <th></th>\n",
       "      <th>Timeframe</th>\n",
       "      <th>Num_Accidents</th>\n",
       "    </tr>\n",
       "  </thead>\n",
       "  <tbody>\n",
       "    <tr>\n",
       "      <th>0</th>\n",
       "      <td>Total</td>\n",
       "      <td>78584</td>\n",
       "    </tr>\n",
       "    <tr>\n",
       "      <th>1</th>\n",
       "      <td>Shut_Down</td>\n",
       "      <td>4919</td>\n",
       "    </tr>\n",
       "    <tr>\n",
       "      <th>2</th>\n",
       "      <td>2019</td>\n",
       "      <td>2777</td>\n",
       "    </tr>\n",
       "    <tr>\n",
       "      <th>3</th>\n",
       "      <td>2018</td>\n",
       "      <td>2610</td>\n",
       "    </tr>\n",
       "    <tr>\n",
       "      <th>4</th>\n",
       "      <td>2017</td>\n",
       "      <td>469</td>\n",
       "    </tr>\n",
       "  </tbody>\n",
       "</table>\n",
       "</div>"
      ],
      "text/plain": [
       "   Timeframe  Num_Accidents\n",
       "0      Total          78584\n",
       "1  Shut_Down           4919\n",
       "2       2019           2777\n",
       "3       2018           2610\n",
       "4       2017            469"
      ]
     },
     "execution_count": 64,
     "metadata": {},
     "output_type": "execute_result"
    }
   ],
   "source": [
    "# find total frequencies for state total and in each period \n",
    "\n",
    "az_freqs = [az_ttl.shape[0],\n",
    "            az_sd.shape[0],\n",
    "            az_2019.shape[0],\n",
    "            az_2018.shape[0],\n",
    "            az_2017.shape[0]\n",
    "           ]\n",
    "\n",
    "# then develop a simple dataframe to compare them\n",
    "az_freq_data = pd.DataFrame({'Timeframe': ['Total','Shut_Down',2019,2018,2017],\n",
    "                                 'Num_Accidents': az_freqs})\n",
    "\n",
    "az_freq_data"
   ]
  },
  {
   "cell_type": "code",
   "execution_count": 65,
   "metadata": {},
   "outputs": [
    {
     "name": "stdout",
     "output_type": "stream",
     "text": [
      "Change Frequency: 152.00%\n"
     ]
    }
   ],
   "source": [
    "# percent change in frequency in 2020 stay-home compared to average past years\n",
    "\n",
    "change = change_freq(az_freq_data)\n",
    "print(\"Change Frequency: %.2f%%\" % (change))"
   ]
  },
  {
   "cell_type": "markdown",
   "metadata": {},
   "source": [
    "#### Severity\n",
    "Now compare severities of car accidents for total, shut-down period in 2020, 2019, 2018, and 2017 (2019, 2018 & 2017 being in same month-day date range as shut-down period) >"
   ]
  },
  {
   "cell_type": "code",
   "execution_count": 66,
   "metadata": {},
   "outputs": [
    {
     "data": {
      "text/html": [
       "<div>\n",
       "<style scoped>\n",
       "    .dataframe tbody tr th:only-of-type {\n",
       "        vertical-align: middle;\n",
       "    }\n",
       "\n",
       "    .dataframe tbody tr th {\n",
       "        vertical-align: top;\n",
       "    }\n",
       "\n",
       "    .dataframe thead th {\n",
       "        text-align: right;\n",
       "    }\n",
       "</style>\n",
       "<table border=\"1\" class=\"dataframe\">\n",
       "  <thead>\n",
       "    <tr style=\"text-align: right;\">\n",
       "      <th></th>\n",
       "      <th>Severity_Rank</th>\n",
       "      <th>TTL</th>\n",
       "      <th>Shut_Down</th>\n",
       "      <th>2019</th>\n",
       "      <th>2018</th>\n",
       "      <th>2017</th>\n",
       "    </tr>\n",
       "  </thead>\n",
       "  <tbody>\n",
       "    <tr>\n",
       "      <th>0</th>\n",
       "      <td>1</td>\n",
       "      <td>8.53</td>\n",
       "      <td>59.85</td>\n",
       "      <td>0.11</td>\n",
       "      <td>0.00</td>\n",
       "      <td>0.00</td>\n",
       "    </tr>\n",
       "    <tr>\n",
       "      <th>1</th>\n",
       "      <td>2</td>\n",
       "      <td>70.10</td>\n",
       "      <td>32.71</td>\n",
       "      <td>77.75</td>\n",
       "      <td>70.27</td>\n",
       "      <td>62.47</td>\n",
       "    </tr>\n",
       "    <tr>\n",
       "      <th>2</th>\n",
       "      <td>3</td>\n",
       "      <td>16.77</td>\n",
       "      <td>3.80</td>\n",
       "      <td>18.15</td>\n",
       "      <td>25.06</td>\n",
       "      <td>14.50</td>\n",
       "    </tr>\n",
       "    <tr>\n",
       "      <th>3</th>\n",
       "      <td>4</td>\n",
       "      <td>4.60</td>\n",
       "      <td>3.64</td>\n",
       "      <td>4.00</td>\n",
       "      <td>4.67</td>\n",
       "      <td>23.03</td>\n",
       "    </tr>\n",
       "  </tbody>\n",
       "</table>\n",
       "</div>"
      ],
      "text/plain": [
       "   Severity_Rank    TTL  Shut_Down   2019   2018   2017\n",
       "0              1   8.53      59.85   0.11   0.00   0.00\n",
       "1              2  70.10      32.71  77.75  70.27  62.47\n",
       "2              3  16.77       3.80  18.15  25.06  14.50\n",
       "3              4   4.60       3.64   4.00   4.67  23.03"
      ]
     },
     "execution_count": 66,
     "metadata": {},
     "output_type": "execute_result"
    }
   ],
   "source": [
    "# first find percentages of severity ranks to total accidents for \n",
    "#   total and for each period \n",
    "\n",
    "az_sp_ttl = severity_percent(az_ttl)\n",
    "az_sp_sd = severity_percent(az_sd)\n",
    "az_sp_2019 = severity_percent(az_2019)\n",
    "az_sp_2018 = severity_percent(az_2018)\n",
    "az_sp_2017 = severity_percent(az_2017)\n",
    "\n",
    "# then again create a simple dataframe for comparison\n",
    "\n",
    "az_severity_data = pd.DataFrame({'Severity_Rank': [1,2,3,4],\n",
    "                                 'TTL': az_sp_ttl,\n",
    "                                 'Shut_Down': az_sp_sd,\n",
    "                                 '2019': az_sp_2019,\n",
    "                                 '2018': az_sp_2018,\n",
    "                                 '2017': az_sp_2017\n",
    "                                })\n",
    "\n",
    "az_severity_data"
   ]
  },
  {
   "cell_type": "code",
   "execution_count": null,
   "metadata": {},
   "outputs": [],
   "source": []
  },
  {
   "cell_type": "markdown",
   "metadata": {},
   "source": [
    "-\n",
    "### Tennessee\n",
    "\n",
    "First create periods we'll want to compare for the state >"
   ]
  },
  {
   "cell_type": "code",
   "execution_count": 67,
   "metadata": {},
   "outputs": [],
   "source": [
    "# full state period\n",
    "tn_ttl = accident_covid[(accident_covid.State == 'TN')]\n",
    "\n",
    "# shutdown period\n",
    "tn_sd = accident_covid[\n",
    "    (accident_covid.State == 'TN') & \n",
    "    (accident_covid.Shut_Down == 1)]\n",
    "\n",
    "# 2019 \n",
    "tn_2019 = accident_covid[(car_accidents_master['Date'] > '2019-03-31') & \n",
    "                         (car_accidents_master['Date'] <= '2019-04-30') & \n",
    "                         (car_accidents_master['State'] == 'TN')]\n",
    "\n",
    "# 2018\n",
    "tn_2018 = accident_covid[(car_accidents_master['Date'] > '2018-03-31') & \n",
    "                         (car_accidents_master['Date'] <= '2018-04-30') & \n",
    "                         (car_accidents_master['State'] == 'TN')]\n",
    "\n",
    "# 2017\n",
    "tn_2017 = accident_covid[(car_accidents_master['Date'] > '2017-03-31') & \n",
    "                         (car_accidents_master['Date'] <= '2017-04-30') & \n",
    "                         (car_accidents_master['State'] == 'TN')]"
   ]
  },
  {
   "cell_type": "markdown",
   "metadata": {},
   "source": [
    "#### Frequency\n",
    "Now compare frequencies (total number) of car accidents for total, shut-down period in 2020, 2019, 2018, and 2017 (2019, 2018, & 2017 being in same month-day date range as shut-down period) >"
   ]
  },
  {
   "cell_type": "code",
   "execution_count": 68,
   "metadata": {},
   "outputs": [
    {
     "data": {
      "text/html": [
       "<div>\n",
       "<style scoped>\n",
       "    .dataframe tbody tr th:only-of-type {\n",
       "        vertical-align: middle;\n",
       "    }\n",
       "\n",
       "    .dataframe tbody tr th {\n",
       "        vertical-align: top;\n",
       "    }\n",
       "\n",
       "    .dataframe thead th {\n",
       "        text-align: right;\n",
       "    }\n",
       "</style>\n",
       "<table border=\"1\" class=\"dataframe\">\n",
       "  <thead>\n",
       "    <tr style=\"text-align: right;\">\n",
       "      <th></th>\n",
       "      <th>Timeframe</th>\n",
       "      <th>Num_Accidents</th>\n",
       "    </tr>\n",
       "  </thead>\n",
       "  <tbody>\n",
       "    <tr>\n",
       "      <th>0</th>\n",
       "      <td>Total</td>\n",
       "      <td>69895</td>\n",
       "    </tr>\n",
       "    <tr>\n",
       "      <th>1</th>\n",
       "      <td>Shut_Down</td>\n",
       "      <td>1614</td>\n",
       "    </tr>\n",
       "    <tr>\n",
       "      <th>2</th>\n",
       "      <td>2019</td>\n",
       "      <td>2324</td>\n",
       "    </tr>\n",
       "    <tr>\n",
       "      <th>3</th>\n",
       "      <td>2018</td>\n",
       "      <td>2124</td>\n",
       "    </tr>\n",
       "    <tr>\n",
       "      <th>4</th>\n",
       "      <td>2017</td>\n",
       "      <td>274</td>\n",
       "    </tr>\n",
       "  </tbody>\n",
       "</table>\n",
       "</div>"
      ],
      "text/plain": [
       "   Timeframe  Num_Accidents\n",
       "0      Total          69895\n",
       "1  Shut_Down           1614\n",
       "2       2019           2324\n",
       "3       2018           2124\n",
       "4       2017            274"
      ]
     },
     "execution_count": 68,
     "metadata": {},
     "output_type": "execute_result"
    }
   ],
   "source": [
    "# find total frequencies for state total and in each period \n",
    "\n",
    "tn_freqs = [tn_ttl.shape[0],\n",
    "            tn_sd.shape[0],\n",
    "            tn_2019.shape[0],\n",
    "            tn_2018.shape[0],\n",
    "            tn_2017.shape[0]\n",
    "           ]\n",
    "\n",
    "# then develop a simple dataframe to compare them\n",
    "tn_freq_data = pd.DataFrame({'Timeframe': ['Total','Shut_Down',2019,2018,2017],\n",
    "                                 'Num_Accidents': tn_freqs})\n",
    "\n",
    "tn_freq_data"
   ]
  },
  {
   "cell_type": "code",
   "execution_count": 69,
   "metadata": {},
   "outputs": [
    {
     "name": "stdout",
     "output_type": "stream",
     "text": [
      "Change Frequency: 2.54%\n"
     ]
    }
   ],
   "source": [
    "# percent change in frequency in 2020 stay-home compared to average past years\n",
    "\n",
    "change = change_freq(tn_freq_data)\n",
    "print(\"Change Frequency: %.2f%%\" % (change))"
   ]
  },
  {
   "cell_type": "markdown",
   "metadata": {},
   "source": [
    "#### Severity\n",
    "Now compare severities of car accidents for total, shut-down period in 2020, 2019, 2018, and 2017 (2019, 2018 & 2017 being in same month-day date range as shut-down period) >"
   ]
  },
  {
   "cell_type": "code",
   "execution_count": 70,
   "metadata": {},
   "outputs": [
    {
     "data": {
      "text/html": [
       "<div>\n",
       "<style scoped>\n",
       "    .dataframe tbody tr th:only-of-type {\n",
       "        vertical-align: middle;\n",
       "    }\n",
       "\n",
       "    .dataframe tbody tr th {\n",
       "        vertical-align: top;\n",
       "    }\n",
       "\n",
       "    .dataframe thead th {\n",
       "        text-align: right;\n",
       "    }\n",
       "</style>\n",
       "<table border=\"1\" class=\"dataframe\">\n",
       "  <thead>\n",
       "    <tr style=\"text-align: right;\">\n",
       "      <th></th>\n",
       "      <th>Severity_Rank</th>\n",
       "      <th>TTL</th>\n",
       "      <th>Shut_Down</th>\n",
       "      <th>2019</th>\n",
       "      <th>2018</th>\n",
       "      <th>2017</th>\n",
       "    </tr>\n",
       "  </thead>\n",
       "  <tbody>\n",
       "    <tr>\n",
       "      <th>0</th>\n",
       "      <td>1</td>\n",
       "      <td>2.08</td>\n",
       "      <td>25.28</td>\n",
       "      <td>0.04</td>\n",
       "      <td>0.09</td>\n",
       "      <td>0.00</td>\n",
       "    </tr>\n",
       "    <tr>\n",
       "      <th>1</th>\n",
       "      <td>2</td>\n",
       "      <td>65.73</td>\n",
       "      <td>54.89</td>\n",
       "      <td>73.28</td>\n",
       "      <td>58.05</td>\n",
       "      <td>68.61</td>\n",
       "    </tr>\n",
       "    <tr>\n",
       "      <th>2</th>\n",
       "      <td>3</td>\n",
       "      <td>29.77</td>\n",
       "      <td>17.91</td>\n",
       "      <td>25.13</td>\n",
       "      <td>39.97</td>\n",
       "      <td>14.60</td>\n",
       "    </tr>\n",
       "    <tr>\n",
       "      <th>3</th>\n",
       "      <td>4</td>\n",
       "      <td>2.42</td>\n",
       "      <td>1.92</td>\n",
       "      <td>1.55</td>\n",
       "      <td>1.88</td>\n",
       "      <td>16.79</td>\n",
       "    </tr>\n",
       "  </tbody>\n",
       "</table>\n",
       "</div>"
      ],
      "text/plain": [
       "   Severity_Rank    TTL  Shut_Down   2019   2018   2017\n",
       "0              1   2.08      25.28   0.04   0.09   0.00\n",
       "1              2  65.73      54.89  73.28  58.05  68.61\n",
       "2              3  29.77      17.91  25.13  39.97  14.60\n",
       "3              4   2.42       1.92   1.55   1.88  16.79"
      ]
     },
     "execution_count": 70,
     "metadata": {},
     "output_type": "execute_result"
    }
   ],
   "source": [
    "# first find percentages of severity ranks to total accidents for \n",
    "#   total and for each period \n",
    "\n",
    "tn_sp_ttl = severity_percent(tn_ttl)\n",
    "tn_sp_sd = severity_percent(tn_sd)\n",
    "tn_sp_2019 = severity_percent(tn_2019)\n",
    "tn_sp_2018 = severity_percent(tn_2018)\n",
    "tn_sp_2017 = severity_percent(tn_2017)\n",
    "\n",
    "# then again create a simple dataframe for comparison\n",
    "\n",
    "tn_severity_data = pd.DataFrame({'Severity_Rank': [1,2,3,4],\n",
    "                                 'TTL': tn_sp_ttl,\n",
    "                                 'Shut_Down': tn_sp_sd,\n",
    "                                 '2019': tn_sp_2019,\n",
    "                                 '2018': tn_sp_2018,\n",
    "                                 '2017': tn_sp_2017\n",
    "                                })\n",
    "\n",
    "tn_severity_data"
   ]
  },
  {
   "cell_type": "code",
   "execution_count": null,
   "metadata": {},
   "outputs": [],
   "source": []
  },
  {
   "cell_type": "markdown",
   "metadata": {},
   "source": [
    "-\n",
    "### Washington\n",
    "\n",
    "First create periods we'll want to compare for the state >"
   ]
  },
  {
   "cell_type": "code",
   "execution_count": 71,
   "metadata": {},
   "outputs": [],
   "source": [
    "# full state period\n",
    "wa_ttl = accident_covid[(accident_covid.State == 'WA')]\n",
    "\n",
    "# shutdown period\n",
    "wa_sd = accident_covid[\n",
    "    (accident_covid.State == 'WA') & \n",
    "    (accident_covid.Shut_Down == 1)]\n",
    "\n",
    "# 2019 \n",
    "wa_2019 = accident_covid[(car_accidents_master['Date'] > '2019-03-23') & \n",
    "                         (car_accidents_master['Date'] <= '2019-05-31') & \n",
    "                         (car_accidents_master['State'] == 'WA')]\n",
    "\n",
    "# 2018\n",
    "wa_2018 = accident_covid[(car_accidents_master['Date'] > '2018-03-23') & \n",
    "                         (car_accidents_master['Date'] <= '2018-05-31') & \n",
    "                         (car_accidents_master['State'] == 'WA')]\n",
    "\n",
    "# 2017\n",
    "wa_2017 = accident_covid[(car_accidents_master['Date'] > '2017-03-23') & \n",
    "                         (car_accidents_master['Date'] <= '2017-05-31') & \n",
    "                         (car_accidents_master['State'] == 'WA')]"
   ]
  },
  {
   "cell_type": "markdown",
   "metadata": {},
   "source": [
    "#### Frequency\n",
    "Now compare frequencies (total number) of car accidents for total, shut-down period in 2020, 2019, 2018, and 2017 (2019, 2018, & 2017 being in same month-day date range as shut-down period) >"
   ]
  },
  {
   "cell_type": "code",
   "execution_count": 72,
   "metadata": {},
   "outputs": [
    {
     "data": {
      "text/html": [
       "<div>\n",
       "<style scoped>\n",
       "    .dataframe tbody tr th:only-of-type {\n",
       "        vertical-align: middle;\n",
       "    }\n",
       "\n",
       "    .dataframe tbody tr th {\n",
       "        vertical-align: top;\n",
       "    }\n",
       "\n",
       "    .dataframe thead th {\n",
       "        text-align: right;\n",
       "    }\n",
       "</style>\n",
       "<table border=\"1\" class=\"dataframe\">\n",
       "  <thead>\n",
       "    <tr style=\"text-align: right;\">\n",
       "      <th></th>\n",
       "      <th>Timeframe</th>\n",
       "      <th>Num_Accidents</th>\n",
       "    </tr>\n",
       "  </thead>\n",
       "  <tbody>\n",
       "    <tr>\n",
       "      <th>0</th>\n",
       "      <td>Total</td>\n",
       "      <td>68541</td>\n",
       "    </tr>\n",
       "    <tr>\n",
       "      <th>1</th>\n",
       "      <td>Shut_Down</td>\n",
       "      <td>2461</td>\n",
       "    </tr>\n",
       "    <tr>\n",
       "      <th>2</th>\n",
       "      <td>2019</td>\n",
       "      <td>2647</td>\n",
       "    </tr>\n",
       "    <tr>\n",
       "      <th>3</th>\n",
       "      <td>2018</td>\n",
       "      <td>3627</td>\n",
       "    </tr>\n",
       "    <tr>\n",
       "      <th>4</th>\n",
       "      <td>2017</td>\n",
       "      <td>2572</td>\n",
       "    </tr>\n",
       "  </tbody>\n",
       "</table>\n",
       "</div>"
      ],
      "text/plain": [
       "   Timeframe  Num_Accidents\n",
       "0      Total          68541\n",
       "1  Shut_Down           2461\n",
       "2       2019           2647\n",
       "3       2018           3627\n",
       "4       2017           2572"
      ]
     },
     "execution_count": 72,
     "metadata": {},
     "output_type": "execute_result"
    }
   ],
   "source": [
    "# find total frequencies for state total and in each period \n",
    "\n",
    "wa_freqs = [wa_ttl.shape[0],\n",
    "            wa_sd.shape[0],\n",
    "            wa_2019.shape[0],\n",
    "            wa_2018.shape[0],\n",
    "            wa_2017.shape[0]\n",
    "           ]\n",
    "\n",
    "# then develop a simple dataframe to compare them\n",
    "wa_freq_data = pd.DataFrame({'Timeframe': ['Total','Shut_Down',2019,2018,2017],\n",
    "                                 'Num_Accidents': wa_freqs})\n",
    "\n",
    "wa_freq_data"
   ]
  },
  {
   "cell_type": "code",
   "execution_count": 73,
   "metadata": {},
   "outputs": [
    {
     "name": "stdout",
     "output_type": "stream",
     "text": [
      "Change Frequency: -16.54%\n"
     ]
    }
   ],
   "source": [
    "# percent change in frequency in 2020 stay-home compared to average past years\n",
    "\n",
    "change = change_freq(wa_freq_data)\n",
    "print(\"Change Frequency: %.2f%%\" % (change))"
   ]
  },
  {
   "cell_type": "markdown",
   "metadata": {},
   "source": [
    "#### Severity\n",
    "Now compare severities of car accidents for total, shut-down period in 2020, 2019, 2018, and 2017 (2019, 2018 & 2017 being in same month-day date range as shut-down period) >"
   ]
  },
  {
   "cell_type": "code",
   "execution_count": 74,
   "metadata": {},
   "outputs": [
    {
     "data": {
      "text/html": [
       "<div>\n",
       "<style scoped>\n",
       "    .dataframe tbody tr th:only-of-type {\n",
       "        vertical-align: middle;\n",
       "    }\n",
       "\n",
       "    .dataframe tbody tr th {\n",
       "        vertical-align: top;\n",
       "    }\n",
       "\n",
       "    .dataframe thead th {\n",
       "        text-align: right;\n",
       "    }\n",
       "</style>\n",
       "<table border=\"1\" class=\"dataframe\">\n",
       "  <thead>\n",
       "    <tr style=\"text-align: right;\">\n",
       "      <th></th>\n",
       "      <th>Severity_Rank</th>\n",
       "      <th>TTL</th>\n",
       "      <th>Shut_Down</th>\n",
       "      <th>2019</th>\n",
       "      <th>2018</th>\n",
       "      <th>2017</th>\n",
       "    </tr>\n",
       "  </thead>\n",
       "  <tbody>\n",
       "    <tr>\n",
       "      <th>0</th>\n",
       "      <td>1</td>\n",
       "      <td>0.77</td>\n",
       "      <td>13.45</td>\n",
       "      <td>0.00</td>\n",
       "      <td>0.03</td>\n",
       "      <td>0.08</td>\n",
       "    </tr>\n",
       "    <tr>\n",
       "      <th>1</th>\n",
       "      <td>2</td>\n",
       "      <td>60.88</td>\n",
       "      <td>62.29</td>\n",
       "      <td>56.14</td>\n",
       "      <td>61.04</td>\n",
       "      <td>59.84</td>\n",
       "    </tr>\n",
       "    <tr>\n",
       "      <th>2</th>\n",
       "      <td>3</td>\n",
       "      <td>33.90</td>\n",
       "      <td>19.42</td>\n",
       "      <td>37.21</td>\n",
       "      <td>35.18</td>\n",
       "      <td>36.00</td>\n",
       "    </tr>\n",
       "    <tr>\n",
       "      <th>3</th>\n",
       "      <td>4</td>\n",
       "      <td>4.44</td>\n",
       "      <td>4.84</td>\n",
       "      <td>6.65</td>\n",
       "      <td>3.75</td>\n",
       "      <td>4.08</td>\n",
       "    </tr>\n",
       "  </tbody>\n",
       "</table>\n",
       "</div>"
      ],
      "text/plain": [
       "   Severity_Rank    TTL  Shut_Down   2019   2018   2017\n",
       "0              1   0.77      13.45   0.00   0.03   0.08\n",
       "1              2  60.88      62.29  56.14  61.04  59.84\n",
       "2              3  33.90      19.42  37.21  35.18  36.00\n",
       "3              4   4.44       4.84   6.65   3.75   4.08"
      ]
     },
     "execution_count": 74,
     "metadata": {},
     "output_type": "execute_result"
    }
   ],
   "source": [
    "# first find percentages of severity ranks to total accidents for \n",
    "#   total and for each period \n",
    "\n",
    "wa_sp_ttl = severity_percent(wa_ttl)\n",
    "wa_sp_sd = severity_percent(wa_sd)\n",
    "wa_sp_2019 = severity_percent(wa_2019)\n",
    "wa_sp_2018 = severity_percent(wa_2018)\n",
    "wa_sp_2017 = severity_percent(wa_2017)\n",
    "\n",
    "# then again create a simple dataframe for comparison\n",
    "\n",
    "wa_severity_data = pd.DataFrame({'Severity_Rank': [1,2,3,4],\n",
    "                                 'TTL': wa_sp_ttl,\n",
    "                                 'Shut_Down': wa_sp_sd,\n",
    "                                 '2019': wa_sp_2019,\n",
    "                                 '2018': wa_sp_2018,\n",
    "                                 '2017': wa_sp_2017\n",
    "                                })\n",
    "\n",
    "wa_severity_data"
   ]
  },
  {
   "cell_type": "code",
   "execution_count": null,
   "metadata": {},
   "outputs": [],
   "source": []
  },
  {
   "cell_type": "markdown",
   "metadata": {},
   "source": [
    "-\n",
    "### Ohio\n",
    "\n",
    "First create periods we'll want to compare for the state >"
   ]
  },
  {
   "cell_type": "code",
   "execution_count": 75,
   "metadata": {},
   "outputs": [],
   "source": [
    "# full state period\n",
    "oh_ttl = accident_covid[(accident_covid.State == 'OH')]\n",
    "\n",
    "# shutdown period\n",
    "oh_sd = accident_covid[\n",
    "    (accident_covid.State == 'OH') & \n",
    "    (accident_covid.Shut_Down == 1)]\n",
    "\n",
    "# 2019 \n",
    "oh_2019 = accident_covid[(car_accidents_master['Date'] > '2019-03-22') & \n",
    "                         (car_accidents_master['Date'] <= '2019-06-13') & \n",
    "                         (car_accidents_master['State'] == 'OH')]\n",
    "\n",
    "# 2018\n",
    "oh_2018 = accident_covid[(car_accidents_master['Date'] > '2018-03-22') & \n",
    "                         (car_accidents_master['Date'] <= '2018-06-13') & \n",
    "                         (car_accidents_master['State'] == 'OH')]\n",
    "\n",
    "# 2017\n",
    "oh_2017 = accident_covid[(car_accidents_master['Date'] > '2017-03-22') & \n",
    "                         (car_accidents_master['Date'] <= '2017-06-13') & \n",
    "                         (car_accidents_master['State'] == 'OH')]"
   ]
  },
  {
   "cell_type": "markdown",
   "metadata": {},
   "source": [
    "#### Frequency\n",
    "Now compare frequencies (total number) of car accidents for total, shut-down period in 2020, 2019, 2018, and 2017 (2019, 2018, & 2017 being in same month-day date range as shut-down period) >"
   ]
  },
  {
   "cell_type": "code",
   "execution_count": 76,
   "metadata": {},
   "outputs": [
    {
     "data": {
      "text/html": [
       "<div>\n",
       "<style scoped>\n",
       "    .dataframe tbody tr th:only-of-type {\n",
       "        vertical-align: middle;\n",
       "    }\n",
       "\n",
       "    .dataframe tbody tr th {\n",
       "        vertical-align: top;\n",
       "    }\n",
       "\n",
       "    .dataframe thead th {\n",
       "        text-align: right;\n",
       "    }\n",
       "</style>\n",
       "<table border=\"1\" class=\"dataframe\">\n",
       "  <thead>\n",
       "    <tr style=\"text-align: right;\">\n",
       "      <th></th>\n",
       "      <th>Timeframe</th>\n",
       "      <th>Num_Accidents</th>\n",
       "    </tr>\n",
       "  </thead>\n",
       "  <tbody>\n",
       "    <tr>\n",
       "      <th>0</th>\n",
       "      <td>Total</td>\n",
       "      <td>66137</td>\n",
       "    </tr>\n",
       "    <tr>\n",
       "      <th>1</th>\n",
       "      <td>Shut_Down</td>\n",
       "      <td>5805</td>\n",
       "    </tr>\n",
       "    <tr>\n",
       "      <th>2</th>\n",
       "      <td>2019</td>\n",
       "      <td>2594</td>\n",
       "    </tr>\n",
       "    <tr>\n",
       "      <th>3</th>\n",
       "      <td>2018</td>\n",
       "      <td>3188</td>\n",
       "    </tr>\n",
       "    <tr>\n",
       "      <th>4</th>\n",
       "      <td>2017</td>\n",
       "      <td>2211</td>\n",
       "    </tr>\n",
       "  </tbody>\n",
       "</table>\n",
       "</div>"
      ],
      "text/plain": [
       "   Timeframe  Num_Accidents\n",
       "0      Total          66137\n",
       "1  Shut_Down           5805\n",
       "2       2019           2594\n",
       "3       2018           3188\n",
       "4       2017           2211"
      ]
     },
     "execution_count": 76,
     "metadata": {},
     "output_type": "execute_result"
    }
   ],
   "source": [
    "# find total frequencies for state total and in each period \n",
    "\n",
    "oh_freqs = [oh_ttl.shape[0],\n",
    "            oh_sd.shape[0],\n",
    "            oh_2019.shape[0],\n",
    "            oh_2018.shape[0],\n",
    "            oh_2017.shape[0]\n",
    "           ]\n",
    "\n",
    "# then develop a simple dataframe to compare them\n",
    "oh_freq_data = pd.DataFrame({'Timeframe': ['Total','Shut_Down',2019,2018,2017],\n",
    "                                 'Num_Accidents': oh_freqs})\n",
    "\n",
    "oh_freq_data"
   ]
  },
  {
   "cell_type": "code",
   "execution_count": 77,
   "metadata": {},
   "outputs": [
    {
     "name": "stdout",
     "output_type": "stream",
     "text": [
      "Change Frequency: 117.88%\n"
     ]
    }
   ],
   "source": [
    "# percent change in frequency in 2020 stay-home compared to average past years\n",
    "\n",
    "change = change_freq(oh_freq_data)\n",
    "print(\"Change Frequency: %.2f%%\" % (change))"
   ]
  },
  {
   "cell_type": "markdown",
   "metadata": {},
   "source": [
    "#### Severity\n",
    "Now compare severities of car accidents for total, shut-down period in 2020, 2019, 2018, and 2017 (2019, 2018 & 2017 being in same month-day date range as shut-down period) >"
   ]
  },
  {
   "cell_type": "code",
   "execution_count": 78,
   "metadata": {},
   "outputs": [
    {
     "data": {
      "text/html": [
       "<div>\n",
       "<style scoped>\n",
       "    .dataframe tbody tr th:only-of-type {\n",
       "        vertical-align: middle;\n",
       "    }\n",
       "\n",
       "    .dataframe tbody tr th {\n",
       "        vertical-align: top;\n",
       "    }\n",
       "\n",
       "    .dataframe thead th {\n",
       "        text-align: right;\n",
       "    }\n",
       "</style>\n",
       "<table border=\"1\" class=\"dataframe\">\n",
       "  <thead>\n",
       "    <tr style=\"text-align: right;\">\n",
       "      <th></th>\n",
       "      <th>Severity_Rank</th>\n",
       "      <th>TTL</th>\n",
       "      <th>Shut_Down</th>\n",
       "      <th>2019</th>\n",
       "      <th>2018</th>\n",
       "      <th>2017</th>\n",
       "    </tr>\n",
       "  </thead>\n",
       "  <tbody>\n",
       "    <tr>\n",
       "      <th>0</th>\n",
       "      <td>1</td>\n",
       "      <td>0.80</td>\n",
       "      <td>6.61</td>\n",
       "      <td>0.00</td>\n",
       "      <td>0.03</td>\n",
       "      <td>0.00</td>\n",
       "    </tr>\n",
       "    <tr>\n",
       "      <th>1</th>\n",
       "      <td>2</td>\n",
       "      <td>62.17</td>\n",
       "      <td>73.21</td>\n",
       "      <td>59.56</td>\n",
       "      <td>52.63</td>\n",
       "      <td>58.48</td>\n",
       "    </tr>\n",
       "    <tr>\n",
       "      <th>2</th>\n",
       "      <td>3</td>\n",
       "      <td>28.58</td>\n",
       "      <td>12.49</td>\n",
       "      <td>34.58</td>\n",
       "      <td>36.89</td>\n",
       "      <td>26.37</td>\n",
       "    </tr>\n",
       "    <tr>\n",
       "      <th>3</th>\n",
       "      <td>4</td>\n",
       "      <td>8.45</td>\n",
       "      <td>7.68</td>\n",
       "      <td>5.86</td>\n",
       "      <td>10.45</td>\n",
       "      <td>15.15</td>\n",
       "    </tr>\n",
       "  </tbody>\n",
       "</table>\n",
       "</div>"
      ],
      "text/plain": [
       "   Severity_Rank    TTL  Shut_Down   2019   2018   2017\n",
       "0              1   0.80       6.61   0.00   0.03   0.00\n",
       "1              2  62.17      73.21  59.56  52.63  58.48\n",
       "2              3  28.58      12.49  34.58  36.89  26.37\n",
       "3              4   8.45       7.68   5.86  10.45  15.15"
      ]
     },
     "execution_count": 78,
     "metadata": {},
     "output_type": "execute_result"
    }
   ],
   "source": [
    "# first find percentages of severity ranks to total accidents for \n",
    "#   total and for each period \n",
    "\n",
    "oh_sp_ttl = severity_percent(oh_ttl)\n",
    "oh_sp_sd = severity_percent(oh_sd)\n",
    "oh_sp_2019 = severity_percent(oh_2019)\n",
    "oh_sp_2018 = severity_percent(oh_2018)\n",
    "oh_sp_2017 = severity_percent(oh_2017)\n",
    "\n",
    "# then again create a simple dataframe for comparison\n",
    "\n",
    "oh_severity_data = pd.DataFrame({'Severity_Rank': [1,2,3,4],\n",
    "                                 'TTL': oh_sp_ttl,\n",
    "                                 'Shut_Down': oh_sp_sd,\n",
    "                                 '2019': oh_sp_2019,\n",
    "                                 '2018': oh_sp_2018,\n",
    "                                 '2017': oh_sp_2017\n",
    "                                })\n",
    "\n",
    "oh_severity_data"
   ]
  },
  {
   "cell_type": "code",
   "execution_count": null,
   "metadata": {},
   "outputs": [],
   "source": []
  },
  {
   "cell_type": "markdown",
   "metadata": {},
   "source": [
    "-\n",
    "### Louisiana\n",
    "\n",
    "First create periods we'll want to compare for the state >"
   ]
  },
  {
   "cell_type": "code",
   "execution_count": 79,
   "metadata": {},
   "outputs": [],
   "source": [
    "# full state period\n",
    "la_ttl = accident_covid[(accident_covid.State == 'LA')]\n",
    "\n",
    "# shutdown period\n",
    "la_sd = accident_covid[\n",
    "    (accident_covid.State == 'LA') & \n",
    "    (accident_covid.Shut_Down == 1)]\n",
    "\n",
    "# 2019 \n",
    "la_2019 = accident_covid[(car_accidents_master['Date'] > '2019-03-22') & \n",
    "                         (car_accidents_master['Date'] <= '2019-05-15') & \n",
    "                         (car_accidents_master['State'] == 'LA')]\n",
    "\n",
    "# 2018\n",
    "la_2018 = accident_covid[(car_accidents_master['Date'] > '2018-03-22') & \n",
    "                         (car_accidents_master['Date'] <= '2018-05-15') & \n",
    "                         (car_accidents_master['State'] == 'LA')]\n",
    "\n",
    "# 2017\n",
    "la_2017 = accident_covid[(car_accidents_master['Date'] > '2017-03-22') & \n",
    "                         (car_accidents_master['Date'] <= '2017-05-15') & \n",
    "                         (car_accidents_master['State'] == 'LA')]"
   ]
  },
  {
   "cell_type": "markdown",
   "metadata": {},
   "source": [
    "#### Frequency\n",
    "Now compare frequencies (total number) of car accidents for total, shut-down period in 2020, 2019, 2018, and 2017 (2019, 2018, & 2017 being in same month-day date range as shut-down period) >"
   ]
  },
  {
   "cell_type": "code",
   "execution_count": 80,
   "metadata": {},
   "outputs": [
    {
     "data": {
      "text/html": [
       "<div>\n",
       "<style scoped>\n",
       "    .dataframe tbody tr th:only-of-type {\n",
       "        vertical-align: middle;\n",
       "    }\n",
       "\n",
       "    .dataframe tbody tr th {\n",
       "        vertical-align: top;\n",
       "    }\n",
       "\n",
       "    .dataframe thead th {\n",
       "        text-align: right;\n",
       "    }\n",
       "</style>\n",
       "<table border=\"1\" class=\"dataframe\">\n",
       "  <thead>\n",
       "    <tr style=\"text-align: right;\">\n",
       "      <th></th>\n",
       "      <th>Timeframe</th>\n",
       "      <th>Num_Accidents</th>\n",
       "    </tr>\n",
       "  </thead>\n",
       "  <tbody>\n",
       "    <tr>\n",
       "      <th>0</th>\n",
       "      <td>Total</td>\n",
       "      <td>61512</td>\n",
       "    </tr>\n",
       "    <tr>\n",
       "      <th>1</th>\n",
       "      <td>Shut_Down</td>\n",
       "      <td>2683</td>\n",
       "    </tr>\n",
       "    <tr>\n",
       "      <th>2</th>\n",
       "      <td>2019</td>\n",
       "      <td>2946</td>\n",
       "    </tr>\n",
       "    <tr>\n",
       "      <th>3</th>\n",
       "      <td>2018</td>\n",
       "      <td>3938</td>\n",
       "    </tr>\n",
       "    <tr>\n",
       "      <th>4</th>\n",
       "      <td>2017</td>\n",
       "      <td>211</td>\n",
       "    </tr>\n",
       "  </tbody>\n",
       "</table>\n",
       "</div>"
      ],
      "text/plain": [
       "   Timeframe  Num_Accidents\n",
       "0      Total          61512\n",
       "1  Shut_Down           2683\n",
       "2       2019           2946\n",
       "3       2018           3938\n",
       "4       2017            211"
      ]
     },
     "execution_count": 80,
     "metadata": {},
     "output_type": "execute_result"
    }
   ],
   "source": [
    "# find total frequencies for state total and in each period \n",
    "\n",
    "la_freqs = [la_ttl.shape[0],\n",
    "            la_sd.shape[0],\n",
    "            la_2019.shape[0],\n",
    "            la_2018.shape[0],\n",
    "            la_2017.shape[0]\n",
    "           ]\n",
    "\n",
    "# then develop a simple dataframe to compare them\n",
    "la_freq_data = pd.DataFrame({'Timeframe': ['Total','Shut_Down',2019,2018,2017],\n",
    "                                 'Num_Accidents': la_freqs})\n",
    "\n",
    "la_freq_data"
   ]
  },
  {
   "cell_type": "code",
   "execution_count": 81,
   "metadata": {},
   "outputs": [
    {
     "name": "stdout",
     "output_type": "stream",
     "text": [
      "Change Frequency: 13.45%\n"
     ]
    }
   ],
   "source": [
    "# percent change in frequency in 2020 stay-home compared to average past years\n",
    "\n",
    "change = change_freq(la_freq_data)\n",
    "print(\"Change Frequency: %.2f%%\" % (change))"
   ]
  },
  {
   "cell_type": "markdown",
   "metadata": {},
   "source": [
    "#### Severity\n",
    "Now compare severities of car accidents for total, shut-down period in 2020, 2019, 2018, and 2017 (2019, 2018 & 2017 being in same month-day date range as shut-down period) >"
   ]
  },
  {
   "cell_type": "code",
   "execution_count": 82,
   "metadata": {},
   "outputs": [
    {
     "data": {
      "text/html": [
       "<div>\n",
       "<style scoped>\n",
       "    .dataframe tbody tr th:only-of-type {\n",
       "        vertical-align: middle;\n",
       "    }\n",
       "\n",
       "    .dataframe tbody tr th {\n",
       "        vertical-align: top;\n",
       "    }\n",
       "\n",
       "    .dataframe thead th {\n",
       "        text-align: right;\n",
       "    }\n",
       "</style>\n",
       "<table border=\"1\" class=\"dataframe\">\n",
       "  <thead>\n",
       "    <tr style=\"text-align: right;\">\n",
       "      <th></th>\n",
       "      <th>Severity_Rank</th>\n",
       "      <th>TTL</th>\n",
       "      <th>Shut_Down</th>\n",
       "      <th>2019</th>\n",
       "      <th>2018</th>\n",
       "      <th>2017</th>\n",
       "    </tr>\n",
       "  </thead>\n",
       "  <tbody>\n",
       "    <tr>\n",
       "      <th>0</th>\n",
       "      <td>1</td>\n",
       "      <td>2.05</td>\n",
       "      <td>21.21</td>\n",
       "      <td>0.10</td>\n",
       "      <td>0.10</td>\n",
       "      <td>0.00</td>\n",
       "    </tr>\n",
       "    <tr>\n",
       "      <th>1</th>\n",
       "      <td>2</td>\n",
       "      <td>76.57</td>\n",
       "      <td>49.24</td>\n",
       "      <td>78.17</td>\n",
       "      <td>81.82</td>\n",
       "      <td>65.88</td>\n",
       "    </tr>\n",
       "    <tr>\n",
       "      <th>2</th>\n",
       "      <td>3</td>\n",
       "      <td>19.38</td>\n",
       "      <td>24.67</td>\n",
       "      <td>19.79</td>\n",
       "      <td>16.66</td>\n",
       "      <td>9.48</td>\n",
       "    </tr>\n",
       "    <tr>\n",
       "      <th>3</th>\n",
       "      <td>4</td>\n",
       "      <td>2.00</td>\n",
       "      <td>4.88</td>\n",
       "      <td>1.93</td>\n",
       "      <td>1.42</td>\n",
       "      <td>24.64</td>\n",
       "    </tr>\n",
       "  </tbody>\n",
       "</table>\n",
       "</div>"
      ],
      "text/plain": [
       "   Severity_Rank    TTL  Shut_Down   2019   2018   2017\n",
       "0              1   2.05      21.21   0.10   0.10   0.00\n",
       "1              2  76.57      49.24  78.17  81.82  65.88\n",
       "2              3  19.38      24.67  19.79  16.66   9.48\n",
       "3              4   2.00       4.88   1.93   1.42  24.64"
      ]
     },
     "execution_count": 82,
     "metadata": {},
     "output_type": "execute_result"
    }
   ],
   "source": [
    "# first find percentages of severity ranks to total accidents for \n",
    "#   total and for each period \n",
    "\n",
    "la_sp_ttl = severity_percent(la_ttl)\n",
    "la_sp_sd = severity_percent(la_sd)\n",
    "la_sp_2019 = severity_percent(la_2019)\n",
    "la_sp_2018 = severity_percent(la_2018)\n",
    "la_sp_2017 = severity_percent(la_2017)\n",
    "\n",
    "# then again create a simple dataframe for comparison\n",
    "\n",
    "la_severity_data = pd.DataFrame({'Severity_Rank': [1,2,3,4],\n",
    "                                 'TTL': la_sp_ttl,\n",
    "                                 'Shut_Down': la_sp_sd,\n",
    "                                 '2019': la_sp_2019,\n",
    "                                 '2018': la_sp_2018,\n",
    "                                 '2017': la_sp_2017\n",
    "                                })\n",
    "\n",
    "la_severity_data"
   ]
  },
  {
   "cell_type": "code",
   "execution_count": null,
   "metadata": {},
   "outputs": [],
   "source": []
  },
  {
   "cell_type": "markdown",
   "metadata": {},
   "source": [
    "-\n",
    "### Oklahoma\n",
    "\n",
    "First create periods we'll want to compare for the state >"
   ]
  },
  {
   "cell_type": "code",
   "execution_count": 83,
   "metadata": {},
   "outputs": [],
   "source": [
    "# full state period\n",
    "ok_ttl = accident_covid[(accident_covid.State == 'OK')]\n",
    "\n",
    "# shutdown period\n",
    "ok_sd = accident_covid[\n",
    "    (accident_covid.State == 'OK') & \n",
    "    (accident_covid.Shut_Down == 1)]\n",
    "\n",
    "# 2019 \n",
    "ok_2019 = accident_covid[(car_accidents_master['Date'] > '2019-03-24') & \n",
    "                         (car_accidents_master['Date'] <= '2019-05-06') & \n",
    "                         (car_accidents_master['State'] == 'OK')]\n",
    "\n",
    "# 2018\n",
    "ok_2018 = accident_covid[(car_accidents_master['Date'] > '2018-03-24') & \n",
    "                         (car_accidents_master['Date'] <= '2018-05-06') & \n",
    "                         (car_accidents_master['State'] == 'OK')]\n",
    "\n",
    "# 2017\n",
    "ok_2017 = accident_covid[(car_accidents_master['Date'] > '2017-03-24') & \n",
    "                         (car_accidents_master['Date'] <= '2017-05-06') & \n",
    "                         (car_accidents_master['State'] == 'OK')]"
   ]
  },
  {
   "cell_type": "markdown",
   "metadata": {},
   "source": [
    "#### Frequency\n",
    "Now compare frequencies (total number) of car accidents for total, shut-down period in 2020, 2019, 2018, and 2017 (2019, 2018, & 2017 being in same month-day date range as shut-down period) >"
   ]
  },
  {
   "cell_type": "code",
   "execution_count": 84,
   "metadata": {},
   "outputs": [
    {
     "data": {
      "text/html": [
       "<div>\n",
       "<style scoped>\n",
       "    .dataframe tbody tr th:only-of-type {\n",
       "        vertical-align: middle;\n",
       "    }\n",
       "\n",
       "    .dataframe tbody tr th {\n",
       "        vertical-align: top;\n",
       "    }\n",
       "\n",
       "    .dataframe thead th {\n",
       "        text-align: right;\n",
       "    }\n",
       "</style>\n",
       "<table border=\"1\" class=\"dataframe\">\n",
       "  <thead>\n",
       "    <tr style=\"text-align: right;\">\n",
       "      <th></th>\n",
       "      <th>Timeframe</th>\n",
       "      <th>Num_Accidents</th>\n",
       "    </tr>\n",
       "  </thead>\n",
       "  <tbody>\n",
       "    <tr>\n",
       "      <th>0</th>\n",
       "      <td>Total</td>\n",
       "      <td>59972</td>\n",
       "    </tr>\n",
       "    <tr>\n",
       "      <th>1</th>\n",
       "      <td>Shut_Down</td>\n",
       "      <td>1960</td>\n",
       "    </tr>\n",
       "    <tr>\n",
       "      <th>2</th>\n",
       "      <td>2019</td>\n",
       "      <td>2938</td>\n",
       "    </tr>\n",
       "    <tr>\n",
       "      <th>3</th>\n",
       "      <td>2018</td>\n",
       "      <td>2560</td>\n",
       "    </tr>\n",
       "    <tr>\n",
       "      <th>4</th>\n",
       "      <td>2017</td>\n",
       "      <td>136</td>\n",
       "    </tr>\n",
       "  </tbody>\n",
       "</table>\n",
       "</div>"
      ],
      "text/plain": [
       "   Timeframe  Num_Accidents\n",
       "0      Total          59972\n",
       "1  Shut_Down           1960\n",
       "2       2019           2938\n",
       "3       2018           2560\n",
       "4       2017            136"
      ]
     },
     "execution_count": 84,
     "metadata": {},
     "output_type": "execute_result"
    }
   ],
   "source": [
    "# find total frequencies for state total and in each period \n",
    "\n",
    "ok_freqs = [ok_ttl.shape[0],\n",
    "            ok_sd.shape[0],\n",
    "            ok_2019.shape[0],\n",
    "            ok_2018.shape[0],\n",
    "            ok_2017.shape[0]\n",
    "           ]\n",
    "\n",
    "# then develop a simple dataframe to compare them\n",
    "ok_freq_data = pd.DataFrame({'Timeframe': ['Total','Shut_Down',2019,2018,2017],\n",
    "                                 'Num_Accidents': ok_freqs})\n",
    "\n",
    "ok_freq_data"
   ]
  },
  {
   "cell_type": "code",
   "execution_count": 85,
   "metadata": {},
   "outputs": [
    {
     "name": "stdout",
     "output_type": "stream",
     "text": [
      "Change Frequency: 4.37%\n"
     ]
    }
   ],
   "source": [
    "# percent change in frequency in 2020 stay-home compared to average past years\n",
    "\n",
    "change = change_freq(ok_freq_data)\n",
    "print(\"Change Frequency: %.2f%%\" % (change))"
   ]
  },
  {
   "cell_type": "markdown",
   "metadata": {},
   "source": [
    "#### Severity\n",
    "Now compare severities of car accidents for total, shut-down period in 2020, 2019, 2018, and 2017 (2019, 2018 & 2017 being in same month-day date range as shut-down period) >"
   ]
  },
  {
   "cell_type": "code",
   "execution_count": 86,
   "metadata": {},
   "outputs": [
    {
     "data": {
      "text/html": [
       "<div>\n",
       "<style scoped>\n",
       "    .dataframe tbody tr th:only-of-type {\n",
       "        vertical-align: middle;\n",
       "    }\n",
       "\n",
       "    .dataframe tbody tr th {\n",
       "        vertical-align: top;\n",
       "    }\n",
       "\n",
       "    .dataframe thead th {\n",
       "        text-align: right;\n",
       "    }\n",
       "</style>\n",
       "<table border=\"1\" class=\"dataframe\">\n",
       "  <thead>\n",
       "    <tr style=\"text-align: right;\">\n",
       "      <th></th>\n",
       "      <th>Severity_Rank</th>\n",
       "      <th>TTL</th>\n",
       "      <th>Shut_Down</th>\n",
       "      <th>2019</th>\n",
       "      <th>2018</th>\n",
       "      <th>2017</th>\n",
       "    </tr>\n",
       "  </thead>\n",
       "  <tbody>\n",
       "    <tr>\n",
       "      <th>0</th>\n",
       "      <td>1</td>\n",
       "      <td>0.12</td>\n",
       "      <td>0.36</td>\n",
       "      <td>0.03</td>\n",
       "      <td>0.04</td>\n",
       "      <td>0.00</td>\n",
       "    </tr>\n",
       "    <tr>\n",
       "      <th>1</th>\n",
       "      <td>2</td>\n",
       "      <td>89.32</td>\n",
       "      <td>83.88</td>\n",
       "      <td>92.41</td>\n",
       "      <td>90.20</td>\n",
       "      <td>78.68</td>\n",
       "    </tr>\n",
       "    <tr>\n",
       "      <th>2</th>\n",
       "      <td>3</td>\n",
       "      <td>9.82</td>\n",
       "      <td>15.36</td>\n",
       "      <td>7.35</td>\n",
       "      <td>9.34</td>\n",
       "      <td>5.88</td>\n",
       "    </tr>\n",
       "    <tr>\n",
       "      <th>3</th>\n",
       "      <td>4</td>\n",
       "      <td>0.73</td>\n",
       "      <td>0.41</td>\n",
       "      <td>0.20</td>\n",
       "      <td>0.43</td>\n",
       "      <td>15.44</td>\n",
       "    </tr>\n",
       "  </tbody>\n",
       "</table>\n",
       "</div>"
      ],
      "text/plain": [
       "   Severity_Rank    TTL  Shut_Down   2019   2018   2017\n",
       "0              1   0.12       0.36   0.03   0.04   0.00\n",
       "1              2  89.32      83.88  92.41  90.20  78.68\n",
       "2              3   9.82      15.36   7.35   9.34   5.88\n",
       "3              4   0.73       0.41   0.20   0.43  15.44"
      ]
     },
     "execution_count": 86,
     "metadata": {},
     "output_type": "execute_result"
    }
   ],
   "source": [
    "# first find percentages of severity ranks to total accidents for \n",
    "#   total and for each period \n",
    "\n",
    "ok_sp_ttl = severity_percent(ok_ttl)\n",
    "ok_sp_sd = severity_percent(ok_sd)\n",
    "ok_sp_2019 = severity_percent(ok_2019)\n",
    "ok_sp_2018 = severity_percent(ok_2018)\n",
    "ok_sp_2017 = severity_percent(ok_2017)\n",
    "\n",
    "# then again create a simple dataframe for comparison\n",
    "\n",
    "ok_severity_data = pd.DataFrame({'Severity_Rank': [1,2,3,4],\n",
    "                                 'TTL': ok_sp_ttl,\n",
    "                                 'Shut_Down': ok_sp_sd,\n",
    "                                 '2019': ok_sp_2019,\n",
    "                                 '2018': ok_sp_2018,\n",
    "                                 '2017': ok_sp_2017\n",
    "                                })\n",
    "\n",
    "ok_severity_data"
   ]
  },
  {
   "cell_type": "code",
   "execution_count": null,
   "metadata": {},
   "outputs": [],
   "source": []
  },
  {
   "cell_type": "markdown",
   "metadata": {},
   "source": [
    "-\n",
    "### New Jersey\n",
    "\n",
    "First create periods we'll want to compare for the state >"
   ]
  },
  {
   "cell_type": "code",
   "execution_count": 87,
   "metadata": {},
   "outputs": [],
   "source": [
    "# full state period\n",
    "nj_ttl = accident_covid[(accident_covid.State == 'NJ')]\n",
    "\n",
    "# shutdown period\n",
    "nj_sd = accident_covid[\n",
    "    (accident_covid.State == 'NJ') & \n",
    "    (accident_covid.Shut_Down == 1)]\n",
    "\n",
    "# 2019 \n",
    "nj_2019 = accident_covid[(car_accidents_master['Date'] > '2019-03-21') & \n",
    "                         (car_accidents_master['Date'] <= '2019-06-30') & \n",
    "                         (car_accidents_master['State'] == 'NJ')]\n",
    "\n",
    "# 2018\n",
    "nj_2018 = accident_covid[(car_accidents_master['Date'] > '2018-03-21') & \n",
    "                         (car_accidents_master['Date'] <= '2018-06-30') & \n",
    "                         (car_accidents_master['State'] == 'NJ')]\n",
    "\n",
    "# 2017\n",
    "nj_2017 = accident_covid[(car_accidents_master['Date'] > '2017-03-21') & \n",
    "                         (car_accidents_master['Date'] <= '2017-06-30') & \n",
    "                         (car_accidents_master['State'] == 'NJ')]"
   ]
  },
  {
   "cell_type": "markdown",
   "metadata": {},
   "source": [
    "#### Frequency\n",
    "Now compare frequencies (total number) of car accidents for total, shut-down period in 2020, 2019, 2018, and 2017 (2019, 2018, & 2017 being in same month-day date range as shut-down period) >"
   ]
  },
  {
   "cell_type": "code",
   "execution_count": 88,
   "metadata": {},
   "outputs": [
    {
     "data": {
      "text/html": [
       "<div>\n",
       "<style scoped>\n",
       "    .dataframe tbody tr th:only-of-type {\n",
       "        vertical-align: middle;\n",
       "    }\n",
       "\n",
       "    .dataframe tbody tr th {\n",
       "        vertical-align: top;\n",
       "    }\n",
       "\n",
       "    .dataframe thead th {\n",
       "        text-align: right;\n",
       "    }\n",
       "</style>\n",
       "<table border=\"1\" class=\"dataframe\">\n",
       "  <thead>\n",
       "    <tr style=\"text-align: right;\">\n",
       "      <th></th>\n",
       "      <th>Timeframe</th>\n",
       "      <th>Num_Accidents</th>\n",
       "    </tr>\n",
       "  </thead>\n",
       "  <tbody>\n",
       "    <tr>\n",
       "      <th>0</th>\n",
       "      <td>Total</td>\n",
       "      <td>59052</td>\n",
       "    </tr>\n",
       "    <tr>\n",
       "      <th>1</th>\n",
       "      <td>Shut_Down</td>\n",
       "      <td>4724</td>\n",
       "    </tr>\n",
       "    <tr>\n",
       "      <th>2</th>\n",
       "      <td>2019</td>\n",
       "      <td>3932</td>\n",
       "    </tr>\n",
       "    <tr>\n",
       "      <th>3</th>\n",
       "      <td>2018</td>\n",
       "      <td>4361</td>\n",
       "    </tr>\n",
       "    <tr>\n",
       "      <th>4</th>\n",
       "      <td>2017</td>\n",
       "      <td>3642</td>\n",
       "    </tr>\n",
       "  </tbody>\n",
       "</table>\n",
       "</div>"
      ],
      "text/plain": [
       "   Timeframe  Num_Accidents\n",
       "0      Total          59052\n",
       "1  Shut_Down           4724\n",
       "2       2019           3932\n",
       "3       2018           4361\n",
       "4       2017           3642"
      ]
     },
     "execution_count": 88,
     "metadata": {},
     "output_type": "execute_result"
    }
   ],
   "source": [
    "# find total frequencies for state total and in each period \n",
    "\n",
    "nj_freqs = [nj_ttl.shape[0],\n",
    "            nj_sd.shape[0],\n",
    "            nj_2019.shape[0],\n",
    "            nj_2018.shape[0],\n",
    "            nj_2017.shape[0]\n",
    "           ]\n",
    "\n",
    "# then develop a simple dataframe to compare them\n",
    "nj_freq_data = pd.DataFrame({'Timeframe': ['Total','Shut_Down',2019,2018,2017],\n",
    "                                 'Num_Accidents': nj_freqs})\n",
    "\n",
    "nj_freq_data"
   ]
  },
  {
   "cell_type": "code",
   "execution_count": 89,
   "metadata": {},
   "outputs": [
    {
     "name": "stdout",
     "output_type": "stream",
     "text": [
      "Change Frequency: 18.74%\n"
     ]
    }
   ],
   "source": [
    "# percent change in frequency in 2020 stay-home compared to average past years\n",
    "\n",
    "change = change_freq(nj_freq_data)\n",
    "print(\"Change Frequency: %.2f%%\" % (change))"
   ]
  },
  {
   "cell_type": "markdown",
   "metadata": {},
   "source": [
    "#### Severity\n",
    "Now compare severities of car accidents for total, shut-down period in 2020, 2019, 2018, and 2017 (2019, 2018 & 2017 being in same month-day date range as shut-down period) >"
   ]
  },
  {
   "cell_type": "code",
   "execution_count": 90,
   "metadata": {},
   "outputs": [
    {
     "data": {
      "text/html": [
       "<div>\n",
       "<style scoped>\n",
       "    .dataframe tbody tr th:only-of-type {\n",
       "        vertical-align: middle;\n",
       "    }\n",
       "\n",
       "    .dataframe tbody tr th {\n",
       "        vertical-align: top;\n",
       "    }\n",
       "\n",
       "    .dataframe thead th {\n",
       "        text-align: right;\n",
       "    }\n",
       "</style>\n",
       "<table border=\"1\" class=\"dataframe\">\n",
       "  <thead>\n",
       "    <tr style=\"text-align: right;\">\n",
       "      <th></th>\n",
       "      <th>Severity_Rank</th>\n",
       "      <th>TTL</th>\n",
       "      <th>Shut_Down</th>\n",
       "      <th>2019</th>\n",
       "      <th>2018</th>\n",
       "      <th>2017</th>\n",
       "    </tr>\n",
       "  </thead>\n",
       "  <tbody>\n",
       "    <tr>\n",
       "      <th>0</th>\n",
       "      <td>1</td>\n",
       "      <td>0.16</td>\n",
       "      <td>1.44</td>\n",
       "      <td>0.08</td>\n",
       "      <td>0.05</td>\n",
       "      <td>0.05</td>\n",
       "    </tr>\n",
       "    <tr>\n",
       "      <th>1</th>\n",
       "      <td>2</td>\n",
       "      <td>66.31</td>\n",
       "      <td>48.65</td>\n",
       "      <td>68.79</td>\n",
       "      <td>62.88</td>\n",
       "      <td>68.62</td>\n",
       "    </tr>\n",
       "    <tr>\n",
       "      <th>2</th>\n",
       "      <td>3</td>\n",
       "      <td>27.16</td>\n",
       "      <td>32.66</td>\n",
       "      <td>25.38</td>\n",
       "      <td>32.22</td>\n",
       "      <td>26.39</td>\n",
       "    </tr>\n",
       "    <tr>\n",
       "      <th>3</th>\n",
       "      <td>4</td>\n",
       "      <td>6.38</td>\n",
       "      <td>17.25</td>\n",
       "      <td>5.75</td>\n",
       "      <td>4.86</td>\n",
       "      <td>4.94</td>\n",
       "    </tr>\n",
       "  </tbody>\n",
       "</table>\n",
       "</div>"
      ],
      "text/plain": [
       "   Severity_Rank    TTL  Shut_Down   2019   2018   2017\n",
       "0              1   0.16       1.44   0.08   0.05   0.05\n",
       "1              2  66.31      48.65  68.79  62.88  68.62\n",
       "2              3  27.16      32.66  25.38  32.22  26.39\n",
       "3              4   6.38      17.25   5.75   4.86   4.94"
      ]
     },
     "execution_count": 90,
     "metadata": {},
     "output_type": "execute_result"
    }
   ],
   "source": [
    "# first find percentages of severity ranks to total accidents for \n",
    "#   total and for each period \n",
    "\n",
    "nj_sp_ttl = severity_percent(nj_ttl)\n",
    "nj_sp_sd = severity_percent(nj_sd)\n",
    "nj_sp_2019 = severity_percent(nj_2019)\n",
    "nj_sp_2018 = severity_percent(nj_2018)\n",
    "nj_sp_2017 = severity_percent(nj_2017)\n",
    "\n",
    "# then again create a simple dataframe for comparison\n",
    "\n",
    "nj_severity_data = pd.DataFrame({'Severity_Rank': [1,2,3,4],\n",
    "                                 'TTL': nj_sp_ttl,\n",
    "                                 'Shut_Down': nj_sp_sd,\n",
    "                                 '2019': nj_sp_2019,\n",
    "                                 '2018': nj_sp_2018,\n",
    "                                 '2017': nj_sp_2017\n",
    "                                })\n",
    "\n",
    "nj_severity_data"
   ]
  },
  {
   "cell_type": "markdown",
   "metadata": {},
   "source": [
    "-\n",
    "### Top 20 States Averages\n",
    "\n",
    "Combining numbers for the Top 20 states to see average trends for those states >"
   ]
  },
  {
   "cell_type": "markdown",
   "metadata": {},
   "source": [
    "#### Frequency"
   ]
  },
  {
   "cell_type": "code",
   "execution_count": 91,
   "metadata": {},
   "outputs": [
    {
     "data": {
      "text/html": [
       "<div>\n",
       "<style scoped>\n",
       "    .dataframe tbody tr th:only-of-type {\n",
       "        vertical-align: middle;\n",
       "    }\n",
       "\n",
       "    .dataframe tbody tr th {\n",
       "        vertical-align: top;\n",
       "    }\n",
       "\n",
       "    .dataframe thead th {\n",
       "        text-align: right;\n",
       "    }\n",
       "</style>\n",
       "<table border=\"1\" class=\"dataframe\">\n",
       "  <thead>\n",
       "    <tr style=\"text-align: right;\">\n",
       "      <th></th>\n",
       "      <th>Timeframe</th>\n",
       "      <th>Num_Accidents</th>\n",
       "    </tr>\n",
       "  </thead>\n",
       "  <tbody>\n",
       "    <tr>\n",
       "      <th>0</th>\n",
       "      <td>Total</td>\n",
       "      <td>3031638</td>\n",
       "    </tr>\n",
       "    <tr>\n",
       "      <th>1</th>\n",
       "      <td>Shut_Down</td>\n",
       "      <td>172360</td>\n",
       "    </tr>\n",
       "    <tr>\n",
       "      <th>2</th>\n",
       "      <td>2019</td>\n",
       "      <td>120135</td>\n",
       "    </tr>\n",
       "    <tr>\n",
       "      <th>3</th>\n",
       "      <td>2018</td>\n",
       "      <td>126481</td>\n",
       "    </tr>\n",
       "    <tr>\n",
       "      <th>4</th>\n",
       "      <td>2017</td>\n",
       "      <td>94089</td>\n",
       "    </tr>\n",
       "  </tbody>\n",
       "</table>\n",
       "</div>"
      ],
      "text/plain": [
       "   Timeframe  Num_Accidents\n",
       "0      Total        3031638\n",
       "1  Shut_Down         172360\n",
       "2       2019         120135\n",
       "3       2018         126481\n",
       "4       2017          94089"
      ]
     },
     "execution_count": 91,
     "metadata": {},
     "output_type": "execute_result"
    }
   ],
   "source": [
    "# combine fequency data for the top 20 states \n",
    "\n",
    "top20_freq_data = (ca_freq_data + \n",
    "                   tx_freq_data +\n",
    "                   fl_freq_data +\n",
    "                   sc_freq_data +\n",
    "                   nc_freq_data +\n",
    "                   ny_freq_data +\n",
    "                   pa_freq_data +\n",
    "                   il_freq_data +\n",
    "                   va_freq_data +\n",
    "                   mi_freq_data +\n",
    "                   ga_freq_data + \n",
    "                   or_freq_data +\n",
    "                   mn_freq_data +\n",
    "                   az_freq_data +\n",
    "                   tn_freq_data +\n",
    "                   wa_freq_data +\n",
    "                   oh_freq_data +\n",
    "                   la_freq_data +\n",
    "                   ok_freq_data +\n",
    "                   nj_freq_data)\n",
    "\n",
    "top20_freq_data['Timeframe'] = ['Total','Shut_Down',2019,2018,2017]\n",
    "\n",
    "top20_freq_data"
   ]
  },
  {
   "cell_type": "markdown",
   "metadata": {},
   "source": [
    "Now find change in 2020 shutdown period compared to average of past three years >"
   ]
  },
  {
   "cell_type": "code",
   "execution_count": 92,
   "metadata": {},
   "outputs": [
    {
     "name": "stdout",
     "output_type": "stream",
     "text": [
      "Change Frequency: 51.77%\n"
     ]
    }
   ],
   "source": [
    "# percent change in frequency in 2020 stay-home compared to average past years\n",
    "\n",
    "change = change_freq(top20_freq_data)\n",
    "print(\"Change Frequency: %.2f%%\" % (change))"
   ]
  },
  {
   "cell_type": "markdown",
   "metadata": {},
   "source": [
    "#### Severity\n",
    "\n",
    "For average severity rank for top 10 states, we will include weighting for each state based on the states number of accidents compared to all accidents for the top 10 states"
   ]
  },
  {
   "cell_type": "code",
   "execution_count": 93,
   "metadata": {},
   "outputs": [
    {
     "data": {
      "text/plain": [
       "0.019478578906848378"
      ]
     },
     "execution_count": 93,
     "metadata": {},
     "output_type": "execute_result"
    }
   ],
   "source": [
    "# finding weight for each state to then include in next cell\n",
    "\n",
    "len(accident_covid[accident_covid.State == 'NJ'])/accident_covid.State.value_counts()[:20].sum()"
   ]
  },
  {
   "cell_type": "code",
   "execution_count": 94,
   "metadata": {},
   "outputs": [
    {
     "data": {
      "text/html": [
       "<div>\n",
       "<style scoped>\n",
       "    .dataframe tbody tr th:only-of-type {\n",
       "        vertical-align: middle;\n",
       "    }\n",
       "\n",
       "    .dataframe tbody tr th {\n",
       "        vertical-align: top;\n",
       "    }\n",
       "\n",
       "    .dataframe thead th {\n",
       "        text-align: right;\n",
       "    }\n",
       "</style>\n",
       "<table border=\"1\" class=\"dataframe\">\n",
       "  <thead>\n",
       "    <tr style=\"text-align: right;\">\n",
       "      <th></th>\n",
       "      <th>Severity_Rank</th>\n",
       "      <th>TTL</th>\n",
       "      <th>Shut_Down</th>\n",
       "      <th>2019</th>\n",
       "      <th>2018</th>\n",
       "      <th>2017</th>\n",
       "    </tr>\n",
       "  </thead>\n",
       "  <tbody>\n",
       "    <tr>\n",
       "      <th>0</th>\n",
       "      <td>0.96</td>\n",
       "      <td>0.88</td>\n",
       "      <td>8.97</td>\n",
       "      <td>0.02</td>\n",
       "      <td>0.03</td>\n",
       "      <td>0.05</td>\n",
       "    </tr>\n",
       "    <tr>\n",
       "      <th>1</th>\n",
       "      <td>1.92</td>\n",
       "      <td>66.49</td>\n",
       "      <td>63.51</td>\n",
       "      <td>65.91</td>\n",
       "      <td>60.82</td>\n",
       "      <td>64.51</td>\n",
       "    </tr>\n",
       "    <tr>\n",
       "      <th>2</th>\n",
       "      <td>2.88</td>\n",
       "      <td>26.14</td>\n",
       "      <td>19.60</td>\n",
       "      <td>27.16</td>\n",
       "      <td>33.01</td>\n",
       "      <td>26.17</td>\n",
       "    </tr>\n",
       "    <tr>\n",
       "      <th>3</th>\n",
       "      <td>3.85</td>\n",
       "      <td>2.64</td>\n",
       "      <td>4.07</td>\n",
       "      <td>3.06</td>\n",
       "      <td>2.30</td>\n",
       "      <td>5.43</td>\n",
       "    </tr>\n",
       "  </tbody>\n",
       "</table>\n",
       "</div>"
      ],
      "text/plain": [
       "   Severity_Rank    TTL  Shut_Down   2019   2018   2017\n",
       "0           0.96   0.88       8.97   0.02   0.03   0.05\n",
       "1           1.92  66.49      63.51  65.91  60.82  64.51\n",
       "2           2.88  26.14      19.60  27.16  33.01  26.17\n",
       "3           3.85   2.64       4.07   3.06   2.30   5.43"
      ]
     },
     "execution_count": 94,
     "metadata": {},
     "output_type": "execute_result"
    }
   ],
   "source": [
    "# add all state severity dfs together\n",
    "\n",
    "top20_severity_data = (ca_severity_data * 27 +\n",
    "                       tx_severity_data * 11 +\n",
    "                       fl_severity_data * 9 +\n",
    "                       sc_severity_data * 6 +\n",
    "                       nc_severity_data * 5 +\n",
    "                       ny_severity_data * 5 +\n",
    "                       pa_severity_data * 4 +\n",
    "                       il_severity_data * 3 +\n",
    "                       va_severity_data * 3 +\n",
    "                       mi_severity_data * 3 +\n",
    "                       ga_severity_data * 3 +\n",
    "                       or_severity_data * 3 +\n",
    "                       mn_severity_data * 3 +\n",
    "                       az_severity_data * 3 +\n",
    "                       tn_severity_data * 2 +\n",
    "                       wa_severity_data * 2 +\n",
    "                       oh_severity_data * 2 +\n",
    "                       la_severity_data * 2 +\n",
    "                       ok_severity_data * 2 +\n",
    "                       nj_severity_data * 2 )\n",
    "\n",
    "# get average for the 20 states\n",
    "top20_severity_data = round(top20_severity_data.div(104),2)\n",
    "\n",
    "top20_severity_data"
   ]
  },
  {
   "cell_type": "code",
   "execution_count": 95,
   "metadata": {},
   "outputs": [
    {
     "name": "stdout",
     "output_type": "stream",
     "text": [
      "Percent Change in 2020 stay-home period vs. average 2017-2019:\n"
     ]
    },
    {
     "data": {
      "text/plain": [
       "8870.0"
      ]
     },
     "execution_count": 95,
     "metadata": {},
     "output_type": "execute_result"
    }
   ],
   "source": [
    "# (2020 value - average 2017-2019) / average 2017-2019 * 100\n",
    "\n",
    "sev1_2020 = top20_severity_data.Shut_Down[0]\n",
    "\n",
    "sev1_avg_past = np.mean(top20_severity_data['2017'][0] + \n",
    "                        top20_severity_data['2018'][0] + \n",
    "                        top20_severity_data['2019'][0])\n",
    "\n",
    "print('Percent Change in 2020 stay-home period vs. average 2017-2019:')\n",
    "((sev1_2020 - sev1_avg_past) / sev1_avg_past) * 100"
   ]
  },
  {
   "cell_type": "markdown",
   "metadata": {},
   "source": [
    "#### Top 20 Takeaways:\n",
    "- Frequency: See a 51% increase during shutdown period compared to past periods\n",
    "- Severity: See greatest shift in severity 1 -- an increase of 8,870%.  Severity 4's are also showing an increase compared to 2019 and 2018, but not to 2017.  Changes in severity 4 seem to be more on a state-by-state basis"
   ]
  },
  {
   "cell_type": "code",
   "execution_count": null,
   "metadata": {},
   "outputs": [],
   "source": []
  }
 ],
 "metadata": {
  "environment": {
   "name": "common-cpu.m54",
   "type": "gcloud",
   "uri": "gcr.io/deeplearning-platform-release/base-cpu:m54"
  },
  "kernelspec": {
   "display_name": "Python 3",
   "language": "python",
   "name": "python3"
  },
  "language_info": {
   "codemirror_mode": {
    "name": "ipython",
    "version": 3
   },
   "file_extension": ".py",
   "mimetype": "text/x-python",
   "name": "python",
   "nbconvert_exporter": "python",
   "pygments_lexer": "ipython3",
   "version": "3.7.8"
  }
 },
 "nbformat": 4,
 "nbformat_minor": 4
}
